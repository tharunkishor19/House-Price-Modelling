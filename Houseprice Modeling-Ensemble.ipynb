{
 "cells": [
  {
   "cell_type": "markdown",
   "metadata": {
    "colab_type": "text",
    "id": "lE0yXRB_HcjJ"
   },
   "source": [
    "# Results\n"
   ]
  },
  {
   "cell_type": "markdown",
   "metadata": {},
   "source": [
    "After running several models Voting Regressor with top 5  models provides the best results for the dataset and the results are shown below:\n",
    "\n",
    "\n",
    "Best Mean Cross Validation Score is 90.1%\n",
    "\n",
    "Train score is 94.62%\n",
    "\n",
    "Test score is 89.23%\n",
    "\n",
    "Train mse: 335494376.09\n",
    "\n",
    "Train rmse: 18316.50\n",
    "\n",
    "Test mse: 739561710.33\n",
    "\n",
    "Test rmse: 27194.88"
   ]
  },
  {
   "cell_type": "markdown",
   "metadata": {
    "colab_type": "text",
    "id": "JLSXxPkVHcjL"
   },
   "source": [
    "## Data PreProcessing"
   ]
  },
  {
   "cell_type": "code",
   "execution_count": 1,
   "metadata": {
    "ExecuteTime": {
     "end_time": "2020-03-09T07:32:49.555666Z",
     "start_time": "2020-03-09T07:32:49.545638Z"
    },
    "colab": {},
    "colab_type": "code",
    "id": "nDZBLI0OHcjM"
   },
   "outputs": [],
   "source": [
    "from math import sqrt\n",
    "import pandas as pd\n",
    "import numpy as np\n",
    "import matplotlib.pyplot as plt\n",
    "import seaborn as sns\n",
    "import scipy.stats as stats\n",
    "\n",
    "pd.pandas.set_option('display.max_columns', None)\n",
    "%matplotlib inline"
   ]
  },
  {
   "cell_type": "markdown",
   "metadata": {
    "colab_type": "text",
    "id": "Un--XF1EHcjP"
   },
   "source": [
    "### Load Datasets"
   ]
  },
  {
   "cell_type": "code",
   "execution_count": 2,
   "metadata": {
    "ExecuteTime": {
     "end_time": "2020-03-09T07:32:50.854852Z",
     "start_time": "2020-03-09T07:32:50.812739Z"
    },
    "colab": {
     "base_uri": "https://localhost:8080/",
     "height": 34
    },
    "colab_type": "code",
    "id": "SxBWR-txHcjQ",
    "outputId": "16077aac-9368-40b6-8a02-abec2fa1d416"
   },
   "outputs": [],
   "source": [
    "# load dataset\n",
    "# your code here"
   ]
  },
  {
   "cell_type": "code",
   "execution_count": 3,
   "metadata": {
    "colab": {},
    "colab_type": "code",
    "id": "G84r_d5TJJMp"
   },
   "outputs": [],
   "source": [
    "data = pd.read_csv(\"C:/Users/tharu/OneDrive/Desktop/MS-Sem 2/Applied Machine Learning/Lectures/Module -2/houseprice.csv\")"
   ]
  },
  {
   "cell_type": "markdown",
   "metadata": {
    "colab_type": "text",
    "id": "X5-VdSlWHcjT"
   },
   "source": [
    "### Types of variables\n",
    "\n"
   ]
  },
  {
   "cell_type": "code",
   "execution_count": 4,
   "metadata": {
    "ExecuteTime": {
     "end_time": "2020-03-09T07:32:51.725905Z",
     "start_time": "2020-03-09T07:32:51.719889Z"
    },
    "colab": {
     "base_uri": "https://localhost:8080/",
     "height": 51
    },
    "colab_type": "code",
    "id": "Edtt7HVIHcjU",
    "outputId": "1d6d78cb-d8b1-49e2-c2a7-83308690e109"
   },
   "outputs": [
    {
     "name": "stdout",
     "output_type": "stream",
     "text": [
      "Number of House Id labels:  1460\n",
      "Number of Houses in the Dataset:  1460\n"
     ]
    }
   ],
   "source": [
    "# we have an Id variable, that we should not use for predictions:\n",
    "\n",
    "print('Number of House Id labels: ', len(data.Id.unique()))\n",
    "print('Number of Houses in the Dataset: ', len(data))"
   ]
  },
  {
   "cell_type": "markdown",
   "metadata": {
    "colab_type": "text",
    "id": "dIIvDIItHcjZ"
   },
   "source": [
    "#### Find categorical variables"
   ]
  },
  {
   "cell_type": "code",
   "execution_count": 5,
   "metadata": {
    "ExecuteTime": {
     "end_time": "2020-03-09T07:32:53.140553Z",
     "start_time": "2020-03-09T07:32:53.135036Z"
    },
    "colab": {
     "base_uri": "https://localhost:8080/",
     "height": 34
    },
    "colab_type": "code",
    "id": "Sz84zD9yHcjZ",
    "outputId": "aa333254-c4a5-46ff-a8f4-ceb516e3d9ab"
   },
   "outputs": [
    {
     "name": "stdout",
     "output_type": "stream",
     "text": [
      "There are 43 categorical variables\n"
     ]
    }
   ],
   "source": [
    "# find categorical variables- hint data type = 'O'\n",
    "\n",
    "categorical = [var for var in data.columns if data[var].dtype=='O']\n",
    "\n",
    "print(f'There are {len(categorical)} categorical variables')"
   ]
  },
  {
   "cell_type": "markdown",
   "metadata": {
    "colab_type": "text",
    "id": "YNMfYuZXHcjd"
   },
   "source": [
    "#### Find temporal variables"
   ]
  },
  {
   "cell_type": "code",
   "execution_count": 6,
   "metadata": {
    "ExecuteTime": {
     "end_time": "2020-03-09T07:32:54.328164Z",
     "start_time": "2020-03-09T07:32:54.321146Z"
    },
    "colab": {
     "base_uri": "https://localhost:8080/",
     "height": 34
    },
    "colab_type": "code",
    "id": "OclpwzNuHcje",
    "outputId": "60062b7c-f24b-4a5c-f1c7-12255abd9697"
   },
   "outputs": [
    {
     "data": {
      "text/plain": [
       "['YearBuilt', 'YearRemodAdd', 'GarageYrBlt', 'YrSold']"
      ]
     },
     "execution_count": 6,
     "metadata": {},
     "output_type": "execute_result"
    }
   ],
   "source": [
    "# make a list of the numerical variables first= Hint data type != O\n",
    "numerical = [var for var in data.columns if data[var].dtype!='O']\n",
    "\n",
    "# list of variables that contain year information= Hint variable namme has Yr or \n",
    "year_vars = [var for var in numerical if 'Yr' in var or 'Year' in var]\n",
    "\n",
    "year_vars"
   ]
  },
  {
   "cell_type": "markdown",
   "metadata": {
    "colab_type": "text",
    "id": "m8aI9HCNHcjh"
   },
   "source": [
    "#### Find discrete variables\n",
    "\n",
    "To identify discrete variables- numerical variables with less than 20 unique values "
   ]
  },
  {
   "cell_type": "code",
   "execution_count": 7,
   "metadata": {
    "ExecuteTime": {
     "end_time": "2020-03-09T07:32:55.849304Z",
     "start_time": "2020-03-09T07:32:55.835765Z"
    },
    "colab": {
     "base_uri": "https://localhost:8080/",
     "height": 34
    },
    "colab_type": "code",
    "id": "2HlsqGq0Hcji",
    "outputId": "57309ad1-a0dc-4dad-c623-29b5df8c57dc"
   },
   "outputs": [
    {
     "name": "stdout",
     "output_type": "stream",
     "text": [
      "There are 14 discrete variables\n"
     ]
    }
   ],
   "source": [
    "# let's visualise the values of the discrete variables\n",
    "discrete = [var for var in numerical if len(data[var].unique()) < 20 and var not in year_vars]\n",
    "\n",
    "print(f'There are {len(discrete)} discrete variables')"
   ]
  },
  {
   "cell_type": "markdown",
   "metadata": {
    "colab_type": "text",
    "id": "rzDr0xk-Hcjk"
   },
   "source": [
    "#### Continuous variables"
   ]
  },
  {
   "cell_type": "code",
   "execution_count": 8,
   "metadata": {
    "ExecuteTime": {
     "end_time": "2020-03-09T07:32:57.274949Z",
     "start_time": "2020-03-09T07:32:57.268932Z"
    },
    "colab": {
     "base_uri": "https://localhost:8080/",
     "height": 34
    },
    "colab_type": "code",
    "id": "ZOOc_pwAHcjl",
    "outputId": "5c4f9150-150a-4533-e7db-a20cac737333"
   },
   "outputs": [
    {
     "name": "stdout",
     "output_type": "stream",
     "text": [
      "There are 38 numerical and continuous variables\n"
     ]
    }
   ],
   "source": [
    "# find continuous variables- hint numerical variables not in discrete and  year_years \n",
    "# Also remove the Id variable and the target variable SalePrice\n",
    "# which are both also numerical\n",
    "\n",
    "continuous = [var for var in numerical if var not in discrete and var not in [\n",
    "    'Id', 'SalePrice'] and var not in year_vars]\n",
    "\n",
    "print('There are {} numerical and continuous variables'.format(len(numerical)))"
   ]
  },
  {
   "cell_type": "markdown",
   "metadata": {
    "colab_type": "text",
    "id": "GiKAaIDvHcjo"
   },
   "source": [
    "### Separate train and test set"
   ]
  },
  {
   "cell_type": "code",
   "execution_count": 9,
   "metadata": {
    "ExecuteTime": {
     "end_time": "2020-03-09T07:32:58.666697Z",
     "start_time": "2020-03-09T07:32:58.651653Z"
    },
    "colab": {
     "base_uri": "https://localhost:8080/",
     "height": 34
    },
    "colab_type": "code",
    "id": "9-KeS5zNHcjo",
    "outputId": "d407f878-a886-4477-f96b-ebe4168f7832"
   },
   "outputs": [
    {
     "data": {
      "text/plain": [
       "((1314, 79), (146, 79))"
      ]
     },
     "execution_count": 9,
     "metadata": {},
     "output_type": "execute_result"
    }
   ],
   "source": [
    "# Let's separate into train and test set\n",
    "from sklearn.model_selection import train_test_split\n",
    "X_train, X_test, y_train, y_test = train_test_split(data.drop(['Id', 'SalePrice'], axis=1),\n",
    "                                                    data['SalePrice'],\n",
    "                                                    test_size=0.1,\n",
    "                                                    random_state=0)\n",
    "\n",
    "X_train.shape, X_test.shape"
   ]
  },
  {
   "cell_type": "markdown",
   "metadata": {
    "colab_type": "text",
    "id": "p2RW2x6xHcjr"
   },
   "source": [
    "**Now we will move on and engineer the features of this dataset. The most important part for this course.**"
   ]
  },
  {
   "cell_type": "markdown",
   "metadata": {
    "colab_type": "text",
    "id": "5SGmZUBwHcjr"
   },
   "source": [
    "### Craete New Variables\n",
    "\n",
    "Replace 'YearBuilt', 'YearRemodAdd', 'GarageYrBlt  with time elapsed since YrSold\n",
    "So YearBuilt = YrSold-YearBuilt. \n",
    "\n",
    "Similarly transform 'YearRemodAdd', 'GarageYrBlt.\n",
    "After making transformation drop YrSold"
   ]
  },
  {
   "cell_type": "code",
   "execution_count": 10,
   "metadata": {
    "ExecuteTime": {
     "end_time": "2020-03-09T07:33:00.776674Z",
     "start_time": "2020-03-09T07:33:00.771663Z"
    },
    "colab": {},
    "colab_type": "code",
    "id": "Hw0fuHIPHcjs"
   },
   "outputs": [],
   "source": [
    "# function to calculate elapsed time\n",
    "\n",
    "def elapsed_years(df, var):\n",
    "    # capture difference between year variable and\n",
    "    # year the house was sold\n",
    "    \n",
    "    df[var] = df['YrSold'] - df[var]\n",
    "    return df"
   ]
  },
  {
   "cell_type": "code",
   "execution_count": 11,
   "metadata": {
    "ExecuteTime": {
     "end_time": "2020-03-09T07:33:02.547542Z",
     "start_time": "2020-03-09T07:33:02.540522Z"
    },
    "colab": {},
    "colab_type": "code",
    "id": "khN0E7cSHcjv"
   },
   "outputs": [],
   "source": [
    "for var in ['YearBuilt', 'YearRemodAdd', 'GarageYrBlt']:\n",
    "    X_train = elapsed_years(X_train, var)\n",
    "    X_test = elapsed_years(X_test, var)"
   ]
  },
  {
   "cell_type": "code",
   "execution_count": 12,
   "metadata": {
    "ExecuteTime": {
     "end_time": "2020-03-09T07:33:03.567722Z",
     "start_time": "2020-03-09T07:33:03.559698Z"
    },
    "colab": {},
    "colab_type": "code",
    "id": "gf9B9bFaHcjx"
   },
   "outputs": [],
   "source": [
    "# drop YrSold\n",
    "X_train.drop('YrSold', axis=1, inplace=True)\n",
    "X_test.drop('YrSold', axis=1, inplace=True)"
   ]
  },
  {
   "cell_type": "code",
   "execution_count": 13,
   "metadata": {
    "ExecuteTime": {
     "end_time": "2020-03-09T07:33:04.982369Z",
     "start_time": "2020-03-09T07:33:04.978849Z"
    },
    "colab": {},
    "colab_type": "code",
    "id": "ea8uyhC1Hcj1"
   },
   "outputs": [],
   "source": [
    "year_vars.remove('YrSold')"
   ]
  },
  {
   "cell_type": "code",
   "execution_count": 14,
   "metadata": {
    "ExecuteTime": {
     "end_time": "2020-03-09T07:33:05.869066Z",
     "start_time": "2020-03-09T07:33:05.863050Z"
    },
    "colab": {
     "base_uri": "https://localhost:8080/",
     "height": 311
    },
    "colab_type": "code",
    "id": "UhjJt1_XHcj3",
    "outputId": "5be24eb2-de8d-4e34-bf25-8290a59eaafd"
   },
   "outputs": [
    {
     "data": {
      "text/plain": [
       "Index(['MSSubClass', 'MSZoning', 'LotFrontage', 'LotArea', 'Street', 'Alley',\n",
       "       'LotShape', 'LandContour', 'Utilities', 'LotConfig', 'LandSlope',\n",
       "       'Neighborhood', 'Condition1', 'Condition2', 'BldgType', 'HouseStyle',\n",
       "       'OverallQual', 'OverallCond', 'YearBuilt', 'YearRemodAdd', 'RoofStyle',\n",
       "       'RoofMatl', 'Exterior1st', 'Exterior2nd', 'MasVnrType', 'MasVnrArea',\n",
       "       'ExterQual', 'ExterCond', 'Foundation', 'BsmtQual', 'BsmtCond',\n",
       "       'BsmtExposure', 'BsmtFinType1', 'BsmtFinSF1', 'BsmtFinType2',\n",
       "       'BsmtFinSF2', 'BsmtUnfSF', 'TotalBsmtSF', 'Heating', 'HeatingQC',\n",
       "       'CentralAir', 'Electrical', '1stFlrSF', '2ndFlrSF', 'LowQualFinSF',\n",
       "       'GrLivArea', 'BsmtFullBath', 'BsmtHalfBath', 'FullBath', 'HalfBath',\n",
       "       'BedroomAbvGr', 'KitchenAbvGr', 'KitchenQual', 'TotRmsAbvGrd',\n",
       "       'Functional', 'Fireplaces', 'FireplaceQu', 'GarageType', 'GarageYrBlt',\n",
       "       'GarageFinish', 'GarageCars', 'GarageArea', 'GarageQual', 'GarageCond',\n",
       "       'PavedDrive', 'WoodDeckSF', 'OpenPorchSF', 'EnclosedPorch', '3SsnPorch',\n",
       "       'ScreenPorch', 'PoolArea', 'PoolQC', 'Fence', 'MiscFeature', 'MiscVal',\n",
       "       'MoSold', 'SaleType', 'SaleCondition'],\n",
       "      dtype='object')"
      ]
     },
     "execution_count": 14,
     "metadata": {},
     "output_type": "execute_result"
    }
   ],
   "source": [
    "# capture the column names for use later in the notebook\n",
    "final_columns = X_train.columns\n",
    "final_columns"
   ]
  },
  {
   "cell_type": "markdown",
   "metadata": {
    "colab_type": "text",
    "id": "16E-jN70Hcj5"
   },
   "source": [
    "### Feature Engineering Pipeline"
   ]
  },
  {
   "cell_type": "code",
   "execution_count": 15,
   "metadata": {
    "ExecuteTime": {
     "end_time": "2020-03-09T07:33:07.930697Z",
     "start_time": "2020-03-09T07:33:07.909638Z"
    },
    "colab": {},
    "colab_type": "code",
    "id": "lg7SQ66jHcj6"
   },
   "outputs": [],
   "source": [
    "# I will treat discrete variables as if they were categorical\n",
    "# to treat discrete as categorical using Feature-engine\n",
    "# we need to re-cast them as object\n",
    "\n",
    "X_train[discrete] = X_train[discrete].astype('O')\n",
    "X_test[discrete] = X_test[discrete].astype('O')"
   ]
  },
  {
   "cell_type": "code",
   "execution_count": 16,
   "metadata": {
    "colab": {
     "base_uri": "https://localhost:8080/",
     "height": 713
    },
    "colab_type": "code",
    "id": "rg4C3BTuLWhf",
    "outputId": "9111185e-d0f7-48b3-a27f-a0bd60aa8984"
   },
   "outputs": [
    {
     "name": "stdout",
     "output_type": "stream",
     "text": [
      "Requirement already satisfied: feature_engine in c:\\users\\tharu\\anaconda3\\lib\\site-packages (0.3.1)\n",
      "Requirement already satisfied: numpydoc>=0.6.0 in c:\\users\\tharu\\anaconda3\\lib\\site-packages (from feature_engine) (0.9.1)\n",
      "Requirement already satisfied: scipy>=0.19.0 in c:\\users\\tharu\\anaconda3\\lib\\site-packages (from feature_engine) (1.3.1)\n",
      "Requirement already satisfied: statsmodels>=0.8.0 in c:\\users\\tharu\\anaconda3\\lib\\site-packages (from feature_engine) (0.10.1)\n",
      "Requirement already satisfied: scikit-learn>=0.18.1 in c:\\users\\tharu\\anaconda3\\lib\\site-packages (from feature_engine) (0.22.2.post1)\n",
      "Requirement already satisfied: pandas>=0.23.0 in c:\\users\\tharu\\anaconda3\\lib\\site-packages (from feature_engine) (0.25.1)\n",
      "Requirement already satisfied: numpy>=1.12.1 in c:\\users\\tharu\\anaconda3\\lib\\site-packages (from feature_engine) (1.16.5)\n",
      "Requirement already satisfied: sphinx>=1.6.5 in c:\\users\\tharu\\anaconda3\\lib\\site-packages (from numpydoc>=0.6.0->feature_engine) (2.2.0)\n",
      "Requirement already satisfied: Jinja2>=2.3 in c:\\users\\tharu\\anaconda3\\lib\\site-packages (from numpydoc>=0.6.0->feature_engine) (2.10.3)\n",
      "Requirement already satisfied: patsy>=0.4.0 in c:\\users\\tharu\\anaconda3\\lib\\site-packages (from statsmodels>=0.8.0->feature_engine) (0.5.1)\n",
      "Requirement already satisfied: joblib>=0.11 in c:\\users\\tharu\\anaconda3\\lib\\site-packages (from scikit-learn>=0.18.1->feature_engine) (0.13.2)\n",
      "Requirement already satisfied: pytz>=2017.2 in c:\\users\\tharu\\anaconda3\\lib\\site-packages (from pandas>=0.23.0->feature_engine) (2019.3)\n",
      "Requirement already satisfied: python-dateutil>=2.6.1 in c:\\users\\tharu\\anaconda3\\lib\\site-packages (from pandas>=0.23.0->feature_engine) (2.8.0)\n",
      "Requirement already satisfied: sphinxcontrib-devhelp in c:\\users\\tharu\\anaconda3\\lib\\site-packages (from sphinx>=1.6.5->numpydoc>=0.6.0->feature_engine) (1.0.1)\n",
      "Requirement already satisfied: sphinxcontrib-serializinghtml in c:\\users\\tharu\\anaconda3\\lib\\site-packages (from sphinx>=1.6.5->numpydoc>=0.6.0->feature_engine) (1.1.3)\n",
      "Requirement already satisfied: requests>=2.5.0 in c:\\users\\tharu\\anaconda3\\lib\\site-packages (from sphinx>=1.6.5->numpydoc>=0.6.0->feature_engine) (2.22.0)\n",
      "Requirement already satisfied: setuptools in c:\\users\\tharu\\anaconda3\\lib\\site-packages (from sphinx>=1.6.5->numpydoc>=0.6.0->feature_engine) (41.4.0)\n",
      "Requirement already satisfied: sphinxcontrib-applehelp in c:\\users\\tharu\\anaconda3\\lib\\site-packages (from sphinx>=1.6.5->numpydoc>=0.6.0->feature_engine) (1.0.1)\n",
      "Requirement already satisfied: docutils>=0.12 in c:\\users\\tharu\\anaconda3\\lib\\site-packages (from sphinx>=1.6.5->numpydoc>=0.6.0->feature_engine) (0.15.2)\n",
      "Requirement already satisfied: packaging in c:\\users\\tharu\\anaconda3\\lib\\site-packages (from sphinx>=1.6.5->numpydoc>=0.6.0->feature_engine) (19.2)\n",
      "Requirement already satisfied: Pygments>=2.0 in c:\\users\\tharu\\anaconda3\\lib\\site-packages (from sphinx>=1.6.5->numpydoc>=0.6.0->feature_engine) (2.4.2)\n",
      "Requirement already satisfied: sphinxcontrib-htmlhelp in c:\\users\\tharu\\anaconda3\\lib\\site-packages (from sphinx>=1.6.5->numpydoc>=0.6.0->feature_engine) (1.0.2)\n",
      "Requirement already satisfied: sphinxcontrib-jsmath in c:\\users\\tharu\\anaconda3\\lib\\site-packages (from sphinx>=1.6.5->numpydoc>=0.6.0->feature_engine) (1.0.1)\n",
      "Requirement already satisfied: colorama>=0.3.5; sys_platform == \"win32\" in c:\\users\\tharu\\anaconda3\\lib\\site-packages (from sphinx>=1.6.5->numpydoc>=0.6.0->feature_engine) (0.4.1)\n",
      "Requirement already satisfied: snowballstemmer>=1.1 in c:\\users\\tharu\\anaconda3\\lib\\site-packages (from sphinx>=1.6.5->numpydoc>=0.6.0->feature_engine) (2.0.0)\n",
      "Requirement already satisfied: babel!=2.0,>=1.3 in c:\\users\\tharu\\anaconda3\\lib\\site-packages (from sphinx>=1.6.5->numpydoc>=0.6.0->feature_engine) (2.7.0)\n",
      "Requirement already satisfied: sphinxcontrib-qthelp in c:\\users\\tharu\\anaconda3\\lib\\site-packages (from sphinx>=1.6.5->numpydoc>=0.6.0->feature_engine) (1.0.2)\n",
      "Requirement already satisfied: alabaster<0.8,>=0.7 in c:\\users\\tharu\\anaconda3\\lib\\site-packages (from sphinx>=1.6.5->numpydoc>=0.6.0->feature_engine) (0.7.12)\n",
      "Requirement already satisfied: imagesize in c:\\users\\tharu\\anaconda3\\lib\\site-packages (from sphinx>=1.6.5->numpydoc>=0.6.0->feature_engine) (1.1.0)\n",
      "Requirement already satisfied: MarkupSafe>=0.23 in c:\\users\\tharu\\anaconda3\\lib\\site-packages (from Jinja2>=2.3->numpydoc>=0.6.0->feature_engine) (1.1.1)\n",
      "Requirement already satisfied: six in c:\\users\\tharu\\anaconda3\\lib\\site-packages (from patsy>=0.4.0->statsmodels>=0.8.0->feature_engine) (1.12.0)\n",
      "Requirement already satisfied: idna<2.9,>=2.5 in c:\\users\\tharu\\anaconda3\\lib\\site-packages (from requests>=2.5.0->sphinx>=1.6.5->numpydoc>=0.6.0->feature_engine) (2.8)\n",
      "Requirement already satisfied: urllib3!=1.25.0,!=1.25.1,<1.26,>=1.21.1 in c:\\users\\tharu\\anaconda3\\lib\\site-packages (from requests>=2.5.0->sphinx>=1.6.5->numpydoc>=0.6.0->feature_engine) (1.24.2)\n",
      "Requirement already satisfied: chardet<3.1.0,>=3.0.2 in c:\\users\\tharu\\anaconda3\\lib\\site-packages (from requests>=2.5.0->sphinx>=1.6.5->numpydoc>=0.6.0->feature_engine) (3.0.4)\n",
      "Requirement already satisfied: certifi>=2017.4.17 in c:\\users\\tharu\\anaconda3\\lib\\site-packages (from requests>=2.5.0->sphinx>=1.6.5->numpydoc>=0.6.0->feature_engine) (2019.9.11)\n",
      "Requirement already satisfied: pyparsing>=2.0.2 in c:\\users\\tharu\\anaconda3\\lib\\site-packages (from packaging->sphinx>=1.6.5->numpydoc>=0.6.0->feature_engine) (2.4.2)\n",
      "Note: you may need to restart the kernel to use updated packages.\n"
     ]
    }
   ],
   "source": [
    "pip install feature_engine"
   ]
  },
  {
   "cell_type": "code",
   "execution_count": 17,
   "metadata": {
    "ExecuteTime": {
     "end_time": "2020-03-09T07:33:10.023580Z",
     "start_time": "2020-03-09T07:33:10.018569Z"
    },
    "colab": {},
    "colab_type": "code",
    "id": "Fo9ZdxxNHcj8"
   },
   "outputs": [],
   "source": [
    "# import relevant modules for feature engineering\n",
    "from sklearn.pipeline import Pipeline\n",
    "from sklearn.preprocessing import StandardScaler\n",
    "from feature_engine import missing_data_imputers as mdi\n",
    "from feature_engine import categorical_encoders as ce\n",
    "from feature_engine.variable_transformers import YeoJohnsonTransformer\n",
    "from sklearn.preprocessing import StandardScaler\n",
    "from feature_engine.discretisers import DecisionTreeDiscretiser"
   ]
  },
  {
   "cell_type": "code",
   "execution_count": 18,
   "metadata": {
    "ExecuteTime": {
     "end_time": "2020-03-09T07:33:11.578215Z",
     "start_time": "2020-03-09T07:33:11.570194Z"
    },
    "colab": {},
    "colab_type": "code",
    "id": "2R5Dk2l4Hcj-"
   },
   "outputs": [],
   "source": [
    "house_preprocess = Pipeline([\n",
    "    \n",
    "    # missing data imputation \n",
    "    ('missing_ind', mdi.AddNaNBinaryImputer(\n",
    "        variables=['LotFrontage', 'MasVnrArea',  'GarageYrBlt'])),\n",
    "    ('imputer_num', mdi.MeanMedianImputer(imputation_method='mean',\n",
    "                                          variables=['LotFrontage', 'MasVnrArea',  'GarageYrBlt'])),\n",
    "    ('imputer_cat', mdi.CategoricalVariableImputer(variables=categorical)),\n",
    "\n",
    "    # categorical encoding \n",
    "     ('rare_label_enc', ce.RareLabelCategoricalEncoder(\n",
    "         tol=0.01,n_categories=6, variables=categorical+discrete)),\n",
    "    ('categorical_enc', ce.MeanCategoricalEncoder(variables = categorical + discrete)),\n",
    "     \n",
    "    # Transforming Numerical Variables\n",
    "    ('yjt', YeoJohnsonTransformer(variables = ['LotFrontage','MasVnrArea', 'GarageYrBlt'])),\n",
    "\n",
    "    \n",
    "    # discretisation and encoding\n",
    "    ('treeDisc',  DecisionTreeDiscretiser(cv=2, scoring='neg_mean_squared_error',\n",
    "                                   regression=True,\n",
    "                                   param_grid={'max_depth': [1,2,3,4,5,6]})),\n",
    "\n",
    "    # feature Scaling\n",
    "    ('scaler', StandardScaler()),\n",
    "    \n",
    "    \n",
    "\n",
    "])"
   ]
  },
  {
   "cell_type": "code",
   "execution_count": 19,
   "metadata": {
    "ExecuteTime": {
     "end_time": "2020-03-09T07:33:18.934597Z",
     "start_time": "2020-03-09T07:33:15.096006Z"
    },
    "colab": {
     "base_uri": "https://localhost:8080/",
     "height": 502
    },
    "colab_type": "code",
    "id": "PQeB-LBfHckA",
    "outputId": "908d00ac-7b24-4678-9a6c-4bca789ddf71"
   },
   "outputs": [
    {
     "data": {
      "text/plain": [
       "Pipeline(memory=None,\n",
       "         steps=[('missing_ind',\n",
       "                 AddNaNBinaryImputer(variables=['LotFrontage', 'MasVnrArea',\n",
       "                                                'GarageYrBlt'])),\n",
       "                ('imputer_num',\n",
       "                 MeanMedianImputer(imputation_method='mean',\n",
       "                                   variables=['LotFrontage', 'MasVnrArea',\n",
       "                                              'GarageYrBlt'])),\n",
       "                ('imputer_cat',\n",
       "                 CategoricalVariableImputer(variables=['MSZoning', 'Street',\n",
       "                                                       'Alley', 'LotShape',\n",
       "                                                       'LandContour',\n",
       "                                                       'Utilities', '...\n",
       "                                                    'Utilities', 'LotConfig',\n",
       "                                                    'LandSlope', 'Neighborhood',\n",
       "                                                    'Condition1', 'Condition2',\n",
       "                                                    'BldgType', 'HouseStyle',\n",
       "                                                    'OverallQual',\n",
       "                                                    'OverallCond', 'YearBuilt',\n",
       "                                                    'YearRemodAdd', 'RoofStyle',\n",
       "                                                    'RoofMatl', 'Exterior1st',\n",
       "                                                    'Exterior2nd', 'MasVnrType',\n",
       "                                                    'MasVnrArea', 'ExterQual',\n",
       "                                                    'ExterCond', 'Foundation',\n",
       "                                                    'BsmtQual', ...])),\n",
       "                ('scaler',\n",
       "                 StandardScaler(copy=True, with_mean=True, with_std=True))],\n",
       "         verbose=False)"
      ]
     },
     "execution_count": 19,
     "metadata": {},
     "output_type": "execute_result"
    }
   ],
   "source": [
    "house_preprocess.fit(X_train,y_train)"
   ]
  },
  {
   "cell_type": "code",
   "execution_count": 20,
   "metadata": {
    "ExecuteTime": {
     "end_time": "2020-03-09T07:33:21.351997Z",
     "start_time": "2020-03-09T07:33:20.885744Z"
    },
    "colab": {},
    "colab_type": "code",
    "id": "mZA506JqHckE"
   },
   "outputs": [],
   "source": [
    "# Apply Transformations\n",
    "X_train=house_preprocess.transform(X_train)\n",
    "X_test=house_preprocess.transform(X_test)"
   ]
  },
  {
   "cell_type": "markdown",
   "metadata": {
    "ExecuteTime": {
     "end_time": "2020-03-09T04:00:12.095764Z",
     "start_time": "2020-03-09T04:00:12.093253Z"
    },
    "colab_type": "text",
    "id": "B0TpLf4wHckH"
   },
   "source": [
    "## Regression Models- Tune different models one by one"
   ]
  },
  {
   "cell_type": "code",
   "execution_count": 21,
   "metadata": {},
   "outputs": [],
   "source": [
    "import warnings\n",
    "warnings.filterwarnings('ignore')"
   ]
  },
  {
   "cell_type": "markdown",
   "metadata": {},
   "source": [
    "# Linear Regression with Cross val"
   ]
  },
  {
   "cell_type": "code",
   "execution_count": 22,
   "metadata": {
    "ExecuteTime": {
     "end_time": "2020-03-09T07:33:23.368390Z",
     "start_time": "2020-03-09T07:33:23.292686Z"
    },
    "colab": {
     "base_uri": "https://localhost:8080/",
     "height": 450
    },
    "colab_type": "code",
    "id": "MYI4slL3HckI",
    "outputId": "1fdaefd3-dd2e-4b81-c865-573ecb116de6"
   },
   "outputs": [
    {
     "name": "stdout",
     "output_type": "stream",
     "text": [
      "Cross-validation scores: [ 8.76530743e-01 -7.34975702e+22  8.94769314e-01]\n",
      "Mean Cross-validation scores: -24499190082669538967552.00\n",
      "lr.coef_: [ 8.85927525e+02  9.63821950e+02  1.55093914e+03  2.38123720e+03\n",
      "  1.54867121e+03  3.94643841e+02  5.73339946e+02  1.32077662e+03\n",
      "  1.55946597e+03  2.25919167e+03  1.27504991e+03  1.12929618e+04\n",
      "  1.31777294e+03  2.04524613e+03  1.21008674e+03 -9.02846098e+02\n",
      "  1.58511847e+04 -9.82124059e+01 -5.41455300e+03  3.94119726e+03\n",
      "  3.73336495e+02 -1.17351708e+03  3.44591704e+03 -2.45906679e+03\n",
      " -8.92244713e+02  2.64169300e+02  2.55034152e+03  5.77675879e+02\n",
      "  1.02547905e+01  2.43524833e+03  5.95239944e+02  3.56353271e+03\n",
      "  1.33859388e+03  5.57728195e+03 -1.43383745e+03  2.11644961e+03\n",
      " -2.80153401e+02  7.89568089e+03  2.44320365e+02  1.63894561e+03\n",
      "  1.03758613e+03 -7.92545735e+02  1.21578274e+04  1.11657512e+04\n",
      "  4.20710717e+03  5.60685225e+03  2.72048329e+03 -1.21950180e+03\n",
      "  4.38283844e+03  5.39795630e+03  5.97516292e+02  2.94689148e+03\n",
      "  3.71875504e+03  3.03060751e+03  3.03991793e+03  6.48653394e+02\n",
      "  1.78422356e+03 -2.19543947e+03 -2.43854577e+03 -1.18750138e+03\n",
      "  4.31765061e+03  2.48635231e+02  2.50813698e+03  2.33631624e+02\n",
      "  7.36798066e+01  1.44837613e+03  1.54513968e+03 -1.69712829e+00\n",
      "  2.26100996e+03  2.67782301e+03 -1.45711262e+17  1.45711262e+17\n",
      " -3.01498819e+02 -2.05592005e+03  7.45807652e+02 -1.61204738e+02\n",
      " -1.31813584e+03  5.57575260e+03 -1.47800289e+02  2.60314741e+02\n",
      " -1.52950257e+02]\n",
      "lr.intercept_: 181040.6240487064\n",
      "train mse: 552937051.405446\n",
      "train rmse: 23514.61357125492\n",
      "train r2: 0.9114426745730106\n",
      "\n",
      "test mse: 861097775.8563162\n",
      "test rmse: 29344.467551078793\n",
      "test r2: 0.8746968378820517\n",
      "LR Performance Test:  0.8746968378820517\n"
     ]
    }
   ],
   "source": [
    "\n",
    "#Linear Regression with Cross val\n",
    "from sklearn.linear_model import LinearRegression\n",
    "from sklearn.model_selection import cross_val_score\n",
    "from sklearn.metrics import mean_squared_error, r2_score\n",
    "from math import sqrt\n",
    "lr = LinearRegression()\n",
    "\n",
    "lr.fit(X_train, y_train)\n",
    "cv_scores = cross_val_score(lr, X_train, y_train,cv=3)\n",
    "\n",
    "# Mean Cross validation Score\n",
    "print(\"Cross-validation scores: {}\".format(cv_scores))\n",
    "print(\"Mean Cross-validation scores: {:.2f}\".format(cv_scores.mean()))\n",
    "# Print Co-efficients\n",
    "print(\"lr.coef_:\", lr.coef_)\n",
    "print(\"lr.intercept_:\", lr.intercept_)\n",
    "X_train_preds = lr.predict(X_train)\n",
    "X_test_preds = lr.predict(X_test)\n",
    "\n",
    "print('train mse: {}'.format(mean_squared_error(y_train, X_train_preds)))\n",
    "print('train rmse: {}'.format(sqrt(mean_squared_error(y_train, X_train_preds))))\n",
    "print('train r2: {}'.format(r2_score(y_train, X_train_preds)))\n",
    "print()\n",
    "print('test mse: {}'.format(mean_squared_error(y_test, X_test_preds)))\n",
    "print('test rmse: {}'.format(sqrt(mean_squared_error(y_test, X_test_preds))))\n",
    "print('test r2: {}'.format(r2_score(y_test, X_test_preds)))\n",
    "\n",
    "# Check test data set performance\n",
    "print(\"LR Performance Test: \", lr.score(X_test,y_test))\n"
   ]
  },
  {
   "cell_type": "markdown",
   "metadata": {},
   "source": [
    "## Linear Regression with SGD and cross validation"
   ]
  },
  {
   "cell_type": "code",
   "execution_count": 23,
   "metadata": {
    "colab": {
     "base_uri": "https://localhost:8080/",
     "height": 450
    },
    "colab_type": "code",
    "id": "K0117r9cHckK",
    "outputId": "4774d02f-6875-44b9-e63b-e7370e8b4c9d"
   },
   "outputs": [
    {
     "name": "stdout",
     "output_type": "stream",
     "text": [
      "Cross-validation scores: [0.85893606 0.88151396]\n",
      "Mean Cross-validation scores: 0.8702250133835989\n",
      "lr.coef_: [ 1230.36455813  1128.91909567  1369.93432196  2540.37992166\n",
      "  1644.97795194   298.07235491   769.79037382  1380.40421439\n",
      "  1570.13841244  2579.01990453  1062.38936659 11554.76986529\n",
      "   955.88067187  2725.8174422    994.58295867  -640.68299768\n",
      " 15896.12442983  -448.28313587 -4753.34075894  4068.73363282\n",
      "   244.68176532  -344.31762935  2586.53832913 -1453.39743926\n",
      "  -893.79129817   174.85645267  2853.97465703   596.30351108\n",
      "   123.91864828  2306.47807841   404.56289589  3452.30066452\n",
      "  1104.75450721  5414.02747232 -1818.13664773  2381.39071776\n",
      "  -357.25620327  7366.43669565   204.64703324  1207.25237403\n",
      "  1135.39987264  -762.11557478 12216.94388495 11342.02174335\n",
      "  4766.72718645  5605.12080582  2663.91203893 -1260.53174858\n",
      "  4345.64668912  5535.53106258   788.60197769  3144.26363092\n",
      "  3717.58775254  3001.37111333  2746.82974663   745.70537176\n",
      "  1374.02536431 -2012.18364798 -2048.02845684  -968.90086342\n",
      "  4100.93836196   581.5835431   2499.07452871   255.14696417\n",
      "    84.66579786  1283.44005888  1584.31827813   136.94307068\n",
      "  2237.3050031   2994.47142894   756.75311034   756.75311034\n",
      "  -240.96605483 -2194.73582467   587.44305444   423.53266616\n",
      "  -585.10124782  5557.05147375  -192.64481109   413.9603234\n",
      "   119.70768075]\n",
      "lr.intercept_: [181152.13687716]\n",
      "LR Performance Test:  0.9089250561514913\n"
     ]
    }
   ],
   "source": [
    "\n",
    "#Linear Regression with SGD and cross validation\n",
    "\n",
    "from sklearn.linear_model import LinearRegression\n",
    "from sklearn.model_selection import cross_val_score\n",
    "from sklearn.linear_model import SGDRegressor\n",
    "\n",
    "sgd=SGDRegressor(max_iter=1000, tol = 1e-5, eta0=0.01)\n",
    "sgd.fit(X_train, y_train)\n",
    "cv_scores = cross_val_score(sgd, X_train, y_train,cv=2)\n",
    "# Mean Cross validation Score\n",
    "print(\"Cross-validation scores: {}\".format(cv_scores))\n",
    "print(\"Mean Cross-validation scores: {}\".format(cv_scores.mean()))\n",
    "# Print Co-efficients\n",
    "print(\"lr.coef_:\", sgd.coef_)\n",
    "print(\"lr.intercept_:\", sgd.intercept_)\n",
    "\n",
    "# Check test data set performance\n",
    "print(\"LR Performance Test: \", sgd.score(X_train,y_train))"
   ]
  },
  {
   "cell_type": "markdown",
   "metadata": {},
   "source": [
    "## Linear Regression with SGD and GridSearchCv"
   ]
  },
  {
   "cell_type": "code",
   "execution_count": 24,
   "metadata": {
    "colab": {
     "base_uri": "https://localhost:8080/",
     "height": 433
    },
    "colab_type": "code",
    "id": "ED7w3adMHckL",
    "outputId": "18f8f893-928d-46b2-a41c-2820ca81b890"
   },
   "outputs": [
    {
     "name": "stdout",
     "output_type": "stream",
     "text": [
      "train mse: 616827915.3230726\n",
      "train rmse: 24836.020521071256\n",
      "train r2: 0.9012100377595011\n",
      "\n",
      "test mse: 929570513.0941342\n",
      "test rmse: 30488.858835550636\n",
      "test r2: 0.8647329862320601\n",
      "\n",
      "Best parameters: {'sgd_reg__eta0': 0.05}\n",
      "Best cross-validation score: 0.88\n",
      "\n",
      "Best estimator:\n",
      "Pipeline(memory=None,\n",
      "         steps=[('scaler', MinMaxScaler(copy=True, feature_range=(0, 1))),\n",
      "                ('sgd_reg',\n",
      "                 SGDRegressor(alpha=0.0001, average=False, early_stopping=False,\n",
      "                              epsilon=0.1, eta0=0.05, fit_intercept=True,\n",
      "                              l1_ratio=0.15, learning_rate='invscaling',\n",
      "                              loss='squared_loss', max_iter=10000,\n",
      "                              n_iter_no_change=5, penalty='l2', power_t=0.25,\n",
      "                              random_state=None, shuffle=True, tol=1e-06,\n",
      "                              validation_fraction=0.1, verbose=0,\n",
      "                              warm_start=False))],\n",
      "         verbose=False)\n"
     ]
    }
   ],
   "source": [
    "# Linear Regression with SGD and GridSearchCv\n",
    "\n",
    "from sklearn.linear_model import LinearRegression\n",
    "from sklearn.model_selection import cross_val_score\n",
    "from sklearn.linear_model import SGDRegressor\n",
    "from sklearn.model_selection import GridSearchCV\n",
    "from sklearn.preprocessing import MinMaxScaler\n",
    "from sklearn.pipeline import Pipeline\n",
    "from sklearn.metrics import mean_squared_error, r2_score\n",
    "from math import sqrt\n",
    "\n",
    "\n",
    "reg_sgd_pipe = Pipeline([\n",
    "\n",
    "    # feature Scaling\n",
    "    ('scaler', MinMaxScaler()),\n",
    "    # regression\n",
    "    ('sgd_reg', SGDRegressor(max_iter=10000, tol = 1e-6))\n",
    "])\n",
    "\n",
    "param_sgd = {'sgd_reg__eta0':[0.01, 0.05, 0.1 ,0.5]}\n",
    "grid_sgd = GridSearchCV(reg_sgd_pipe, param_sgd,cv=5, n_jobs=-1, return_train_score = True)\n",
    "grid_sgd.fit(X_train, y_train)\n",
    "\n",
    "X_train_preds = grid_sgd.predict(X_train)\n",
    "X_test_preds = grid_sgd.predict(X_test)\n",
    "\n",
    "print('train mse: {}'.format(mean_squared_error(y_train, X_train_preds)))\n",
    "print('train rmse: {}'.format(sqrt(mean_squared_error(y_train, X_train_preds))))\n",
    "print('train r2: {}'.format(r2_score(y_train, X_train_preds)))\n",
    "print()\n",
    "print('test mse: {}'.format(mean_squared_error(y_test, X_test_preds)))\n",
    "print('test rmse: {}'.format(sqrt(mean_squared_error(y_test, X_test_preds))))\n",
    "print('test r2: {}'.format(r2_score(y_test, X_test_preds)))\n",
    "print()\n",
    "\n",
    "print(\"Best parameters: {}\".format(grid_sgd.best_params_))\n",
    "print(\"Best cross-validation score: {:.2f}\".format(grid_sgd.best_score_))\n",
    "print()\n",
    "print(\"Best estimator:\\n{}\".format(grid_sgd.best_estimator_))"
   ]
  },
  {
   "cell_type": "markdown",
   "metadata": {},
   "source": [
    "# Ridge regression"
   ]
  },
  {
   "cell_type": "code",
   "execution_count": 25,
   "metadata": {
    "ExecuteTime": {
     "end_time": "2020-03-09T07:33:32.923175Z",
     "start_time": "2020-03-09T07:33:32.720114Z"
    },
    "colab": {
     "base_uri": "https://localhost:8080/",
     "height": 467
    },
    "colab_type": "code",
    "id": "Dz8BQXylHckN",
    "outputId": "65910a17-4504-4640-987b-f31bbb6144f2"
   },
   "outputs": [
    {
     "name": "stdout",
     "output_type": "stream",
     "text": [
      "Best Mean Cross-validation score: 0.8824748308049819\n",
      "\n",
      "Ridge parameters:  {'alpha': 10.0}\n",
      "Ridge.coef_: [ 8.29549172e+02  1.00520329e+03  1.41907291e+03  2.45597808e+03\n",
      "  1.56476556e+03  3.15846034e+02  5.91322052e+02  1.20599829e+03\n",
      "  1.48362551e+03  2.32371115e+03  1.20526043e+03  1.11935611e+04\n",
      "  1.26236156e+03  2.05403204e+03  1.12076053e+03 -9.72818777e+02\n",
      "  1.54617799e+04 -3.19815798e+02 -5.01931325e+03  3.85901413e+03\n",
      "  4.23980960e+02 -9.99184855e+02  2.93013237e+03 -2.14991039e+03\n",
      " -8.68642665e+02  3.53138591e+02  2.78127261e+03  7.02910945e+02\n",
      "  2.89525147e+01  2.39174264e+03  5.55247534e+02  3.58250149e+03\n",
      "  1.27614162e+03  5.69204212e+03 -1.44936748e+03  1.91368069e+03\n",
      " -2.68899524e+02  7.66517621e+03  1.95080463e+02  1.45940911e+03\n",
      "  1.20773749e+03 -7.11187851e+02  1.20416757e+04  1.11416366e+04\n",
      "  4.12582377e+03  5.86228267e+03  2.79856151e+03 -1.28528512e+03\n",
      "  4.13908324e+03  5.16003152e+03  6.18912987e+02  3.04868546e+03\n",
      "  3.80554780e+03  3.21918000e+03  3.00001538e+03  7.99009564e+02\n",
      "  1.51420311e+03 -1.95776439e+03 -2.03247504e+03 -9.56082962e+02\n",
      "  3.89120107e+03  7.22233210e+02  2.27160118e+03  1.57811160e+02\n",
      " -5.40333012e-01  1.35395688e+03  1.54414351e+03  5.48618097e+01\n",
      "  2.23607328e+03  2.62457597e+03 -6.13105168e+02 -6.13105168e+02\n",
      " -3.44498853e+02 -1.97120025e+03  7.08024719e+02 -1.76855495e+02\n",
      " -9.89353404e+02  5.10137326e+03 -2.21909537e+02  2.86086727e+02\n",
      " -9.95782697e+01]\n",
      "Ridge.intercept_: 181040.6240487064\n",
      "\n",
      "train mse: 552673905.6524699\n",
      "train rmse: 23509.017539073593\n",
      "train r2: 0.9114848194862911\n",
      "\n",
      "test mse: 858328539.4662187\n",
      "test rmse: 29297.244571225783\n",
      "test r2: 0.8750998049852778\n",
      "\n",
      "Hello -  0.8824748308049819\n",
      "Ridge Test Performance:  0.8750998049852778\n"
     ]
    }
   ],
   "source": [
    "from sklearn.model_selection import GridSearchCV\n",
    "from sklearn.linear_model import Ridge\n",
    "from sklearn.metrics import mean_squared_error, r2_score\n",
    "from math import sqrt\n",
    "ridge = Ridge()\n",
    "\n",
    "\n",
    "#define a list of parameters\n",
    "param_ridge = {'alpha':np.logspace(-4,1,30)}\n",
    "\n",
    "grid_ridge = GridSearchCV(ridge, param_ridge, cv=4, return_train_score = True)\n",
    "grid_ridge.fit(X_train, y_train)\n",
    "\n",
    "# Mean Cross Validation Score\n",
    "print(\"Best Mean Cross-validation score: {}\".format(grid_ridge.best_score_))\n",
    "\n",
    "print()\n",
    "\n",
    "#find best parameters\n",
    "print('Ridge parameters: ', grid_ridge.best_params_)\n",
    "\n",
    "# print co-eff\n",
    "\n",
    "print(\"Ridge.coef_:\", grid_ridge.best_estimator_.coef_)\n",
    "print(\"Ridge.intercept_:\", grid_ridge.best_estimator_.intercept_)\n",
    "print()\n",
    "X_train_preds = grid_ridge.predict(X_train)\n",
    "X_test_preds = grid_ridge.predict(X_test)\n",
    "\n",
    "print('train mse: {}'.format(mean_squared_error(y_train, X_train_preds)))\n",
    "print('train rmse: {}'.format(sqrt(mean_squared_error(y_train, X_train_preds))))\n",
    "print('train r2: {}'.format(r2_score(y_train, X_train_preds)))\n",
    "print()\n",
    "print('test mse: {}'.format(mean_squared_error(y_test, X_test_preds)))\n",
    "print('test rmse: {}'.format(sqrt(mean_squared_error(y_test, X_test_preds))))\n",
    "print('test r2: {}'.format(r2_score(y_test, X_test_preds)))\n",
    "print()\n",
    "\n",
    "# # Check test data set performance\n",
    "print(\"Hello - \",grid_ridge.cv_results_['mean_test_score'][grid_ridge.best_index_])\n",
    "print(\"Ridge Test Performance: \", grid_ridge.score(X_test,y_test))"
   ]
  },
  {
   "cell_type": "markdown",
   "metadata": {},
   "source": [
    "# Lasso regression"
   ]
  },
  {
   "cell_type": "code",
   "execution_count": 26,
   "metadata": {
    "ExecuteTime": {
     "end_time": "2020-03-09T07:33:38.130469Z",
     "start_time": "2020-03-09T07:33:37.468173Z"
    },
    "colab": {
     "base_uri": "https://localhost:8080/",
     "height": 467
    },
    "colab_type": "code",
    "id": "adgrXhY3HckQ",
    "outputId": "80663e87-3ea6-4f32-f5f8-c6a5ceb866f6"
   },
   "outputs": [
    {
     "name": "stdout",
     "output_type": "stream",
     "text": [
      "Best Mean Cross-validation score: 0.8861779353224504\n",
      "\n",
      "Lasso parameters:  {'alpha': 1048.1131341546852}\n",
      "Lasso.coef_: [ 4.98696002e+02  7.57017519e+02  5.90379777e+02  2.95246614e+03\n",
      "  3.46289623e+02  0.00000000e+00  2.22483500e+02  5.51470410e+02\n",
      "  1.72744436e+02  1.42355195e+03  6.88994713e+02  1.06998115e+04\n",
      "  3.88019570e+02  1.27196643e+03  1.05218376e+03  0.00000000e+00\n",
      "  1.60919646e+04 -0.00000000e+00 -0.00000000e+00  2.51095187e+03\n",
      "  0.00000000e+00 -0.00000000e+00  0.00000000e+00  0.00000000e+00\n",
      "  0.00000000e+00  0.00000000e+00  1.72759469e+03  0.00000000e+00\n",
      " -0.00000000e+00  1.22854720e+03  0.00000000e+00  3.01660427e+03\n",
      "  0.00000000e+00  6.23338056e+03 -0.00000000e+00  8.76217415e+02\n",
      " -0.00000000e+00  8.15480315e+03  0.00000000e+00  4.28630003e+02\n",
      "  9.67409601e+02  0.00000000e+00  1.20342814e+04  1.13569827e+04\n",
      "  2.63429944e+03  6.08850239e+03  2.23450454e+03 -2.30186553e+02\n",
      "  2.06467024e+03  3.82770997e+03  2.79840542e+02  1.75612416e+03\n",
      "  4.08797263e+03  2.58396561e+03  1.60883287e+03  1.30907265e+03\n",
      "  1.12467260e+03  0.00000000e+00 -0.00000000e+00  0.00000000e+00\n",
      "  3.65241083e+03  0.00000000e+00  9.32758469e+02  0.00000000e+00\n",
      "  0.00000000e+00  6.85171260e+02  6.46751539e+02  0.00000000e+00\n",
      "  1.74519762e+03  1.77549858e+03 -3.58675388e+02 -4.78419131e-12\n",
      " -0.00000000e+00 -1.61976161e+02 -0.00000000e+00 -0.00000000e+00\n",
      "  0.00000000e+00  2.39987268e+03  0.00000000e+00  0.00000000e+00\n",
      "  0.00000000e+00]\n",
      "Lasso.intercept_: 181040.62404870632\n",
      "\n",
      "train mse: 593136246.5846151\n",
      "train rmse: 24354.388651424102\n",
      "train r2: 0.9050044494616056\n",
      "\n",
      "test mse: 778873594.3317508\n",
      "test rmse: 27908.306905503076\n",
      "test r2: 0.8866617392399055\n"
     ]
    }
   ],
   "source": [
    "from sklearn.linear_model import Lasso\n",
    "from sklearn.metrics import mean_squared_error, r2_score\n",
    "from math import sqrt\n",
    "lasso = Lasso(random_state=42)\n",
    "\n",
    "#define a list of parameters\n",
    "param_lasso = {'alpha':np.logspace(-4,4,50) }\n",
    "\n",
    "grid_lasso = GridSearchCV(lasso, param_lasso, cv=4, return_train_score = True)\n",
    "grid_lasso.fit(X_train, y_train)\n",
    "\n",
    "# Mean Cross Validation Score\n",
    "print(\"Best Mean Cross-validation score: {:}\".format(grid_lasso.best_score_))\n",
    "print()\n",
    "\n",
    "#find best parameters\n",
    "print('Lasso parameters: ', grid_lasso.best_params_)\n",
    "\n",
    "# print co-eff\n",
    "\n",
    "print(\"Lasso.coef_:\", grid_lasso.best_estimator_.coef_)\n",
    "print(\"Lasso.intercept_:\", grid_lasso.best_estimator_.intercept_)\n",
    "print()\n",
    "\n",
    "X_train_preds = grid_lasso.predict(X_train)\n",
    "X_test_preds = grid_lasso.predict(X_test)\n",
    "\n",
    "print('train mse: {}'.format(mean_squared_error(y_train, X_train_preds)))\n",
    "print('train rmse: {}'.format(sqrt(mean_squared_error(y_train, X_train_preds))))\n",
    "print('train r2: {}'.format(r2_score(y_train, X_train_preds)))\n",
    "print()\n",
    "print('test mse: {}'.format(mean_squared_error(y_test, X_test_preds)))\n",
    "print('test rmse: {}'.format(sqrt(mean_squared_error(y_test, X_test_preds))))\n",
    "print('test r2: {}'.format(r2_score(y_test, X_test_preds)))\n",
    "\n",
    "\n"
   ]
  },
  {
   "cell_type": "markdown",
   "metadata": {},
   "source": [
    "# ElasticNet"
   ]
  },
  {
   "cell_type": "code",
   "execution_count": 27,
   "metadata": {
    "colab": {
     "base_uri": "https://localhost:8080/",
     "height": 1000
    },
    "colab_type": "code",
    "id": "VgnE-B-EHckR",
    "outputId": "62efd5f6-d164-4473-f564-537522fea6df"
   },
   "outputs": [
    {
     "name": "stdout",
     "output_type": "stream",
     "text": [
      "train mse: 565680239.6829491\n",
      "train rmse: 23784.03329300876\n",
      "train r2: 0.9094017502609215\n",
      "\n",
      "test mse: 882164275.2969518\n",
      "test rmse: 29701.250399553075\n",
      "test r2: 0.8716313335123038\n",
      "\n",
      "Training set score:  0.9094017502609215\n",
      "Test score:  0.8716313335123038\n",
      "Best parameters:  {'alpha': 0.18873918221350977, 'l1_ratio': 0.4}\n",
      "Best cross-validation score: 0.8841708558036789\n"
     ]
    }
   ],
   "source": [
    "#ElasticNet\n",
    "from sklearn.linear_model import ElasticNet\n",
    "from sklearn.model_selection import GridSearchCV\n",
    "from sklearn.metrics import mean_squared_error, r2_score\n",
    "from math import sqrt\n",
    "elasticnet = ElasticNet()\n",
    "\n",
    "\n",
    "param_elasticnet = {'alpha':np.logspace(-4,1,30), 'l1_ratio' :[0.1,0.2,0.3,0.4]}\n",
    "\n",
    "grid_elasticnet = GridSearchCV(elasticnet , param_elasticnet, cv=5, return_train_score = True)\n",
    "grid_elasticnet.fit(X_train, y_train)\n",
    "\n",
    "X_train_preds = grid_elasticnet.predict(X_train)\n",
    "X_test_preds = grid_elasticnet.predict(X_test)\n",
    "\n",
    "print('train mse: {}'.format(mean_squared_error(y_train, X_train_preds)))\n",
    "print('train rmse: {}'.format(sqrt(mean_squared_error(y_train, X_train_preds))))\n",
    "print('train r2: {}'.format(r2_score(y_train, X_train_preds)))\n",
    "print()\n",
    "print('test mse: {}'.format(mean_squared_error(y_test, X_test_preds)))\n",
    "print('test rmse: {}'.format(sqrt(mean_squared_error(y_test, X_test_preds))))\n",
    "print('test r2: {}'.format(r2_score(y_test, X_test_preds)))\n",
    "print()\n",
    "grid_elasticnet_train_score = grid_elasticnet.score(X_train, y_train)\n",
    "grid_elasticnet_test_score = grid_elasticnet.score(X_test, y_test)\n",
    "\n",
    "print('Training set score: ', grid_elasticnet_train_score)\n",
    "print('Test score: ', grid_elasticnet_test_score)\n",
    "\n",
    "#find best parameters\n",
    "print('Best parameters: ', grid_elasticnet.best_params_)\n",
    "print('Best cross-validation score:', grid_elasticnet.best_score_)"
   ]
  },
  {
   "cell_type": "markdown",
   "metadata": {},
   "source": [
    "# KNN Regressor"
   ]
  },
  {
   "cell_type": "code",
   "execution_count": 28,
   "metadata": {
    "colab": {
     "base_uri": "https://localhost:8080/",
     "height": 86
    },
    "colab_type": "code",
    "id": "3vB8KdAnHckU",
    "outputId": "e86009a7-fcd3-4184-ed78-4ab14a758e56"
   },
   "outputs": [
    {
     "name": "stdout",
     "output_type": "stream",
     "text": [
      "train mse: 926540858.0310757\n",
      "train rmse: 30439.13366098115\n",
      "train r2: 0.8516070137143069\n",
      "\n",
      "test mse: 1657648286.6700912\n",
      "test rmse: 40714.227079364915\n",
      "test r2: 0.7587863099604379\n",
      "\n",
      "\n",
      "train score:  0.8516070137143069\n",
      "test score:  0.7587863099604379\n",
      "Best parameters:  {'knnreg__n_neighbors': 6}\n",
      "Best cross-validation score: 0.78587417331835\n"
     ]
    }
   ],
   "source": [
    "#KNN\n",
    "from sklearn.neighbors import KNeighborsRegressor\n",
    "from sklearn.preprocessing import MinMaxScaler\n",
    "from sklearn.pipeline import make_pipeline\n",
    "from sklearn.model_selection import GridSearchCV\n",
    "from sklearn.metrics import mean_squared_error, r2_score\n",
    "from math import sqrt\n",
    "\n",
    "pipe_knn=Pipeline([ \n",
    "    ('scaler',MinMaxScaler()),\n",
    "    ('knnreg', KNeighborsRegressor())\n",
    "    \n",
    "])\n",
    "\n",
    "param_knn = {'knnreg__n_neighbors': range(1,8)}\n",
    "\n",
    "#apply grid search\n",
    "grid_knn = GridSearchCV(pipe_knn, param_knn, cv=5, return_train_score=True)\n",
    "grid_knn.fit(X_train, y_train)\n",
    "\n",
    "X_train_preds = grid_knn.predict(X_train)\n",
    "X_test_preds = grid_knn.predict(X_test)\n",
    "print('train mse: {}'.format(mean_squared_error(y_train, X_train_preds)))\n",
    "print('train rmse: {}'.format(sqrt(mean_squared_error(y_train, X_train_preds))))\n",
    "print('train r2: {}'.format(r2_score(y_train, X_train_preds)))\n",
    "print()\n",
    "print('test mse: {}'.format(mean_squared_error(y_test, X_test_preds)))\n",
    "print('test rmse: {}'.format(sqrt(mean_squared_error(y_test, X_test_preds))))\n",
    "print('test r2: {}'.format(r2_score(y_test, X_test_preds)))\n",
    "print()\n",
    "\n",
    "print()\n",
    "print('train score: ', grid_knn.score(X_train, y_train))\n",
    "print('test score: ', grid_knn.score(X_test, y_test))\n",
    "\n",
    "#find best parameters\n",
    "print('Best parameters: ', grid_knn.best_params_)\n",
    "print('Best cross-validation score:', grid_knn.best_score_)\n",
    "\n"
   ]
  },
  {
   "cell_type": "markdown",
   "metadata": {},
   "source": [
    "# Polynomial Regression "
   ]
  },
  {
   "cell_type": "code",
   "execution_count": 29,
   "metadata": {
    "colab": {
     "base_uri": "https://localhost:8080/",
     "height": 227
    },
    "colab_type": "code",
    "id": "MStQxz9_HckX",
    "outputId": "f67820e3-9caf-454a-a2d5-7ac702fff981"
   },
   "outputs": [
    {
     "name": "stdout",
     "output_type": "stream",
     "text": [
      "train mse: 27501.0890406372\n",
      "train rmse: 165.83452306633018\n",
      "train r2: 0.9999955954789328\n",
      "\n",
      "test mse: 6.803964871652119e+26\n",
      "test rmse: 26084410807323.44\n",
      "test r2: -9.900830512651446e+16\n",
      "Best parameters:  {'polynomialfeatures__degree': 2}\n",
      "Best cross validation score:  -4.885131197910408e+16\n"
     ]
    }
   ],
   "source": [
    "#Polynomial \n",
    "from sklearn.model_selection import GridSearchCV\n",
    "from sklearn.preprocessing  import PolynomialFeatures\n",
    "from sklearn.pipeline import make_pipeline\n",
    "from sklearn.linear_model import LinearRegression\n",
    "from sklearn.pipeline import Pipeline\n",
    "from sklearn.preprocessing import MinMaxScaler\n",
    "from sklearn.metrics import mean_squared_error, r2_score\n",
    "from math import sqrt\n",
    "\n",
    "\n",
    "pipe_poly=Pipeline([ \n",
    "    ('polynomialfeatures', PolynomialFeatures()),\n",
    "    ('norm_reg', LinearRegression())\n",
    "    \n",
    "])\n",
    "#define a list of parameters\n",
    "param_poly = {'polynomialfeatures__degree':range(1,3)}\n",
    "\n",
    "grid_poly = GridSearchCV(pipe_poly, param_poly,cv=5,scoring='r2', n_jobs=-1, return_train_score = True)\n",
    "\n",
    "\n",
    "grid_poly.fit(X_train, y_train)\n",
    "\n",
    "# let's get the predictions\n",
    "X_train_preds = grid_poly.predict(X_train)\n",
    "X_test_preds = grid_poly.predict(X_test)\n",
    "\n",
    "# check model performance:\n",
    "\n",
    "print('train mse: {}'.format(mean_squared_error(y_train, X_train_preds)))\n",
    "print('train rmse: {}'.format(sqrt(mean_squared_error(y_train, X_train_preds))))\n",
    "print('train r2: {}'.format(r2_score(y_train, X_train_preds)))\n",
    "print()\n",
    "print('test mse: {}'.format(mean_squared_error(y_test, X_test_preds)))\n",
    "print('test rmse: {}'.format(sqrt(mean_squared_error(y_test, X_test_preds))))\n",
    "print('test r2: {}'.format(r2_score(y_test, X_test_preds)))\n",
    "\n",
    "#find best parameters\n",
    "print('Best parameters: ', grid_poly.best_params_)\n",
    "print('Best cross validation score: ', grid_poly.best_score_)"
   ]
  },
  {
   "cell_type": "markdown",
   "metadata": {},
   "source": [
    "# Decision Tree Regressor"
   ]
  },
  {
   "cell_type": "code",
   "execution_count": 30,
   "metadata": {
    "colab": {
     "base_uri": "https://localhost:8080/",
     "height": 86
    },
    "colab_type": "code",
    "id": "wTkInuKXQ2qL",
    "outputId": "aa297e93-bfe0-4e8d-c0bd-b83d66a45bc2",
    "scrolled": true
   },
   "outputs": [
    {
     "name": "stdout",
     "output_type": "stream",
     "text": [
      "train mse: 688556363.2668484\n",
      "train rmse: 26240.357529325862\n",
      "train r2: 0.8897221486936767\n",
      "\n",
      "test mse: 1411470739.5362976\n",
      "test rmse: 37569.54537303183\n",
      "test r2: 0.7946089841830359\n",
      "\n",
      "Best Mean Cross-validation score: 0.77\n",
      "\n",
      "Decision Tree parameters:  {'criterion': 'mse', 'max_depth': 6, 'min_samples_split': 7}\n",
      "Decision Tree Performance:  0.7946089841830359\n"
     ]
    }
   ],
   "source": [
    "from sklearn.tree import DecisionTreeRegressor\n",
    "dtree = DecisionTreeRegressor(random_state=0)\n",
    "\n",
    "#define a list of parameters\n",
    "param_dtree = {'max_depth': range(1,10),'min_samples_split':range(2,10,1),'criterion':['mse','mae']}\n",
    "\n",
    "#apply grid search\n",
    "grid_dtree = GridSearchCV(dtree, param_dtree, cv=5, return_train_score = True)\n",
    "grid_dtree.fit(X_train, y_train)\n",
    "X_train_preds = grid_dtree.predict(X_train)\n",
    "X_test_preds = grid_dtree.predict(X_test)\n",
    "print('train mse: {}'.format(mean_squared_error(y_train, X_train_preds)))\n",
    "print('train rmse: {}'.format(sqrt(mean_squared_error(y_train, X_train_preds))))\n",
    "print('train r2: {}'.format(r2_score(y_train, X_train_preds)))\n",
    "print()\n",
    "print('test mse: {}'.format(mean_squared_error(y_test, X_test_preds)))\n",
    "print('test rmse: {}'.format(sqrt(mean_squared_error(y_test, X_test_preds))))\n",
    "print('test r2: {}'.format(r2_score(y_test, X_test_preds)))\n",
    "print()\n",
    "\n",
    "# Mean Cross Validation Score\n",
    "print(\"Best Mean Cross-validation score: {:.2f}\".format(grid_dtree.best_score_))\n",
    "print()\n",
    "\n",
    "#find best parameters\n",
    "print('Decision Tree parameters: ', grid_dtree.best_params_)\n",
    "\n",
    "# Check test data set performance\n",
    "print(\"Decision Tree Performance: \", grid_dtree.score(X_test,y_test))"
   ]
  },
  {
   "cell_type": "markdown",
   "metadata": {},
   "source": [
    "# SVR"
   ]
  },
  {
   "cell_type": "code",
   "execution_count": 31,
   "metadata": {
    "colab": {
     "base_uri": "https://localhost:8080/",
     "height": 86
    },
    "colab_type": "code",
    "id": "rVlGmqt9HckZ",
    "outputId": "f70ffa12-00c8-4af7-bd61-4c911138909c"
   },
   "outputs": [
    {
     "name": "stdout",
     "output_type": "stream",
     "text": [
      "train mse: 614182935.6028569\n",
      "train rmse: 24782.714451868604\n",
      "train r2: 0.9016336525800952\n",
      "\n",
      "test mse: 891446379.3018075\n",
      "test rmse: 29857.099311584298\n",
      "test r2: 0.8702806425506886\n",
      "\n",
      "train score:  0.9016336525800952\n",
      "test score:  0.8702806425506886\n",
      "Best parameters: {'C': 10, 'degree': 1, 'gamma': 100, 'kernel': 'poly'}\n",
      "Best cross-validation score: 0.8883364269292818\n"
     ]
    }
   ],
   "source": [
    "from sklearn.svm import SVR\n",
    "from sklearn.model_selection import GridSearchCV\n",
    "from sklearn.metrics import mean_squared_error, r2_score\n",
    "from math import sqrt\n",
    "svr=SVR()\n",
    "param_grid = [{'kernel': ['rbf'],\n",
    "               'C': [0.001, 0.01, 0.1, 1,10],\n",
    "               'gamma': [ 0.01, 0.1, 1,10,100]},\n",
    "              {'kernel': ['poly'],\n",
    "               'degree':[1,2],\n",
    "               'C': [0.001, 0.01, 0.1, 1,10],\n",
    "               'gamma': [ 0.01, 0.1, 1,10,100]},\n",
    "              {'kernel': ['sigmoid'],\n",
    "               'C': [0.001, 0.01, 0.1, 1,10],\n",
    "               'gamma': [ 0.01, 0.1, 1,10,100]}]\n",
    "grid_svr = GridSearchCV(svr, param_grid, cv=3,\n",
    "                          return_train_score=True)\n",
    "grid_svr.fit(X_train, y_train)\n",
    "X_train_preds = grid_svr.predict(X_train)\n",
    "X_test_preds = grid_svr.predict(X_test)\n",
    "print('train mse: {}'.format(mean_squared_error(y_train, X_train_preds)))\n",
    "print('train rmse: {}'.format(sqrt(mean_squared_error(y_train, X_train_preds))))\n",
    "print('train r2: {}'.format(r2_score(y_train, X_train_preds)))\n",
    "print()\n",
    "print('test mse: {}'.format(mean_squared_error(y_test, X_test_preds)))\n",
    "print('test rmse: {}'.format(sqrt(mean_squared_error(y_test, X_test_preds))))\n",
    "print('test r2: {}'.format(r2_score(y_test, X_test_preds)))\n",
    "print()\n",
    "print('train score: ', grid_svr.score(X_train, y_train))\n",
    "print('test score: ', grid_svr.score(X_test, y_test))\n",
    "print(\"Best parameters: {}\".format(grid_svr.best_params_))\n",
    "print(\"Best cross-validation score: {:}\".format(grid_svr.best_score_))"
   ]
  },
  {
   "cell_type": "code",
   "execution_count": 32,
   "metadata": {},
   "outputs": [
    {
     "name": "stdout",
     "output_type": "stream",
     "text": [
      "train mse: 6560591874.536995\n",
      "train rmse: 80997.48066783926\n",
      "train r2: -0.050731666742694026\n",
      "\n",
      "test mse: 7148125836.73493\n",
      "test rmse: 84546.58974042023\n",
      "test r2: -0.04016384163712794\n",
      "\n",
      "train score:  -0.050731666742694026\n",
      "test score:  -0.04016384163712794\n"
     ]
    }
   ],
   "source": [
    "from sklearn.svm import SVR\n",
    "from sklearn.model_selection import GridSearchCV\n",
    "from sklearn.metrics import mean_squared_error, r2_score\n",
    "from math import sqrt\n",
    "svr=SVR()\n",
    "\n",
    "svr.fit(X_train, y_train)\n",
    "X_train_preds = svr.predict(X_train)\n",
    "X_test_preds = svr.predict(X_test)\n",
    "\n",
    "print('train mse: {}'.format(mean_squared_error(y_train, X_train_preds)))\n",
    "print('train rmse: {}'.format(sqrt(mean_squared_error(y_train, X_train_preds))))\n",
    "print('train r2: {}'.format(r2_score(y_train, X_train_preds)))\n",
    "print()\n",
    "print('test mse: {}'.format(mean_squared_error(y_test, X_test_preds)))\n",
    "print('test rmse: {}'.format(sqrt(mean_squared_error(y_test, X_test_preds))))\n",
    "print('test r2: {}'.format(r2_score(y_test, X_test_preds)))\n",
    "print()\n",
    "\n",
    "print('train score: ', svr.score(X_train, y_train))\n",
    "print('test score: ', svr.score(X_test, y_test))\n"
   ]
  },
  {
   "cell_type": "markdown",
   "metadata": {
    "ExecuteTime": {
     "end_time": "2020-03-09T03:59:33.754940Z",
     "start_time": "2020-03-09T03:59:33.751933Z"
    },
    "colab_type": "text",
    "id": "6F2xFFNXHckb"
   },
   "source": [
    "# Tune Multiple Models with one GridSearch"
   ]
  },
  {
   "cell_type": "code",
   "execution_count": 55,
   "metadata": {
    "ExecuteTime": {
     "end_time": "2020-03-09T07:33:43.119468Z",
     "start_time": "2020-03-09T07:33:43.115457Z"
    },
    "colab": {},
    "colab_type": "code",
    "id": "Btvs34p9Hckc"
   },
   "outputs": [],
   "source": [
    "model_gs = Pipeline([(\"regressor\", LinearRegression())])\n"
   ]
  },
  {
   "cell_type": "code",
   "execution_count": 56,
   "metadata": {
    "ExecuteTime": {
     "end_time": "2020-03-09T07:33:44.906746Z",
     "start_time": "2020-03-09T07:33:44.900729Z"
    },
    "colab": {},
    "colab_type": "code",
    "id": "1PnWyksJHcke"
   },
   "outputs": [],
   "source": [
    "model_parm_gd = [\n",
    "    { 'regressor': [LinearRegression()]},\n",
    "    \n",
    "    { 'regressor': [Ridge()],\n",
    "      'regressor__alpha':np.logspace(-4,10,30) },\n",
    "    \n",
    "    { 'regressor': [Lasso(random_state=42)],\n",
    "      'regressor__alpha':np.logspace(-4,4,50)}\n",
    "\n",
    "    \n",
    "\n",
    "    \n",
    " \n",
    "]"
   ]
  },
  {
   "cell_type": "code",
   "execution_count": 57,
   "metadata": {
    "ExecuteTime": {
     "end_time": "2020-03-09T07:33:46.478370Z",
     "start_time": "2020-03-09T07:33:46.475362Z"
    },
    "colab": {},
    "colab_type": "code",
    "id": "f6yqzmDbHckg"
   },
   "outputs": [],
   "source": [
    "\n",
    "grid_search_house_pipe = GridSearchCV(model_gs, model_parm_gd,cv=4)\n"
   ]
  },
  {
   "cell_type": "code",
   "execution_count": 58,
   "metadata": {
    "ExecuteTime": {
     "end_time": "2020-03-09T07:33:48.862449Z",
     "start_time": "2020-03-09T07:33:47.915915Z"
    },
    "colab": {
     "base_uri": "https://localhost:8080/",
     "height": 381
    },
    "colab_type": "code",
    "id": "CrHCqnlnHckh",
    "outputId": "e6b9fb65-9edc-495a-879c-3247ba68dfb7"
   },
   "outputs": [
    {
     "data": {
      "text/plain": [
       "GridSearchCV(cv=4, error_score=nan,\n",
       "             estimator=Pipeline(memory=None,\n",
       "                                steps=[('regressor',\n",
       "                                        LinearRegression(copy_X=True,\n",
       "                                                         fit_intercept=True,\n",
       "                                                         n_jobs=None,\n",
       "                                                         normalize=False))],\n",
       "                                verbose=False),\n",
       "             iid='deprecated', n_jobs=None,\n",
       "             param_grid=[{'regressor': [LinearRegression(copy_X=True,\n",
       "                                                         fit_intercept=True,\n",
       "                                                         n_jobs=None,\n",
       "                                                         normalize=False)]},\n",
       "                         {'regressor': [Ridge(alpha=1.0, copy_X=...\n",
       "       1.67683294e+01, 2.44205309e+01, 3.55648031e+01, 5.17947468e+01,\n",
       "       7.54312006e+01, 1.09854114e+02, 1.59985872e+02, 2.32995181e+02,\n",
       "       3.39322177e+02, 4.94171336e+02, 7.19685673e+02, 1.04811313e+03,\n",
       "       1.52641797e+03, 2.22299648e+03, 3.23745754e+03, 4.71486636e+03,\n",
       "       6.86648845e+03, 1.00000000e+04])}],\n",
       "             pre_dispatch='2*n_jobs', refit=True, return_train_score=False,\n",
       "             scoring=None, verbose=0)"
      ]
     },
     "execution_count": 58,
     "metadata": {},
     "output_type": "execute_result"
    }
   ],
   "source": [
    "grid_search_house_pipe.fit(X_train,y_train)"
   ]
  },
  {
   "cell_type": "code",
   "execution_count": 59,
   "metadata": {
    "ExecuteTime": {
     "end_time": "2020-03-09T07:33:50.694053Z",
     "start_time": "2020-03-09T07:33:50.690545Z"
    },
    "colab": {
     "base_uri": "https://localhost:8080/",
     "height": 69
    },
    "colab_type": "code",
    "id": "mAhJw-1XHckl",
    "outputId": "76b9fc53-8ec4-4852-a95a-e9acfe1eefca"
   },
   "outputs": [
    {
     "name": "stdout",
     "output_type": "stream",
     "text": [
      "{'regressor': Lasso(alpha=1048.1131341546852, copy_X=True, fit_intercept=True, max_iter=1000,\n",
      "      normalize=False, positive=False, precompute=False, random_state=42,\n",
      "      selection='cyclic', tol=0.0001, warm_start=False), 'regressor__alpha': 1048.1131341546852}\n"
     ]
    }
   ],
   "source": [
    "print(grid_search_house_pipe.best_params_)"
   ]
  },
  {
   "cell_type": "code",
   "execution_count": 60,
   "metadata": {
    "ExecuteTime": {
     "end_time": "2020-03-09T07:33:51.930133Z",
     "start_time": "2020-03-09T07:33:51.922105Z"
    },
    "colab": {},
    "colab_type": "code",
    "id": "cpCFlExZHckn"
   },
   "outputs": [],
   "source": [
    "# let's get the predictions\n",
    "X_train_preds = grid_search_house_pipe.predict(X_train)\n",
    "X_test_preds = grid_search_house_pipe.predict(X_test)"
   ]
  },
  {
   "cell_type": "code",
   "execution_count": 61,
   "metadata": {
    "ExecuteTime": {
     "end_time": "2020-03-09T07:33:54.122514Z",
     "start_time": "2020-03-09T07:33:54.118504Z"
    },
    "colab": {
     "base_uri": "https://localhost:8080/",
     "height": 34
    },
    "colab_type": "code",
    "id": "zNaQ_2ICHckp",
    "outputId": "defac9db-e61f-421d-cec8-8148a421af71"
   },
   "outputs": [
    {
     "name": "stdout",
     "output_type": "stream",
     "text": [
      "Best Mean Cross-validation score: 0.8861779353224504\n"
     ]
    }
   ],
   "source": [
    "print(\"Best Mean Cross-validation score: {}\".format(grid_search_house_pipe.best_score_))"
   ]
  },
  {
   "cell_type": "code",
   "execution_count": 62,
   "metadata": {
    "ExecuteTime": {
     "end_time": "2020-03-09T07:33:56.073138Z",
     "start_time": "2020-03-09T07:33:56.060105Z"
    },
    "colab": {
     "base_uri": "https://localhost:8080/",
     "height": 138
    },
    "colab_type": "code",
    "id": "IkDS7Zz3Hckq",
    "outputId": "af5f508b-968b-4f24-ee70-aa420c91d289"
   },
   "outputs": [
    {
     "name": "stdout",
     "output_type": "stream",
     "text": [
      "train mse: 593136246.5846152\n",
      "train rmse: 24354.388651424106\n",
      "train r2: 0.9050044494616056\n",
      "\n",
      "test mse: 778873594.3317508\n",
      "test rmse: 27908.306905503076\n",
      "test r2: 0.8866617392399055\n"
     ]
    }
   ],
   "source": [
    "# check model performance:\n",
    "from sklearn.metrics import mean_squared_error\n",
    "from sklearn.metrics import r2_score\n",
    "\n",
    "print('train mse: {}'.format(mean_squared_error(y_train, X_train_preds)))\n",
    "print('train rmse: {}'.format(sqrt(mean_squared_error(y_train, X_train_preds))))\n",
    "print('train r2: {}'.format(r2_score(y_train, X_train_preds)))\n",
    "print()\n",
    "print('test mse: {}'.format(mean_squared_error(y_test, X_test_preds)))\n",
    "print('test rmse: {}'.format(sqrt(mean_squared_error(y_test, X_test_preds))))\n",
    "print('test r2: {}'.format(r2_score(y_test, X_test_preds)))"
   ]
  },
  {
   "cell_type": "markdown",
   "metadata": {},
   "source": [
    "# HW 3"
   ]
  },
  {
   "cell_type": "markdown",
   "metadata": {},
   "source": [
    "# Bagging with decision tree"
   ]
  },
  {
   "cell_type": "code",
   "execution_count": 52,
   "metadata": {},
   "outputs": [
    {
     "data": {
      "text/plain": [
       "GridSearchCV(cv=5, error_score=nan,\n",
       "             estimator=BaggingRegressor(base_estimator=DecisionTreeRegressor(ccp_alpha=0.0,\n",
       "                                                                             criterion='mse',\n",
       "                                                                             max_depth=None,\n",
       "                                                                             max_features=None,\n",
       "                                                                             max_leaf_nodes=None,\n",
       "                                                                             min_impurity_decrease=0.0,\n",
       "                                                                             min_impurity_split=None,\n",
       "                                                                             min_samples_leaf=1,\n",
       "                                                                             min_samples_split=2,\n",
       "                                                                             min_weight_fraction_leaf=0.0,\n",
       "                                                                             presort='deprecated',\n",
       "                                                                             random_state=None,\n",
       "                                                                             splitter='be...\n",
       "                                        max_features=1.0, max_samples=1.0,\n",
       "                                        n_estimators=10, n_jobs=None,\n",
       "                                        oob_score=True, random_state=42,\n",
       "                                        verbose=0, warm_start=False),\n",
       "             iid='deprecated', n_jobs=None,\n",
       "             param_grid={'base_estimator__criterion': ['mse', 'mae'],\n",
       "                         'base_estimator__max_depth': range(5, 16),\n",
       "                         'max_samples': [0.8, 1],\n",
       "                         'n_estimators': [10, 25, 100]},\n",
       "             pre_dispatch='2*n_jobs', refit=True, return_train_score=True,\n",
       "             scoring=None, verbose=0)"
      ]
     },
     "execution_count": 52,
     "metadata": {},
     "output_type": "execute_result"
    }
   ],
   "source": [
    "from sklearn.ensemble import BaggingRegressor\n",
    "bag_dtree1 = BaggingRegressor(base_estimator=DecisionTreeRegressor(), bootstrap=True, random_state=42, oob_score=True)\n",
    "\n",
    "bag_dtree1_param = {\n",
    "                 'base_estimator__max_depth': range(5,16),\n",
    "                 #'base_estimator__min_samples_split':range(2,10,1),\n",
    "                 'base_estimator__criterion':['mse','mae'],\n",
    "                 'max_samples':  [0.8,1],\n",
    "                 'n_estimators': [10,25,100]}\n",
    "bag_dtree1_grid = GridSearchCV(bag_dtree1, bag_dtree1_param,cv=5, return_train_score=True, )\n",
    "bag_dtree1_grid.fit(X_train,y_train)"
   ]
  },
  {
   "cell_type": "code",
   "execution_count": 53,
   "metadata": {},
   "outputs": [
    {
     "name": "stdout",
     "output_type": "stream",
     "text": [
      "Best Mean Cross Validation Score is 0.8736355785252179\n",
      "Best Mean Cross Validation Score is {'base_estimator__criterion': 'mse', 'base_estimator__max_depth': 12, 'max_samples': 0.8, 'n_estimators': 100}\n",
      "Train score is 0.9741897595256853\n",
      "Test score is 0.8667278635993815\n"
     ]
    }
   ],
   "source": [
    "print(f'Best Mean Cross Validation Score is {bag_dtree1_grid.best_score_}')\n",
    "print(f'Best Mean Cross Validation Score is {bag_dtree1_grid.best_params_}')\n",
    "print(f'Train score is {bag_dtree1_grid.score(X_train,y_train)}')\n",
    "print(f'Test score is {bag_dtree1_grid.score(X_test,y_test)}')"
   ]
  },
  {
   "cell_type": "code",
   "execution_count": 54,
   "metadata": {},
   "outputs": [
    {
     "name": "stdout",
     "output_type": "stream",
     "text": [
      "train mse: 161154802.21564618\n",
      "train rmse: 12694.676136697863\n",
      "train r2: 0.9741897595256853\n",
      "\n",
      "test mse: 915861485.8431733\n",
      "test rmse: 30263.20349604736\n",
      "test r2: 0.8667278635993815\n",
      "\n"
     ]
    }
   ],
   "source": [
    "from sklearn.metrics import mean_squared_error, r2_score\n",
    "from math import sqrt\n",
    "X_train_preds = bag_dtree1_grid.predict(X_train)\n",
    "X_test_preds_bdtree = bag_dtree1_grid.predict(X_test)\n",
    "print('train mse: {}'.format(mean_squared_error(y_train, X_train_preds)))\n",
    "print('train rmse: {}'.format(sqrt(mean_squared_error(y_train, X_train_preds))))\n",
    "print('train r2: {}'.format(r2_score(y_train, X_train_preds)))\n",
    "print()\n",
    "print('test mse: {}'.format(mean_squared_error(y_test, X_test_preds_bdtree)))\n",
    "print('test rmse: {}'.format(sqrt(mean_squared_error(y_test, X_test_preds_bdtree))))\n",
    "print('test r2: {}'.format(r2_score(y_test, X_test_preds_bdtree)))\n",
    "print()"
   ]
  },
  {
   "cell_type": "markdown",
   "metadata": {},
   "source": [
    "# Bagging with Lasso"
   ]
  },
  {
   "cell_type": "code",
   "execution_count": 45,
   "metadata": {},
   "outputs": [
    {
     "data": {
      "text/plain": [
       "GridSearchCV(cv=5, error_score=nan,\n",
       "             estimator=BaggingRegressor(base_estimator=Lasso(alpha=1.0,\n",
       "                                                             copy_X=True,\n",
       "                                                             fit_intercept=True,\n",
       "                                                             max_iter=1000,\n",
       "                                                             normalize=False,\n",
       "                                                             positive=False,\n",
       "                                                             precompute=False,\n",
       "                                                             random_state=None,\n",
       "                                                             selection='cyclic',\n",
       "                                                             tol=0.0001,\n",
       "                                                             warm_start=False),\n",
       "                                        bootstrap=True,\n",
       "                                        bootstrap_features=False,\n",
       "                                        max_features=1.0, max_samples=1.0,\n",
       "                                        n_estimators=10, n_jobs=Non...\n",
       "       3.03919538e+00, 4.89390092e+00, 7.88046282e+00, 1.26896100e+01,\n",
       "       2.04335972e+01, 3.29034456e+01, 5.29831691e+01, 8.53167852e+01,\n",
       "       1.37382380e+02, 2.21221629e+02, 3.56224789e+02, 5.73615251e+02,\n",
       "       9.23670857e+02, 1.48735211e+03, 2.39502662e+03, 3.85662042e+03,\n",
       "       6.21016942e+03, 1.00000000e+04]),\n",
       "                         'max_samples': [0.8, 0.9],\n",
       "                         'n_estimators': [10, 25, 100]},\n",
       "             pre_dispatch='2*n_jobs', refit=True, return_train_score=True,\n",
       "             scoring=None, verbose=0)"
      ]
     },
     "execution_count": 45,
     "metadata": {},
     "output_type": "execute_result"
    }
   ],
   "source": [
    "from sklearn.ensemble import BaggingRegressor\n",
    "from sklearn.model_selection import GridSearchCV\n",
    "bag_lasso = BaggingRegressor(base_estimator=Lasso(), bootstrap=True, random_state=42, oob_score=True)\n",
    "\n",
    "bag_lasso_param = {\n",
    "                 'base_estimator__alpha': np.logspace(-2,4,30),\n",
    "                 'max_samples':  [0.8,0.9],\n",
    "                 'n_estimators': [10,25,100]}\n",
    "bag_lasso_grid = GridSearchCV(bag_lasso, bag_lasso_param,cv=5, return_train_score=True, )\n",
    "bag_lasso_grid.fit(X_train,y_train)"
   ]
  },
  {
   "cell_type": "code",
   "execution_count": 46,
   "metadata": {},
   "outputs": [
    {
     "name": "stdout",
     "output_type": "stream",
     "text": [
      "train mse: 577030782.7419263\n",
      "train rmse: 24021.46504153996\n",
      "train r2: 0.9075838693052287\n",
      "\n",
      "test mse: 845917170.4491473\n",
      "test rmse: 29084.65524033502\n",
      "test r2: 0.8769058528321733\n",
      "\n"
     ]
    }
   ],
   "source": [
    "from sklearn.metrics import mean_squared_error, r2_score\n",
    "from math import sqrt\n",
    "X_train_preds = bag_lasso_grid.predict(X_train)\n",
    "X_test_preds_blasso = bag_lasso_grid.predict(X_test)\n",
    "print('train mse: {}'.format(mean_squared_error(y_train, X_train_preds)))\n",
    "print('train rmse: {}'.format(sqrt(mean_squared_error(y_train, X_train_preds))))\n",
    "print('train r2: {}'.format(r2_score(y_train, X_train_preds)))\n",
    "print()\n",
    "print('test mse: {}'.format(mean_squared_error(y_test, X_test_preds_blasso)))\n",
    "print('test rmse: {}'.format(sqrt(mean_squared_error(y_test, X_test_preds_blasso))))\n",
    "print('test r2: {}'.format(r2_score(y_test, X_test_preds_blasso)))\n",
    "print()"
   ]
  },
  {
   "cell_type": "code",
   "execution_count": 47,
   "metadata": {},
   "outputs": [
    {
     "name": "stdout",
     "output_type": "stream",
     "text": [
      "Best Mean Cross Validation Score is 0.8861093280586676\n",
      "Best Mean Cross Validation Score is {'base_estimator__alpha': 573.6152510448682, 'max_samples': 0.9, 'n_estimators': 25}\n",
      "Train score is 0.9075838693052287\n",
      "Test score is 0.8769058528321733\n"
     ]
    }
   ],
   "source": [
    "print(f'Best Mean Cross Validation Score is {bag_lasso_grid.best_score_}')\n",
    "print(f'Best Mean Cross Validation Score is {bag_lasso_grid.best_params_}')\n",
    "print(f'Train score is {bag_lasso_grid.score(X_train,y_train)}')\n",
    "print(f'Test score is {bag_lasso_grid.score(X_test,y_test)}')"
   ]
  },
  {
   "cell_type": "markdown",
   "metadata": {},
   "source": [
    "# Pasting with Decisison Tree"
   ]
  },
  {
   "cell_type": "code",
   "execution_count": 55,
   "metadata": {},
   "outputs": [
    {
     "data": {
      "text/plain": [
       "GridSearchCV(cv=5, error_score=nan,\n",
       "             estimator=BaggingRegressor(base_estimator=DecisionTreeRegressor(ccp_alpha=0.0,\n",
       "                                                                             criterion='mse',\n",
       "                                                                             max_depth=None,\n",
       "                                                                             max_features=None,\n",
       "                                                                             max_leaf_nodes=None,\n",
       "                                                                             min_impurity_decrease=0.0,\n",
       "                                                                             min_impurity_split=None,\n",
       "                                                                             min_samples_leaf=1,\n",
       "                                                                             min_samples_split=2,\n",
       "                                                                             min_weight_fraction_leaf=0.0,\n",
       "                                                                             presort='deprecated',\n",
       "                                                                             random_state=None,\n",
       "                                                                             splitter='be...\n",
       "                                        max_features=1.0, max_samples=1.0,\n",
       "                                        n_estimators=10, n_jobs=None,\n",
       "                                        oob_score=False, random_state=42,\n",
       "                                        verbose=0, warm_start=False),\n",
       "             iid='deprecated', n_jobs=None,\n",
       "             param_grid={'base_estimator__criterion': ['mse', 'mae'],\n",
       "                         'base_estimator__max_depth': range(5, 16),\n",
       "                         'max_samples': [0.8, 1],\n",
       "                         'n_estimators': [10, 25, 100]},\n",
       "             pre_dispatch='2*n_jobs', refit=True, return_train_score=True,\n",
       "             scoring=None, verbose=0)"
      ]
     },
     "execution_count": 55,
     "metadata": {},
     "output_type": "execute_result"
    }
   ],
   "source": [
    "from sklearn.ensemble import BaggingRegressor\n",
    "paste_dtree1 = BaggingRegressor(base_estimator=DecisionTreeRegressor(), bootstrap=False, random_state=42, oob_score=False)\n",
    "\n",
    "paste_dtree1_param = {\n",
    "                 'base_estimator__max_depth': range(5,16),\n",
    "                 'base_estimator__criterion':['mse','mae'],\n",
    "                 'max_samples':  [0.8,1],\n",
    "                 'n_estimators': [10,25,100]}\n",
    "paste_dtree1_grid = GridSearchCV(paste_dtree1, paste_dtree1_param,cv=5, return_train_score=True, )\n",
    "paste_dtree1_grid.fit(X_train,y_train)"
   ]
  },
  {
   "cell_type": "code",
   "execution_count": 56,
   "metadata": {},
   "outputs": [
    {
     "name": "stdout",
     "output_type": "stream",
     "text": [
      "train mse: 52257186.43740164\n",
      "train rmse: 7228.913226578504\n",
      "train r2: 0.9916305904017951\n",
      "\n",
      "test mse: 953729657.6187928\n",
      "test rmse: 30882.513783997456\n",
      "test r2: 0.8612174537479658\n",
      "\n"
     ]
    }
   ],
   "source": [
    "from sklearn.metrics import mean_squared_error, r2_score\n",
    "from math import sqrt\n",
    "X_train_preds = paste_dtree1_grid.predict(X_train)\n",
    "X_test_preds_pdtree = paste_dtree1_grid.predict(X_test)\n",
    "print('train mse: {}'.format(mean_squared_error(y_train, X_train_preds)))\n",
    "print('train rmse: {}'.format(sqrt(mean_squared_error(y_train, X_train_preds))))\n",
    "print('train r2: {}'.format(r2_score(y_train, X_train_preds)))\n",
    "print()\n",
    "print('test mse: {}'.format(mean_squared_error(y_test, X_test_preds_pdtree)))\n",
    "print('test rmse: {}'.format(sqrt(mean_squared_error(y_test, X_test_preds_pdtree))))\n",
    "print('test r2: {}'.format(r2_score(y_test, X_test_preds_pdtree)))\n",
    "print()"
   ]
  },
  {
   "cell_type": "code",
   "execution_count": 57,
   "metadata": {},
   "outputs": [
    {
     "name": "stdout",
     "output_type": "stream",
     "text": [
      "Best Mean Cross Validation Score is 0.8602598100005203\n",
      "Best Mean Cross Validation Score is {'base_estimator__criterion': 'mae', 'base_estimator__max_depth': 13, 'max_samples': 0.8, 'n_estimators': 100}\n",
      "Train score is 0.9916305904017951\n",
      "Test score is 0.8612174537479658\n"
     ]
    }
   ],
   "source": [
    "print(f'Best Mean Cross Validation Score is {paste_dtree1_grid.best_score_}')\n",
    "print(f'Best Mean Cross Validation Score is {paste_dtree1_grid.best_params_}')\n",
    "print(f'Train score is {paste_dtree1_grid.score(X_train,y_train)}')\n",
    "print(f'Test score is {paste_dtree1_grid.score(X_test,y_test)}')"
   ]
  },
  {
   "cell_type": "markdown",
   "metadata": {},
   "source": [
    "# Pasting with Lasso"
   ]
  },
  {
   "cell_type": "code",
   "execution_count": 49,
   "metadata": {},
   "outputs": [
    {
     "data": {
      "text/plain": [
       "GridSearchCV(cv=5, error_score=nan,\n",
       "             estimator=BaggingRegressor(base_estimator=Lasso(alpha=1.0,\n",
       "                                                             copy_X=True,\n",
       "                                                             fit_intercept=True,\n",
       "                                                             max_iter=1000,\n",
       "                                                             normalize=False,\n",
       "                                                             positive=False,\n",
       "                                                             precompute=False,\n",
       "                                                             random_state=None,\n",
       "                                                             selection='cyclic',\n",
       "                                                             tol=0.0001,\n",
       "                                                             warm_start=False),\n",
       "                                        bootstrap=False,\n",
       "                                        bootstrap_features=False,\n",
       "                                        max_features=1.0, max_samples=1.0,\n",
       "                                        n_estimators=10, n_jobs=No...\n",
       "       4.83293024e-02, 1.27427499e-01, 3.35981829e-01, 8.85866790e-01,\n",
       "       2.33572147e+00, 6.15848211e+00, 1.62377674e+01, 4.28133240e+01,\n",
       "       1.12883789e+02, 2.97635144e+02, 7.84759970e+02, 2.06913808e+03,\n",
       "       5.45559478e+03, 1.43844989e+04, 3.79269019e+04, 1.00000000e+05]),\n",
       "                         'max_samples': [0.9, 1],\n",
       "                         'n_estimators': [15, 25, 100]},\n",
       "             pre_dispatch='2*n_jobs', refit=True, return_train_score=True,\n",
       "             scoring=None, verbose=0)"
      ]
     },
     "execution_count": 49,
     "metadata": {},
     "output_type": "execute_result"
    }
   ],
   "source": [
    "from sklearn.ensemble import BaggingRegressor\n",
    "paste_lasso = BaggingRegressor(base_estimator=Lasso(), bootstrap=False, random_state=42, oob_score=False)\n",
    "\n",
    "paste_lasso_param = {\n",
    "                 'base_estimator__alpha': np.logspace(-3,5,20),\n",
    "                 'max_samples':  [0.9,1],\n",
    "                 'n_estimators': [15,25,100]}\n",
    "paste_lasso_grid = GridSearchCV(paste_lasso, paste_lasso_param,cv=5, return_train_score=True, )\n",
    "paste_lasso_grid.fit(X_train,y_train)"
   ]
  },
  {
   "cell_type": "code",
   "execution_count": 50,
   "metadata": {},
   "outputs": [
    {
     "name": "stdout",
     "output_type": "stream",
     "text": [
      "train mse: 583599612.6073993\n",
      "train rmse: 24157.806452726607\n",
      "train r2: 0.9065318182578398\n",
      "\n",
      "test mse: 789617316.5568631\n",
      "test rmse: 28100.13018754296\n",
      "test r2: 0.8850983600215762\n",
      "\n"
     ]
    }
   ],
   "source": [
    "from sklearn.metrics import mean_squared_error, r2_score\n",
    "from math import sqrt\n",
    "X_train_preds = paste_lasso_grid.predict(X_train)\n",
    "X_test_preds_plasso = paste_lasso_grid.predict(X_test)\n",
    "print('train mse: {}'.format(mean_squared_error(y_train, X_train_preds)))\n",
    "print('train rmse: {}'.format(sqrt(mean_squared_error(y_train, X_train_preds))))\n",
    "print('train r2: {}'.format(r2_score(y_train, X_train_preds)))\n",
    "print()\n",
    "print('test mse: {}'.format(mean_squared_error(y_test, X_test_preds_plasso)))\n",
    "print('test rmse: {}'.format(sqrt(mean_squared_error(y_test, X_test_preds_plasso))))\n",
    "print('test r2: {}'.format(r2_score(y_test, X_test_preds_plasso)))\n",
    "print()"
   ]
  },
  {
   "cell_type": "code",
   "execution_count": 51,
   "metadata": {},
   "outputs": [
    {
     "name": "stdout",
     "output_type": "stream",
     "text": [
      "Best Mean Cross Validation Score is 0.8855716763595657\n",
      "Best Mean Cross Validation Score is {'base_estimator__alpha': 784.7599703514607, 'max_samples': 0.9, 'n_estimators': 100}\n",
      "Train score is 0.9065318182578398\n",
      "Test score is 0.8850983600215762\n"
     ]
    }
   ],
   "source": [
    "print(f'Best Mean Cross Validation Score is {paste_lasso_grid.best_score_}')\n",
    "print(f'Best Mean Cross Validation Score is {paste_lasso_grid.best_params_}')\n",
    "print(f'Train score is {paste_lasso_grid.score(X_train,y_train)}')\n",
    "print(f'Test score is {paste_lasso_grid.score(X_test,y_test)}')"
   ]
  },
  {
   "cell_type": "markdown",
   "metadata": {},
   "source": [
    "# Random Forest Regressor"
   ]
  },
  {
   "cell_type": "code",
   "execution_count": 65,
   "metadata": {},
   "outputs": [],
   "source": [
    "from sklearn.ensemble import RandomForestRegressor"
   ]
  },
  {
   "cell_type": "code",
   "execution_count": 66,
   "metadata": {},
   "outputs": [
    {
     "data": {
      "text/plain": [
       "GridSearchCV(cv=5, error_score=nan,\n",
       "             estimator=RandomForestRegressor(bootstrap=True, ccp_alpha=0.0,\n",
       "                                             criterion='mse', max_depth=None,\n",
       "                                             max_features='auto',\n",
       "                                             max_leaf_nodes=None,\n",
       "                                             max_samples=None,\n",
       "                                             min_impurity_decrease=0.0,\n",
       "                                             min_impurity_split=None,\n",
       "                                             min_samples_leaf=1,\n",
       "                                             min_samples_split=2,\n",
       "                                             min_weight_fraction_leaf=0.0,\n",
       "                                             n_estimators=100, n_jobs=None,\n",
       "                                             oob_score=False, random_state=42,\n",
       "                                             verbose=0, warm_start=False),\n",
       "             iid='deprecated', n_jobs=None,\n",
       "             param_grid={'max_depth': [4, 6, 7, 8],\n",
       "                         'max_features': ['auto', 'sqrt', 'log2'],\n",
       "                         'n_estimators': [200, 300]},\n",
       "             pre_dispatch='2*n_jobs', refit=True, return_train_score=True,\n",
       "             scoring=None, verbose=0)"
      ]
     },
     "execution_count": 66,
     "metadata": {},
     "output_type": "execute_result"
    }
   ],
   "source": [
    "rfr =RandomForestRegressor(random_state=42)\n",
    "rfr_param = { \n",
    "    'n_estimators': [200,300],\n",
    "    'max_features': ['auto', 'sqrt', 'log2'],\n",
    "    'max_depth' : [4,6,7,8]\n",
    "    \n",
    "}\n",
    "\n",
    "rfr_grid = GridSearchCV(rfr, rfr_param,cv=5, return_train_score=True, )\n",
    "rfr_grid.fit(X_train,y_train)"
   ]
  },
  {
   "cell_type": "code",
   "execution_count": 67,
   "metadata": {},
   "outputs": [
    {
     "name": "stdout",
     "output_type": "stream",
     "text": [
      "train mse: 303064463.10088664\n",
      "train rmse: 17408.746741247247\n",
      "train r2: 0.9514617835502917\n",
      "\n",
      "test mse: 942677015.3497651\n",
      "test rmse: 30703.045701522267\n",
      "test r2: 0.8628257856527723\n",
      "\n"
     ]
    }
   ],
   "source": [
    "from sklearn.metrics import mean_squared_error, r2_score\n",
    "from math import sqrt\n",
    "X_train_preds = rfr_grid.predict(X_train)\n",
    "X_test_preds_rfr = rfr_grid.predict(X_test)\n",
    "print('train mse: {}'.format(mean_squared_error(y_train, X_train_preds)))\n",
    "print('train rmse: {}'.format(sqrt(mean_squared_error(y_train, X_train_preds))))\n",
    "print('train r2: {}'.format(r2_score(y_train, X_train_preds)))\n",
    "print()\n",
    "print('test mse: {}'.format(mean_squared_error(y_test, X_test_preds_rfr)))\n",
    "print('test rmse: {}'.format(sqrt(mean_squared_error(y_test, X_test_preds_rfr))))\n",
    "print('test r2: {}'.format(r2_score(y_test, X_test_preds_rfr)))\n",
    "print()"
   ]
  },
  {
   "cell_type": "code",
   "execution_count": 68,
   "metadata": {},
   "outputs": [
    {
     "name": "stdout",
     "output_type": "stream",
     "text": [
      "Best Mean Cross Validation Score is 0.8685494427202773\n",
      "Best Mean Cross Validation Score is {'max_depth': 8, 'max_features': 'sqrt', 'n_estimators': 300}\n",
      "Train score is 0.9514617835502917\n",
      "Test score is 0.8628257856527723\n"
     ]
    }
   ],
   "source": [
    "print(f'Best Mean Cross Validation Score is {rfr_grid.best_score_}')\n",
    "print(f'Best Mean Cross Validation Score is {rfr_grid.best_params_}')\n",
    "print(f'Train score is {rfr_grid.score(X_train,y_train)}')\n",
    "print(f'Test score is {rfr_grid.score(X_test,y_test)}')"
   ]
  },
  {
   "cell_type": "markdown",
   "metadata": {},
   "source": [
    "# Extra Tree Regressor"
   ]
  },
  {
   "cell_type": "code",
   "execution_count": 61,
   "metadata": {},
   "outputs": [
    {
     "data": {
      "text/plain": [
       "GridSearchCV(cv=5, error_score=nan,\n",
       "             estimator=ExtraTreesRegressor(bootstrap=False, ccp_alpha=0.0,\n",
       "                                           criterion='mse', max_depth=None,\n",
       "                                           max_features='auto',\n",
       "                                           max_leaf_nodes=None,\n",
       "                                           max_samples=None,\n",
       "                                           min_impurity_decrease=0.0,\n",
       "                                           min_impurity_split=None,\n",
       "                                           min_samples_leaf=1,\n",
       "                                           min_samples_split=2,\n",
       "                                           min_weight_fraction_leaf=0.0,\n",
       "                                           n_estimators=100, n_jobs=None,\n",
       "                                           oob_score=False, random_state=42,\n",
       "                                           verbose=0, warm_start=False),\n",
       "             iid='deprecated', n_jobs=None,\n",
       "             param_grid={'max_depth': [2, 4, 5, 6, 7, 8],\n",
       "                         'max_features': ['auto', 'sqrt', 'log2'],\n",
       "                         'n_estimators': [400, 600]},\n",
       "             pre_dispatch='2*n_jobs', refit=True, return_train_score=True,\n",
       "             scoring=None, verbose=0)"
      ]
     },
     "execution_count": 61,
     "metadata": {},
     "output_type": "execute_result"
    }
   ],
   "source": [
    "from  sklearn.ensemble import ExtraTreesRegressor\n",
    "etr= ExtraTreesRegressor(random_state=42)\n",
    "etr_param = { \n",
    "    'n_estimators': [400,600],\n",
    "    'max_features': ['auto', 'sqrt', 'log2'],\n",
    "    'max_depth' : [2,4,5,6,7,8],\n",
    "    \n",
    "}\n",
    "etr_grid = GridSearchCV(etr, etr_param,cv=5, return_train_score=True, )\n",
    "etr_grid.fit(X_train,y_train)"
   ]
  },
  {
   "cell_type": "code",
   "execution_count": 62,
   "metadata": {},
   "outputs": [
    {
     "name": "stdout",
     "output_type": "stream",
     "text": [
      "train mse: 170104053.89535466\n",
      "train rmse: 13042.3944847315\n",
      "train r2: 0.9727564647386683\n",
      "\n",
      "test mse: 991575573.5012922\n",
      "test rmse: 31489.292997799937\n",
      "test r2: 0.8557102824762584\n",
      "\n"
     ]
    }
   ],
   "source": [
    "from sklearn.metrics import mean_squared_error, r2_score\n",
    "from math import sqrt\n",
    "X_train_preds = etr_grid.predict(X_train)\n",
    "X_test_preds_etr = etr_grid.predict(X_test)\n",
    "print('train mse: {}'.format(mean_squared_error(y_train, X_train_preds)))\n",
    "print('train rmse: {}'.format(sqrt(mean_squared_error(y_train, X_train_preds))))\n",
    "print('train r2: {}'.format(r2_score(y_train, X_train_preds)))\n",
    "print()\n",
    "print('test mse: {}'.format(mean_squared_error(y_test, X_test_preds_etr)))\n",
    "print('test rmse: {}'.format(sqrt(mean_squared_error(y_test, X_test_preds_etr))))\n",
    "print('test r2: {}'.format(r2_score(y_test, X_test_preds_etr)))\n",
    "print()"
   ]
  },
  {
   "cell_type": "code",
   "execution_count": 63,
   "metadata": {},
   "outputs": [
    {
     "name": "stdout",
     "output_type": "stream",
     "text": [
      "Best Mean Cross Validation Score is 0.8674089573532708\n",
      "Best Mean Cross Validation Score is {'max_depth': 8, 'max_features': 'auto', 'n_estimators': 600}\n",
      "Train score is 0.9727564647386683\n",
      "Test score is 0.8557102824762584\n"
     ]
    }
   ],
   "source": [
    "print(f'Best Mean Cross Validation Score is {etr_grid.best_score_}')\n",
    "print(f'Best Mean Cross Validation Score is {etr_grid.best_params_}')\n",
    "print(f'Train score is {etr_grid.score(X_train,y_train)}')\n",
    "print(f'Test score is {etr_grid.score(X_test,y_test)}')"
   ]
  },
  {
   "cell_type": "markdown",
   "metadata": {},
   "source": [
    "# Adaboost Regressor"
   ]
  },
  {
   "cell_type": "code",
   "execution_count": null,
   "metadata": {},
   "outputs": [],
   "source": [
    "from sklearn.ensemble import AdaBoostRegressor\n",
    "adr_dtree =AdaBoostRegressor(base_estimator=DecisionTreeRegressor(),random_state=42)\n",
    "adr_dtree_param = {\n",
    "              'base_estimator__criterion' : [\"mse\", \"mae\"],\n",
    "              #'base_estimator__splitter' :   [\"best\", \"random\"],\n",
    "              'base_estimator__max_depth' : [4,6,8],\n",
    "              'n_estimators' : [100,125,150],\n",
    "              'learning_rate' : [1.0,2,2.5],\n",
    "             }\n",
    "adr_dtree_grid = GridSearchCV(adr_dtree, adr_dtree_param,cv=5, return_train_score=True, )\n",
    "adr_dtree_grid.fit(X_train,y_train)"
   ]
  },
  {
   "cell_type": "code",
   "execution_count": 59,
   "metadata": {},
   "outputs": [
    {
     "name": "stdout",
     "output_type": "stream",
     "text": [
      "train mse: 235379896.34787902\n",
      "train rmse: 15342.095565726313\n",
      "train r2: 0.9623020124499386\n",
      "\n",
      "test mse: 894488734.2279433\n",
      "test rmse: 29908.00451765285\n",
      "test r2: 0.8698379324389933\n",
      "\n"
     ]
    }
   ],
   "source": [
    "from sklearn.metrics import mean_squared_error, r2_score\n",
    "from math import sqrt\n",
    "X_train_preds = adr_dtree_grid.predict(X_train)\n",
    "X_test_preds_adtree = adr_dtree_grid.predict(X_test)\n",
    "print('train mse: {}'.format(mean_squared_error(y_train, X_train_preds)))\n",
    "print('train rmse: {}'.format(sqrt(mean_squared_error(y_train, X_train_preds))))\n",
    "print('train r2: {}'.format(r2_score(y_train, X_train_preds)))\n",
    "print()\n",
    "print('test mse: {}'.format(mean_squared_error(y_test, X_test_preds_adtree)))\n",
    "print('test rmse: {}'.format(sqrt(mean_squared_error(y_test, X_test_preds_adtree))))\n",
    "print('test r2: {}'.format(r2_score(y_test, X_test_preds_adtree)))\n",
    "print()"
   ]
  },
  {
   "cell_type": "code",
   "execution_count": 60,
   "metadata": {},
   "outputs": [
    {
     "name": "stdout",
     "output_type": "stream",
     "text": [
      "Best Mean Cross Validation Score is 0.8731237811314138\n",
      "Best Mean Cross Validation Score is {'base_estimator__criterion': 'mse', 'base_estimator__max_depth': 6, 'learning_rate': 2, 'n_estimators': 100}\n",
      "Train score is 0.9623020124499386\n",
      "Test score is 0.8698379324389934\n"
     ]
    }
   ],
   "source": [
    "print(f'Best Mean Cross Validation Score is {adr_dtree_grid.best_score_}')\n",
    "print(f'Best Mean Cross Validation Score is {adr_dtree_grid.best_params_}')\n",
    "print(f'Train score is {adr_dtree_grid.score(X_train,y_train)}')\n",
    "print(f'Test score is {adr_dtree_grid.score(X_test,y_test)}')"
   ]
  },
  {
   "cell_type": "markdown",
   "metadata": {},
   "source": [
    "# GradientBoosting Regressor"
   ]
  },
  {
   "cell_type": "code",
   "execution_count": 69,
   "metadata": {},
   "outputs": [
    {
     "data": {
      "text/plain": [
       "GridSearchCV(cv=5, error_score=nan,\n",
       "             estimator=GradientBoostingRegressor(alpha=0.9, ccp_alpha=0.0,\n",
       "                                                 criterion='friedman_mse',\n",
       "                                                 init=None, learning_rate=0.1,\n",
       "                                                 loss='ls', max_depth=3,\n",
       "                                                 max_features=None,\n",
       "                                                 max_leaf_nodes=None,\n",
       "                                                 min_impurity_decrease=0.0,\n",
       "                                                 min_impurity_split=None,\n",
       "                                                 min_samples_leaf=1,\n",
       "                                                 min_samples_split=2,\n",
       "                                                 min_weight_fraction_leaf=0.0,\n",
       "                                                 n_estimators=100,\n",
       "                                                 n_iter_no_change=None,\n",
       "                                                 presort='deprecated',\n",
       "                                                 random_state=42, subsample=1.0,\n",
       "                                                 tol=0.0001,\n",
       "                                                 validation_fraction=0.1,\n",
       "                                                 verbose=0, warm_start=False),\n",
       "             iid='deprecated', n_jobs=None,\n",
       "             param_grid={'learning_rate': [0.5, 1.0, 2], 'max_depth': [2, 3, 4],\n",
       "                         'n_estimators': [100, 125]},\n",
       "             pre_dispatch='2*n_jobs', refit=True, return_train_score=True,\n",
       "             scoring=None, verbose=0)"
      ]
     },
     "execution_count": 69,
     "metadata": {},
     "output_type": "execute_result"
    }
   ],
   "source": [
    "from  sklearn.ensemble import GradientBoostingRegressor\n",
    "gbc= GradientBoostingRegressor(random_state=42)\n",
    "gbc_param = {\n",
    "              'max_depth' : [2,3,4],\n",
    "              'n_estimators' : [100,125],\n",
    "              'learning_rate' : [0.5,1.0,2],\n",
    "             }\n",
    "gbc_grid = GridSearchCV(gbc, gbc_param,cv=5, return_train_score=True, )\n",
    "gbc_grid.fit(X_train,y_train)"
   ]
  },
  {
   "cell_type": "code",
   "execution_count": 70,
   "metadata": {},
   "outputs": [
    {
     "name": "stdout",
     "output_type": "stream",
     "text": [
      "train mse: 96478319.6971917\n",
      "train rmse: 9822.337791849337\n",
      "train r2: 0.9845482194901631\n",
      "\n",
      "test mse: 800621519.0582533\n",
      "test rmse: 28295.256122860123\n",
      "test r2: 0.8834970768587678\n",
      "\n"
     ]
    }
   ],
   "source": [
    "from sklearn.metrics import mean_squared_error, r2_score\n",
    "from math import sqrt\n",
    "X_train_preds = gbc_grid.predict(X_train)\n",
    "X_test_preds_gbc = gbc_grid.predict(X_test)\n",
    "print('train mse: {}'.format(mean_squared_error(y_train, X_train_preds)))\n",
    "print('train rmse: {}'.format(sqrt(mean_squared_error(y_train, X_train_preds))))\n",
    "print('train r2: {}'.format(r2_score(y_train, X_train_preds)))\n",
    "print()\n",
    "print('test mse: {}'.format(mean_squared_error(y_test, X_test_preds_gbc)))\n",
    "print('test rmse: {}'.format(sqrt(mean_squared_error(y_test, X_test_preds_gbc))))\n",
    "print('test r2: {}'.format(r2_score(y_test, X_test_preds_gbc)))\n",
    "print()"
   ]
  },
  {
   "cell_type": "code",
   "execution_count": 71,
   "metadata": {},
   "outputs": [
    {
     "name": "stdout",
     "output_type": "stream",
     "text": [
      "Best Mean Cross Validation Score is 0.8693214037454589\n",
      "Best Mean Cross Validation Score is {'learning_rate': 0.5, 'max_depth': 3, 'n_estimators': 100}\n",
      "Train score is 0.9845482194901631\n",
      "Test score is 0.8834970768587678\n"
     ]
    }
   ],
   "source": [
    "print(f'Best Mean Cross Validation Score is {gbc_grid.best_score_}')\n",
    "print(f'Best Mean Cross Validation Score is {gbc_grid.best_params_}')\n",
    "print(f'Train score is {gbc_grid.score(X_train,y_train)}')\n",
    "print(f'Test score is {gbc_grid.score(X_test,y_test)}')"
   ]
  },
  {
   "cell_type": "markdown",
   "metadata": {},
   "source": [
    "# XG BOOST"
   ]
  },
  {
   "cell_type": "code",
   "execution_count": 43,
   "metadata": {},
   "outputs": [
    {
     "name": "stdout",
     "output_type": "stream",
     "text": [
      "Collecting xgboost\n",
      "  Downloading https://files.pythonhosted.org/packages/b1/11/cba4be5a737c6431323b89b5ade818b3bbe1df6e8261c6c70221a767c5d9/xgboost-1.0.2-py3-none-win_amd64.whl (24.6MB)\n",
      "Requirement already satisfied: numpy in c:\\users\\tharu\\anaconda3\\lib\\site-packages (from xgboost) (1.16.5)\n",
      "Requirement already satisfied: scipy in c:\\users\\tharu\\anaconda3\\lib\\site-packages (from xgboost) (1.3.1)\n",
      "Installing collected packages: xgboost\n",
      "Successfully installed xgboost-1.0.2\n",
      "Note: you may need to restart the kernel to use updated packages.\n"
     ]
    }
   ],
   "source": [
    "pip install xgboost"
   ]
  },
  {
   "cell_type": "code",
   "execution_count": 42,
   "metadata": {},
   "outputs": [
    {
     "data": {
      "text/plain": [
       "GridSearchCV(cv=5, error_score=nan,\n",
       "             estimator=XGBRegressor(base_score=None, booster=None,\n",
       "                                    colsample_bylevel=None,\n",
       "                                    colsample_bynode=None,\n",
       "                                    colsample_bytree=None, gamma=None,\n",
       "                                    gpu_id=None, importance_type='gain',\n",
       "                                    interaction_constraints=None,\n",
       "                                    learning_rate=None, max_delta_step=None,\n",
       "                                    max_depth=None, min_child_weight=None,\n",
       "                                    missing=nan, monotone_constraints=None,\n",
       "                                    n_estima...\n",
       "                                    random_state=42, reg_alpha=None,\n",
       "                                    reg_lambda=None, scale_pos_weight=None,\n",
       "                                    subsample=None, tree_method=None,\n",
       "                                    validate_parameters=False, verbosity=None),\n",
       "             iid='deprecated', n_jobs=None,\n",
       "             param_grid={'learning_rate': [0.1, 0.15, 0.2, 0.5],\n",
       "                         'max_depth': [2, 4, 5],\n",
       "                         'n_estimators': [50, 100, 150]},\n",
       "             pre_dispatch='2*n_jobs', refit=True, return_train_score=True,\n",
       "             scoring=None, verbose=0)"
      ]
     },
     "execution_count": 42,
     "metadata": {},
     "output_type": "execute_result"
    }
   ],
   "source": [
    "from  xgboost import XGBRegressor\n",
    "xgbc= XGBRegressor(random_state=42,objective= 'reg:squarederror')\n",
    "xgbc_param = {\n",
    "              'max_depth' : [2,4,5],\n",
    "              'n_estimators' : [50,100,150],\n",
    "              'learning_rate' : [0.1,0.15,0.2,0.5],\n",
    "             }\n",
    "xgbc_grid = GridSearchCV(xgbc, xgbc_param,cv=5, return_train_score=True, )\n",
    "xgbc_grid.fit(X_train,y_train)"
   ]
  },
  {
   "cell_type": "code",
   "execution_count": 43,
   "metadata": {},
   "outputs": [
    {
     "name": "stdout",
     "output_type": "stream",
     "text": [
      "train mse: 93617524.17928454\n",
      "train rmse: 9675.614925124115\n",
      "train r2: 0.9850063989502218\n",
      "\n",
      "test mse: 711103391.1673287\n",
      "test rmse: 26666.52191732789\n",
      "test r2: 0.8965233612205606\n",
      "\n"
     ]
    }
   ],
   "source": [
    "from sklearn.metrics import mean_squared_error, r2_score\n",
    "from math import sqrt\n",
    "X_train_preds = xgbc_grid.predict(X_train)\n",
    "X_test_preds_xgbc = xgbc_grid.predict(X_test)\n",
    "print('train mse: {}'.format(mean_squared_error(y_train, X_train_preds)))\n",
    "print('train rmse: {}'.format(sqrt(mean_squared_error(y_train, X_train_preds))))\n",
    "print('train r2: {}'.format(r2_score(y_train, X_train_preds)))\n",
    "print()\n",
    "print('test mse: {}'.format(mean_squared_error(y_test, X_test_preds_xgbc)))\n",
    "print('test rmse: {}'.format(sqrt(mean_squared_error(y_test, X_test_preds_xgbc))))\n",
    "print('test r2: {}'.format(r2_score(y_test, X_test_preds_xgbc)))\n",
    "print()"
   ]
  },
  {
   "cell_type": "code",
   "execution_count": 44,
   "metadata": {},
   "outputs": [
    {
     "name": "stdout",
     "output_type": "stream",
     "text": [
      "Best Mean Cross Validation Score is 0.893126550768711\n",
      "Best Mean Cross Validation Score is {'learning_rate': 0.15, 'max_depth': 4, 'n_estimators': 150}\n",
      "Train score is 0.9850063989502218\n",
      "Test score is 0.8965233612205606\n"
     ]
    }
   ],
   "source": [
    "print(f'Best Mean Cross Validation Score is {xgbc_grid.best_score_}')\n",
    "print(f'Best Mean Cross Validation Score is {xgbc_grid.best_params_}')\n",
    "print(f'Train score is {xgbc_grid.score(X_train,y_train)}')\n",
    "print(f'Test score is {xgbc_grid.score(X_test,y_test)}')"
   ]
  },
  {
   "cell_type": "code",
   "execution_count": null,
   "metadata": {},
   "outputs": [],
   "source": [
    "# Summary"
   ]
  },
  {
   "cell_type": "code",
   "execution_count": 72,
   "metadata": {},
   "outputs": [],
   "source": [
    "regressor={#'lr':lr ,\n",
    "            'SGD':grid_sgd,\n",
    "            'ridge':grid_ridge,\n",
    "            'lasso':grid_lasso,\n",
    "            'elasticnet':grid_elasticnet,\n",
    "            'knn':grid_knn,\n",
    "            'poly':grid_poly,\n",
    "            'dtree':grid_dtree,\n",
    "            'SVR':grid_svr,\n",
    "            'bag_dtree':bag_dtree1_grid,\n",
    "            'paste_dtree':paste_dtree1_grid,\n",
    "            'bag_lasso':bag_lasso_grid,\n",
    "            'paste_lasso': paste_lasso_grid,\n",
    "            'rfr': rfr_grid,\n",
    "            'etr': etr_grid,\n",
    "            'adr_dtree':adr_dtree_grid,\n",
    "            'gbc': gbc_grid,\n",
    "            'xgbc': xgbc_grid}"
   ]
  },
  {
   "cell_type": "code",
   "execution_count": 73,
   "metadata": {},
   "outputs": [
    {
     "data": {
      "text/plain": [
       "dict_keys(['SGD', 'ridge', 'lasso', 'elasticnet', 'knn', 'poly', 'dtree', 'SVR', 'bag_dtree', 'paste_dtree', 'bag_lasso', 'paste_lasso', 'rfr', 'etr', 'adr_dtree', 'gbc', 'xgbc'])"
      ]
     },
     "execution_count": 73,
     "metadata": {},
     "output_type": "execute_result"
    }
   ],
   "source": [
    "regressor.keys()"
   ]
  },
  {
   "cell_type": "code",
   "execution_count": null,
   "metadata": {},
   "outputs": [],
   "source": []
  },
  {
   "cell_type": "code",
   "execution_count": 74,
   "metadata": {},
   "outputs": [],
   "source": [
    "results_mean_std = []\n",
    "for  key, value in regressor.items():\n",
    "    mean = value.cv_results_['mean_test_score'][value.best_index_]\n",
    "    std=value.cv_results_['std_test_score'][value.best_index_]\n",
    "     \n",
    "    results_mean_std.append({\n",
    "        \"model\": key,\n",
    "        \"mean\": mean,\n",
    "        \"std\": std\n",
    "    })"
   ]
  },
  {
   "cell_type": "code",
   "execution_count": 75,
   "metadata": {},
   "outputs": [],
   "source": [
    "# Create a Pandas DataFrame with the mean+std results\n",
    "accuracy_df = pd.DataFrame(results_mean_std, columns=['model', 'mean', 'std'])"
   ]
  },
  {
   "cell_type": "code",
   "execution_count": 76,
   "metadata": {},
   "outputs": [
    {
     "data": {
      "text/html": [
       "<div>\n",
       "<style scoped>\n",
       "    .dataframe tbody tr th:only-of-type {\n",
       "        vertical-align: middle;\n",
       "    }\n",
       "\n",
       "    .dataframe tbody tr th {\n",
       "        vertical-align: top;\n",
       "    }\n",
       "\n",
       "    .dataframe thead th {\n",
       "        text-align: right;\n",
       "    }\n",
       "</style>\n",
       "<table border=\"1\" class=\"dataframe\">\n",
       "  <thead>\n",
       "    <tr style=\"text-align: right;\">\n",
       "      <th></th>\n",
       "      <th>model</th>\n",
       "      <th>mean</th>\n",
       "      <th>std</th>\n",
       "    </tr>\n",
       "  </thead>\n",
       "  <tbody>\n",
       "    <tr>\n",
       "      <td>16</td>\n",
       "      <td>xgbc</td>\n",
       "      <td>8.981993e-01</td>\n",
       "      <td>9.513393e-03</td>\n",
       "    </tr>\n",
       "    <tr>\n",
       "      <td>7</td>\n",
       "      <td>SVR</td>\n",
       "      <td>8.883364e-01</td>\n",
       "      <td>8.717649e-03</td>\n",
       "    </tr>\n",
       "    <tr>\n",
       "      <td>2</td>\n",
       "      <td>lasso</td>\n",
       "      <td>8.861779e-01</td>\n",
       "      <td>1.088112e-02</td>\n",
       "    </tr>\n",
       "    <tr>\n",
       "      <td>10</td>\n",
       "      <td>bag_lasso</td>\n",
       "      <td>8.861093e-01</td>\n",
       "      <td>7.345242e-03</td>\n",
       "    </tr>\n",
       "    <tr>\n",
       "      <td>11</td>\n",
       "      <td>paste_lasso</td>\n",
       "      <td>8.855717e-01</td>\n",
       "      <td>7.198335e-03</td>\n",
       "    </tr>\n",
       "    <tr>\n",
       "      <td>3</td>\n",
       "      <td>elasticnet</td>\n",
       "      <td>8.841709e-01</td>\n",
       "      <td>1.009705e-02</td>\n",
       "    </tr>\n",
       "    <tr>\n",
       "      <td>1</td>\n",
       "      <td>ridge</td>\n",
       "      <td>8.824748e-01</td>\n",
       "      <td>1.372028e-02</td>\n",
       "    </tr>\n",
       "    <tr>\n",
       "      <td>0</td>\n",
       "      <td>SGD</td>\n",
       "      <td>8.775549e-01</td>\n",
       "      <td>1.268620e-02</td>\n",
       "    </tr>\n",
       "    <tr>\n",
       "      <td>8</td>\n",
       "      <td>bag_dtree</td>\n",
       "      <td>8.736356e-01</td>\n",
       "      <td>1.350416e-02</td>\n",
       "    </tr>\n",
       "    <tr>\n",
       "      <td>14</td>\n",
       "      <td>adr_dtree</td>\n",
       "      <td>8.731238e-01</td>\n",
       "      <td>1.341853e-02</td>\n",
       "    </tr>\n",
       "    <tr>\n",
       "      <td>15</td>\n",
       "      <td>gbc</td>\n",
       "      <td>8.693214e-01</td>\n",
       "      <td>1.946227e-02</td>\n",
       "    </tr>\n",
       "    <tr>\n",
       "      <td>12</td>\n",
       "      <td>rfr</td>\n",
       "      <td>8.685494e-01</td>\n",
       "      <td>1.599977e-02</td>\n",
       "    </tr>\n",
       "    <tr>\n",
       "      <td>13</td>\n",
       "      <td>etr</td>\n",
       "      <td>8.674090e-01</td>\n",
       "      <td>1.231287e-02</td>\n",
       "    </tr>\n",
       "    <tr>\n",
       "      <td>9</td>\n",
       "      <td>paste_dtree</td>\n",
       "      <td>8.602598e-01</td>\n",
       "      <td>1.508874e-02</td>\n",
       "    </tr>\n",
       "    <tr>\n",
       "      <td>4</td>\n",
       "      <td>knn</td>\n",
       "      <td>7.858742e-01</td>\n",
       "      <td>2.098588e-02</td>\n",
       "    </tr>\n",
       "    <tr>\n",
       "      <td>6</td>\n",
       "      <td>dtree</td>\n",
       "      <td>7.696908e-01</td>\n",
       "      <td>2.166632e-02</td>\n",
       "    </tr>\n",
       "    <tr>\n",
       "      <td>5</td>\n",
       "      <td>poly</td>\n",
       "      <td>-4.885131e+16</td>\n",
       "      <td>7.938386e+16</td>\n",
       "    </tr>\n",
       "  </tbody>\n",
       "</table>\n",
       "</div>"
      ],
      "text/plain": [
       "          model          mean           std\n",
       "16         xgbc  8.981993e-01  9.513393e-03\n",
       "7           SVR  8.883364e-01  8.717649e-03\n",
       "2         lasso  8.861779e-01  1.088112e-02\n",
       "10    bag_lasso  8.861093e-01  7.345242e-03\n",
       "11  paste_lasso  8.855717e-01  7.198335e-03\n",
       "3    elasticnet  8.841709e-01  1.009705e-02\n",
       "1         ridge  8.824748e-01  1.372028e-02\n",
       "0           SGD  8.775549e-01  1.268620e-02\n",
       "8     bag_dtree  8.736356e-01  1.350416e-02\n",
       "14    adr_dtree  8.731238e-01  1.341853e-02\n",
       "15          gbc  8.693214e-01  1.946227e-02\n",
       "12          rfr  8.685494e-01  1.599977e-02\n",
       "13          etr  8.674090e-01  1.231287e-02\n",
       "9   paste_dtree  8.602598e-01  1.508874e-02\n",
       "4           knn  7.858742e-01  2.098588e-02\n",
       "6         dtree  7.696908e-01  2.166632e-02\n",
       "5          poly -4.885131e+16  7.938386e+16"
      ]
     },
     "execution_count": 76,
     "metadata": {},
     "output_type": "execute_result"
    }
   ],
   "source": [
    "accuracy_df.sort_values(by=['mean'], inplace=True,ascending=False)\n",
    "accuracy_df"
   ]
  },
  {
   "cell_type": "code",
   "execution_count": 77,
   "metadata": {},
   "outputs": [],
   "source": [
    "predictions_all = {}\n",
    "for  key, value in regressor.items():\n",
    "    # Get best estimator\n",
    "    best_model = value.best_estimator_\n",
    "    \n",
    "    # Predict test labels\n",
    "    predictions = best_model.predict(X_test)\n",
    "    \n",
    "    # Save predictions to a list\n",
    "    predictions_all[key] = predictions"
   ]
  },
  {
   "cell_type": "code",
   "execution_count": 78,
   "metadata": {},
   "outputs": [],
   "source": [
    "pred = pd.DataFrame(predictions_all)"
   ]
  },
  {
   "cell_type": "code",
   "execution_count": 79,
   "metadata": {},
   "outputs": [
    {
     "data": {
      "text/plain": [
       "Text(0.5, 1, 'Correlation of the test set label prediction between models')"
      ]
     },
     "execution_count": 79,
     "metadata": {},
     "output_type": "execute_result"
    },
    {
     "data": {
      "image/png": "[encoded data removed]",
      "text/plain": [
       "<Figure size 648x432 with 2 Axes>"
      ]
     },
     "metadata": {
      "needs_background": "light"
     },
     "output_type": "display_data"
    }
   ],
   "source": [
    "# Plot a heatmap of all correlations for easier visualization\n",
    "fig, ax = plt.subplots(nrows=1, ncols=1, figsize=(9,6))\n",
    "g = sns.heatmap(pred.corr(), annot=True, cmap='coolwarm', ax=ax)\n",
    "g.set_title('Correlation of the test set label prediction between models')"
   ]
  },
  {
   "cell_type": "code",
   "execution_count": 80,
   "metadata": {},
   "outputs": [],
   "source": [
    "def get_redundant_pairs(df):\n",
    "    '''Get diagonal and lower triangular pairs of correlation matrix'''\n",
    "    pairs_to_drop = set()\n",
    "    cols = df.columns\n",
    "    for i in range(0, df.shape[1]):\n",
    "        for j in range(0, i+1):\n",
    "            pairs_to_drop.add((cols[i], cols[j]))\n",
    "    return pairs_to_drop\n",
    "\n",
    "def get_top_abs_correlations(df, n=5):\n",
    "    au_corr = df.corr().abs().unstack()\n",
    "    labels_to_drop = get_redundant_pairs(df)\n",
    "    au_corr = au_corr.drop(labels=labels_to_drop).sort_values(ascending=True)\n",
    "    return au_corr[0:n]"
   ]
  },
  {
   "cell_type": "code",
   "execution_count": 81,
   "metadata": {},
   "outputs": [
    {
     "name": "stdout",
     "output_type": "stream",
     "text": [
      "Top Absolute Correlations\n",
      "SGD   poly           0.254128\n",
      "knn   poly           0.259896\n",
      "poly  bag_dtree      0.268966\n",
      "      dtree          0.269478\n",
      "      paste_dtree    0.269865\n",
      "dtype: float64\n"
     ]
    }
   ],
   "source": [
    "print(\"Top Absolute Correlations\")\n",
    "print(get_top_abs_correlations(pred, 5))"
   ]
  },
  {
   "cell_type": "markdown",
   "metadata": {},
   "source": [
    "# Voting Regressor with top 5 model"
   ]
  },
  {
   "cell_type": "code",
   "execution_count": 48,
   "metadata": {},
   "outputs": [],
   "source": [
    "from sklearn.ensemble import VotingRegressor"
   ]
  },
  {
   "cell_type": "code",
   "execution_count": 82,
   "metadata": {},
   "outputs": [],
   "source": [
    "vclf1 = VotingRegressor(estimators=\n",
    "                              [('xgbc', xgbc_grid.best_estimator_), \n",
    "                               ('SVR', grid_svr.best_estimator_), \n",
    "                               ('lasso', grid_lasso.best_estimator_),\n",
    "                               ('paste_lasso', paste_lasso_grid.best_estimator_),\n",
    "                               ('bag_lasso', bag_lasso_grid.best_estimator_)\n",
    "                              ],  )\n",
    "\n",
    "vclf1.fit(X_train,y_train)\n",
    "vclf1_cv = cross_val_score(vclf1, X_train, y_train,cv=3)"
   ]
  },
  {
   "cell_type": "code",
   "execution_count": 83,
   "metadata": {},
   "outputs": [
    {
     "name": "stdout",
     "output_type": "stream",
     "text": [
      "Best Mean Cross Validation Score is 0.9009648953951759\n",
      "Train score is 0.9462678716013416\n",
      "Test score is 0.8923822317453297\n"
     ]
    }
   ],
   "source": [
    "print(f'Best Mean Cross Validation Score is {vclf1_cv.mean()}')\n",
    "\n",
    "print(f'Train score is {vclf1.score(X_train,y_train)}')\n",
    "print(f'Test score is {vclf1.score(X_test,y_test)}')"
   ]
  },
  {
   "cell_type": "code",
   "execution_count": 86,
   "metadata": {},
   "outputs": [
    {
     "name": "stdout",
     "output_type": "stream",
     "text": [
      "train mse: 335494376.0918758\n",
      "train rmse: 18316.505564432202\n",
      "train r2: 0.9462678716013416\n",
      "\n",
      "test mse: 739561710.3380593\n",
      "test rmse: 27194.883900065823\n",
      "test r2: 0.8923822317453297\n",
      "\n"
     ]
    }
   ],
   "source": [
    "X_train_preds = vclf1.predict(X_train)\n",
    "X_test_preds = vclf1.predict(X_test)\n",
    "\n",
    "print('train mse: {}'.format(mean_squared_error(y_train, X_train_preds)))\n",
    "print('train rmse: {}'.format(sqrt(mean_squared_error(y_train, X_train_preds))))\n",
    "print('train r2: {}'.format(r2_score(y_train, X_train_preds)))\n",
    "print()\n",
    "print('test mse: {}'.format(mean_squared_error(y_test, X_test_preds)))\n",
    "print('test rmse: {}'.format(sqrt(mean_squared_error(y_test, X_test_preds))))\n",
    "print('test r2: {}'.format(r2_score(y_test, X_test_preds)))\n",
    "print()"
   ]
  },
  {
   "cell_type": "markdown",
   "metadata": {},
   "source": [
    "# Voting Regressor with least  correlated"
   ]
  },
  {
   "cell_type": "code",
   "execution_count": 84,
   "metadata": {},
   "outputs": [],
   "source": [
    "vclf3 = VotingRegressor(estimators=\n",
    "                              [('dtree', grid_dtree.best_estimator_), \n",
    "                               ('SGD', grid_sgd.best_estimator_), \n",
    "                               ('knn', grid_knn.best_estimator_),\n",
    "                              ], )\n",
    "\n",
    "\n",
    "vclf3.fit(X_train,y_train)\n",
    "vclf3_cv = cross_val_score(vclf3, X_train, y_train,cv=3)"
   ]
  },
  {
   "cell_type": "code",
   "execution_count": 85,
   "metadata": {},
   "outputs": [
    {
     "name": "stdout",
     "output_type": "stream",
     "text": [
      "Best Mean Cross Validation Score is 0.8617610577640494\n",
      "Train score is 0.920145391231533\n",
      "Test score is 0.8677156773282679\n"
     ]
    }
   ],
   "source": [
    "print(f'Best Mean Cross Validation Score is {vclf3_cv.mean()}')\n",
    "\n",
    "print(f'Train score is {vclf3.score(X_train,y_train)}')\n",
    "print(f'Test score is {vclf3.score(X_test,y_test)}')"
   ]
  },
  {
   "cell_type": "markdown",
   "metadata": {},
   "source": [
    "# StackingRegressor with top 5 model"
   ]
  },
  {
   "cell_type": "code",
   "execution_count": 2,
   "metadata": {},
   "outputs": [
    {
     "name": "stdout",
     "output_type": "stream",
     "text": [
      "Requirement already up-to-date: scikit-learn in c:\\users\\tharu\\anaconda3\\lib\\site-packages (0.22.2.post1)\n",
      "Requirement already satisfied, skipping upgrade: joblib>=0.11 in c:\\users\\tharu\\anaconda3\\lib\\site-packages (from scikit-learn) (0.13.2)\n",
      "Requirement already satisfied, skipping upgrade: numpy>=1.11.0 in c:\\users\\tharu\\anaconda3\\lib\\site-packages (from scikit-learn) (1.16.5)\n",
      "Requirement already satisfied, skipping upgrade: scipy>=0.17.0 in c:\\users\\tharu\\anaconda3\\lib\\site-packages (from scikit-learn) (1.3.1)\n",
      "Note: you may need to restart the kernel to use updated packages.\n"
     ]
    }
   ],
   "source": [
    "pip install --upgrade scikit-learn"
   ]
  },
  {
   "cell_type": "code",
   "execution_count": 53,
   "metadata": {},
   "outputs": [],
   "source": [
    "from sklearn.ensemble import StackingRegressor"
   ]
  },
  {
   "cell_type": "code",
   "execution_count": 58,
   "metadata": {},
   "outputs": [
    {
     "data": {
      "text/plain": [
       "GridSearchCV(cv=5, error_score=nan,\n",
       "             estimator=StackingRegressor(cv=None,\n",
       "                                         estimators=[('xgbc',\n",
       "                                                      XGBRegressor(base_score=0.5,\n",
       "                                                                   booster=None,\n",
       "                                                                   colsample_bylevel=1,\n",
       "                                                                   colsample_bynode=1,\n",
       "                                                                   colsample_bytree=1,\n",
       "                                                                   gamma=0,\n",
       "                                                                   gpu_id=-1,\n",
       "                                                                   importance_type='gain',\n",
       "                                                                   interaction_constraints=None,\n",
       "                                                                   learning_rate=0.15,\n",
       "                                                                   max_delta_step=0,\n",
       "                                                                   max_depth=4,\n",
       "                                                                   min_child_weight=1,\n",
       "                                                                   missing=nan,\n",
       "                                                                   monotone_con...\n",
       "                                         n_jobs=None, passthrough=False,\n",
       "                                         verbose=0),\n",
       "             iid='deprecated', n_jobs=None,\n",
       "             param_grid={'final_estimator__learning_rate': [0.1, 0.2, 0.6],\n",
       "                         'final_estimator__max_depth': [2, 6],\n",
       "                         'final_estimator__min_child_weight': [1, 3, 7],\n",
       "                         'final_estimator__n_estimators': [50, 150],\n",
       "                         'final_estimator__subsample': [0.6, 0.9, 1]},\n",
       "             pre_dispatch='2*n_jobs', refit=True, return_train_score=True,\n",
       "             scoring=None, verbose=0)"
      ]
     },
     "execution_count": 58,
     "metadata": {},
     "output_type": "execute_result"
    }
   ],
   "source": [
    "sclf1 = StackingRegressor(estimators=\n",
    "                               [('xgbc', xgbc_grid.best_estimator_), \n",
    "                               ('SVR', grid_svr.best_estimator_), \n",
    "                               ('lasso', grid_lasso.best_estimator_),\n",
    "                               ('paste_lasso', paste_lasso_grid.best_estimator_),\n",
    "                               ('bag_lasso', bag_lasso_grid.best_estimator_)\n",
    "                              ], \n",
    "                                  \n",
    "                           final_estimator=\n",
    "                           XGBRegressor(random_state=42,objective= 'reg:squarederror'))\n",
    "sclf1_param = {\n",
    "              'final_estimator__max_depth' : [2,6],\n",
    "              'final_estimator__n_estimators' : [50,150],\n",
    "              'final_estimator__learning_rate' : [0.1,0.2,0.6],\n",
    "             }\n",
    "\n",
    "\n",
    "sclf1_grid = GridSearchCV(sclf1, sclf1_param,cv=5, return_train_score=True, )\n",
    "sclf1_grid.fit(X_train,y_train)"
   ]
  },
  {
   "cell_type": "code",
   "execution_count": 59,
   "metadata": {},
   "outputs": [
    {
     "name": "stdout",
     "output_type": "stream",
     "text": [
      "Best Mean Cross Validation Score is 0.8899654896029064\n",
      "Best Parameters are {'final_estimator__learning_rate': 0.1, 'final_estimator__max_depth': 2, 'final_estimator__min_child_weight': 1, 'final_estimator__n_estimators': 50, 'final_estimator__subsample': 0.9}\n",
      "Train score is 0.9580369215006383\n",
      "Test score is 0.8805803384022748\n"
     ]
    }
   ],
   "source": [
    "print(f'Best Mean Cross Validation Score is {sclf1_grid.best_score_}')\n",
    "print(f'Best Parameters are {sclf1_grid.best_params_}')\n",
    "print(f'Train score is {sclf1_grid.score(X_train,y_train)}')\n",
    "print(f'Test score is {sclf1_grid.score(X_test,y_test)}')"
   ]
  },
  {
   "cell_type": "markdown",
   "metadata": {},
   "source": [
    "# StackingRegressor with least correlated"
   ]
  },
  {
   "cell_type": "code",
   "execution_count": 60,
   "metadata": {},
   "outputs": [
    {
     "data": {
      "text/plain": [
       "GridSearchCV(cv=5, error_score=nan,\n",
       "             estimator=StackingRegressor(cv=None,\n",
       "                                         estimators=[('dtree',\n",
       "                                                      DecisionTreeRegressor(ccp_alpha=0.0,\n",
       "                                                                            criterion='mse',\n",
       "                                                                            max_depth=6,\n",
       "                                                                            max_features=None,\n",
       "                                                                            max_leaf_nodes=None,\n",
       "                                                                            min_impurity_decrease=0.0,\n",
       "                                                                            min_impurity_split=None,\n",
       "                                                                            min_samples_leaf=1,\n",
       "                                                                            min_samples_split=7,\n",
       "                                                                            min_weight_fraction_leaf=0.0,\n",
       "                                                                            presort='deprecated',\n",
       "                                                                            random_state=0,\n",
       "                                                                            spl...\n",
       "                                         n_jobs=None, passthrough=False,\n",
       "                                         verbose=0),\n",
       "             iid='deprecated', n_jobs=None,\n",
       "             param_grid={'final_estimator__learning_rate': [0.1, 0.2, 0.6],\n",
       "                         'final_estimator__max_depth': [2, 6],\n",
       "                         'final_estimator__min_child_weight': [1, 3, 7],\n",
       "                         'final_estimator__n_estimators': [50, 150],\n",
       "                         'final_estimator__subsample': [0.6, 0.9, 1]},\n",
       "             pre_dispatch='2*n_jobs', refit=True, return_train_score=True,\n",
       "             scoring=None, verbose=0)"
      ]
     },
     "execution_count": 60,
     "metadata": {},
     "output_type": "execute_result"
    }
   ],
   "source": [
    "from  xgboost import XGBRegressor\n",
    "sclf2 = StackingRegressor(estimators=\n",
    "                               [('dtree', grid_dtree.best_estimator_), \n",
    "                               ('SGD', grid_sgd.best_estimator_), \n",
    "                               ('knn', grid_knn.best_estimator_),\n",
    "                              ] , \n",
    "                           final_estimator=\n",
    "                           XGBRegressor(random_state=42,objective= 'reg:squarederror'))\n",
    "sclf2_param = {\n",
    "              'final_estimator__max_depth' : [2,6],\n",
    "              'final_estimator__n_estimators' : [50,150],\n",
    "              'final_estimator__learning_rate' : [0.1,0.2,0.6],\n",
    "              'final_estimator__min_child_weight' : [1,3,7],\n",
    "              'final_estimator__subsample':[0.6,0.9,1],\n",
    "             }\n",
    "sclf2_grid = GridSearchCV(sclf2, sclf2_param,cv=5, return_train_score=True, )\n",
    "sclf2_grid.fit(X_train,y_train)"
   ]
  },
  {
   "cell_type": "code",
   "execution_count": 61,
   "metadata": {},
   "outputs": [
    {
     "name": "stdout",
     "output_type": "stream",
     "text": [
      "Best Mean Cross Validation Score is 0.8855268912193932\n",
      "Best Mean Cross Validation Score is {'final_estimator__learning_rate': 0.1, 'final_estimator__max_depth': 2, 'final_estimator__min_child_weight': 1, 'final_estimator__n_estimators': 50, 'final_estimator__subsample': 0.6}\n",
      "Train score is 0.9079308327940276\n",
      "Test score is 0.8957860319418709\n"
     ]
    }
   ],
   "source": [
    "print(f'Best Mean Cross Validation Score is {sclf2_grid.best_score_}')\n",
    "print(f'Best Mean Cross Validation Score is {sclf2_grid.best_params_}')\n",
    "print(f'Train score is {sclf2_grid.score(X_train,y_train)}')\n",
    "print(f'Test score is {sclf2_grid.score(X_test,y_test)}')"
   ]
  },
  {
   "cell_type": "code",
   "execution_count": null,
   "metadata": {},
   "outputs": [],
   "source": []
  }
 ],
 "metadata": {
  "accelerator": "GPU",
  "colab": {
   "name": "HW2_Regression.ipynb",
   "provenance": []
  },
  "kernelspec": {
   "display_name": "Python 3",
   "language": "python",
   "name": "python3"
  },
  "language_info": {
   "codemirror_mode": {
    "name": "ipython",
    "version": 3
   },
   "file_extension": ".py",
   "mimetype": "text/x-python",
   "name": "python",
   "nbconvert_exporter": "python",
   "pygments_lexer": "ipython3",
   "version": "3.7.4"
  },
  "toc": {
   "base_numbering": 1,
   "nav_menu": {},
   "number_sections": true,
   "sideBar": false,
   "skip_h1_title": false,
   "title_cell": "Table of Contents",
   "title_sidebar": "Contents",
   "toc_cell": false,
   "toc_position": {
    "height": "583px",
    "left": "0px",
    "right": "1324px",
    "top": "107px",
    "width": "211.997px"
   },
   "toc_section_display": false,
   "toc_window_display": false
  },
  "varInspector": {
   "cols": {
    "lenName": 16,
    "lenType": 16,
    "lenVar": 40
   },
   "kernels_config": {
    "python": {
     "delete_cmd_postfix": "",
     "delete_cmd_prefix": "del ",
     "library": "var_list.py",
     "varRefreshCmd": "print(var_dic_list())"
    },
    "r": {
     "delete_cmd_postfix": ") ",
     "delete_cmd_prefix": "rm(",
     "library": "var_list.r",
     "varRefreshCmd": "cat(var_dic_list()) "
    }
   },
   "types_to_exclude": [
    "module",
    "function",
    "builtin_function_or_method",
    "instance",
    "_Feature"
   ],
   "window_display": false
  }
 },
 "nbformat": 4,
 "nbformat_minor": 1
}
