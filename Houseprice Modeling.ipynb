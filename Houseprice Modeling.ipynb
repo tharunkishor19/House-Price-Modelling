{
 "cells": [
  {
   "cell_type": "markdown",
   "metadata": {
    "colab_type": "text",
    "id": "lE0yXRB_HcjJ"
   },
   "source": [
    "# Results\n"
   ]
  },
  {
   "cell_type": "markdown",
   "metadata": {},
   "source": [
    "After running several models Lasso provides the best results for the dataset and the results are shown below:\n",
    "\n",
    "Lasso parameters:  {'alpha': 1048}\n",
    "\n",
    "Best Mean Cross-validation score: 88.61%\n",
    "\n",
    "Lasso Test Performance:  88.66%\n",
    "\n",
    "Lasso Train Performance: 90.50%"
   ]
  },
  {
   "cell_type": "markdown",
   "metadata": {
    "colab_type": "text",
    "id": "JLSXxPkVHcjL"
   },
   "source": [
    "## Data PreProcessing"
   ]
  },
  {
   "cell_type": "code",
   "execution_count": 28,
   "metadata": {
    "ExecuteTime": {
     "end_time": "2020-03-09T07:32:49.555666Z",
     "start_time": "2020-03-09T07:32:49.545638Z"
    },
    "colab": {},
    "colab_type": "code",
    "id": "nDZBLI0OHcjM"
   },
   "outputs": [],
   "source": [
    "from math import sqrt\n",
    "import pandas as pd\n",
    "import numpy as np\n",
    "import matplotlib.pyplot as plt\n",
    "import seaborn as sns\n",
    "import scipy.stats as stats\n",
    "\n",
    "pd.pandas.set_option('display.max_columns', None)\n",
    "%matplotlib inline"
   ]
  },
  {
   "cell_type": "markdown",
   "metadata": {
    "colab_type": "text",
    "id": "Un--XF1EHcjP"
   },
   "source": [
    "### Load Datasets"
   ]
  },
  {
   "cell_type": "code",
   "execution_count": 29,
   "metadata": {
    "ExecuteTime": {
     "end_time": "2020-03-09T07:32:50.854852Z",
     "start_time": "2020-03-09T07:32:50.812739Z"
    },
    "colab": {
     "base_uri": "https://localhost:8080/",
     "height": 34
    },
    "colab_type": "code",
    "id": "SxBWR-txHcjQ",
    "outputId": "16077aac-9368-40b6-8a02-abec2fa1d416"
   },
   "outputs": [],
   "source": [
    "# load dataset\n",
    "# your code here"
   ]
  },
  {
   "cell_type": "code",
   "execution_count": 30,
   "metadata": {
    "colab": {},
    "colab_type": "code",
    "id": "G84r_d5TJJMp"
   },
   "outputs": [],
   "source": [
    "data = pd.read_csv(\"C:/Users/tharu/OneDrive/Desktop/MS-Sem 2/Applied Machine Learning/Lectures/Module -2/houseprice.csv\")"
   ]
  },
  {
   "cell_type": "markdown",
   "metadata": {
    "colab_type": "text",
    "id": "X5-VdSlWHcjT"
   },
   "source": [
    "### Types of variables\n",
    "\n"
   ]
  },
  {
   "cell_type": "code",
   "execution_count": 31,
   "metadata": {
    "ExecuteTime": {
     "end_time": "2020-03-09T07:32:51.725905Z",
     "start_time": "2020-03-09T07:32:51.719889Z"
    },
    "colab": {
     "base_uri": "https://localhost:8080/",
     "height": 51
    },
    "colab_type": "code",
    "id": "Edtt7HVIHcjU",
    "outputId": "1d6d78cb-d8b1-49e2-c2a7-83308690e109"
   },
   "outputs": [
    {
     "name": "stdout",
     "output_type": "stream",
     "text": [
      "Number of House Id labels:  1460\n",
      "Number of Houses in the Dataset:  1460\n"
     ]
    }
   ],
   "source": [
    "# we have an Id variable, that we should not use for predictions:\n",
    "\n",
    "print('Number of House Id labels: ', len(data.Id.unique()))\n",
    "print('Number of Houses in the Dataset: ', len(data))"
   ]
  },
  {
   "cell_type": "markdown",
   "metadata": {
    "colab_type": "text",
    "id": "dIIvDIItHcjZ"
   },
   "source": [
    "#### Find categorical variables"
   ]
  },
  {
   "cell_type": "code",
   "execution_count": 32,
   "metadata": {
    "ExecuteTime": {
     "end_time": "2020-03-09T07:32:53.140553Z",
     "start_time": "2020-03-09T07:32:53.135036Z"
    },
    "colab": {
     "base_uri": "https://localhost:8080/",
     "height": 34
    },
    "colab_type": "code",
    "id": "Sz84zD9yHcjZ",
    "outputId": "aa333254-c4a5-46ff-a8f4-ceb516e3d9ab"
   },
   "outputs": [
    {
     "name": "stdout",
     "output_type": "stream",
     "text": [
      "There are 43 categorical variables\n"
     ]
    }
   ],
   "source": [
    "# find categorical variables- hint data type = 'O'\n",
    "\n",
    "categorical = [var for var in data.columns if data[var].dtype=='O']\n",
    "\n",
    "print(f'There are {len(categorical)} categorical variables')"
   ]
  },
  {
   "cell_type": "markdown",
   "metadata": {
    "colab_type": "text",
    "id": "YNMfYuZXHcjd"
   },
   "source": [
    "#### Find temporal variables"
   ]
  },
  {
   "cell_type": "code",
   "execution_count": 33,
   "metadata": {
    "ExecuteTime": {
     "end_time": "2020-03-09T07:32:54.328164Z",
     "start_time": "2020-03-09T07:32:54.321146Z"
    },
    "colab": {
     "base_uri": "https://localhost:8080/",
     "height": 34
    },
    "colab_type": "code",
    "id": "OclpwzNuHcje",
    "outputId": "60062b7c-f24b-4a5c-f1c7-12255abd9697"
   },
   "outputs": [
    {
     "data": {
      "text/plain": [
       "['YearBuilt', 'YearRemodAdd', 'GarageYrBlt', 'YrSold']"
      ]
     },
     "execution_count": 33,
     "metadata": {},
     "output_type": "execute_result"
    }
   ],
   "source": [
    "# make a list of the numerical variables first= Hint data type != O\n",
    "numerical = [var for var in data.columns if data[var].dtype!='O']\n",
    "\n",
    "# list of variables that contain year information= Hint variable namme has Yr or \n",
    "year_vars = [var for var in numerical if 'Yr' in var or 'Year' in var]\n",
    "\n",
    "year_vars"
   ]
  },
  {
   "cell_type": "markdown",
   "metadata": {
    "colab_type": "text",
    "id": "m8aI9HCNHcjh"
   },
   "source": [
    "#### Find discrete variables\n",
    "\n",
    "To identify discrete variables- numerical variables with less than 20 unique values "
   ]
  },
  {
   "cell_type": "code",
   "execution_count": 34,
   "metadata": {
    "ExecuteTime": {
     "end_time": "2020-03-09T07:32:55.849304Z",
     "start_time": "2020-03-09T07:32:55.835765Z"
    },
    "colab": {
     "base_uri": "https://localhost:8080/",
     "height": 34
    },
    "colab_type": "code",
    "id": "2HlsqGq0Hcji",
    "outputId": "57309ad1-a0dc-4dad-c623-29b5df8c57dc"
   },
   "outputs": [
    {
     "name": "stdout",
     "output_type": "stream",
     "text": [
      "There are 14 discrete variables\n"
     ]
    }
   ],
   "source": [
    "# let's visualise the values of the discrete variables\n",
    "discrete = [var for var in numerical if len(data[var].unique()) < 20 and var not in year_vars]\n",
    "\n",
    "print(f'There are {len(discrete)} discrete variables')"
   ]
  },
  {
   "cell_type": "markdown",
   "metadata": {
    "colab_type": "text",
    "id": "rzDr0xk-Hcjk"
   },
   "source": [
    "#### Continuous variables"
   ]
  },
  {
   "cell_type": "code",
   "execution_count": 35,
   "metadata": {
    "ExecuteTime": {
     "end_time": "2020-03-09T07:32:57.274949Z",
     "start_time": "2020-03-09T07:32:57.268932Z"
    },
    "colab": {
     "base_uri": "https://localhost:8080/",
     "height": 34
    },
    "colab_type": "code",
    "id": "ZOOc_pwAHcjl",
    "outputId": "5c4f9150-150a-4533-e7db-a20cac737333"
   },
   "outputs": [
    {
     "name": "stdout",
     "output_type": "stream",
     "text": [
      "There are 38 numerical and continuous variables\n"
     ]
    }
   ],
   "source": [
    "# find continuous variables- hint numerical variables not in discrete and  year_years \n",
    "# Also remove the Id variable and the target variable SalePrice\n",
    "# which are both also numerical\n",
    "\n",
    "continuous = [var for var in numerical if var not in discrete and var not in [\n",
    "    'Id', 'SalePrice'] and var not in year_vars]\n",
    "\n",
    "print('There are {} numerical and continuous variables'.format(len(numerical)))"
   ]
  },
  {
   "cell_type": "markdown",
   "metadata": {
    "colab_type": "text",
    "id": "GiKAaIDvHcjo"
   },
   "source": [
    "### Separate train and test set"
   ]
  },
  {
   "cell_type": "code",
   "execution_count": 36,
   "metadata": {
    "ExecuteTime": {
     "end_time": "2020-03-09T07:32:58.666697Z",
     "start_time": "2020-03-09T07:32:58.651653Z"
    },
    "colab": {
     "base_uri": "https://localhost:8080/",
     "height": 34
    },
    "colab_type": "code",
    "id": "9-KeS5zNHcjo",
    "outputId": "d407f878-a886-4477-f96b-ebe4168f7832"
   },
   "outputs": [
    {
     "data": {
      "text/plain": [
       "((1314, 79), (146, 79))"
      ]
     },
     "execution_count": 36,
     "metadata": {},
     "output_type": "execute_result"
    }
   ],
   "source": [
    "# Let's separate into train and test set\n",
    "from sklearn.model_selection import train_test_split\n",
    "X_train, X_test, y_train, y_test = train_test_split(data.drop(['Id', 'SalePrice'], axis=1),\n",
    "                                                    data['SalePrice'],\n",
    "                                                    test_size=0.1,\n",
    "                                                    random_state=0)\n",
    "\n",
    "X_train.shape, X_test.shape"
   ]
  },
  {
   "cell_type": "markdown",
   "metadata": {
    "colab_type": "text",
    "id": "p2RW2x6xHcjr"
   },
   "source": [
    "**Now we will move on and engineer the features of this dataset. The most important part for this course.**"
   ]
  },
  {
   "cell_type": "markdown",
   "metadata": {
    "colab_type": "text",
    "id": "5SGmZUBwHcjr"
   },
   "source": [
    "### Craete New Variables\n",
    "\n",
    "Replace 'YearBuilt', 'YearRemodAdd', 'GarageYrBlt  with time elapsed since YrSold\n",
    "So YearBuilt = YrSold-YearBuilt. \n",
    "\n",
    "Similarly transform 'YearRemodAdd', 'GarageYrBlt.\n",
    "After making transformation drop YrSold"
   ]
  },
  {
   "cell_type": "code",
   "execution_count": 37,
   "metadata": {
    "ExecuteTime": {
     "end_time": "2020-03-09T07:33:00.776674Z",
     "start_time": "2020-03-09T07:33:00.771663Z"
    },
    "colab": {},
    "colab_type": "code",
    "id": "Hw0fuHIPHcjs"
   },
   "outputs": [],
   "source": [
    "# function to calculate elapsed time\n",
    "\n",
    "def elapsed_years(df, var):\n",
    "    # capture difference between year variable and\n",
    "    # year the house was sold\n",
    "    \n",
    "    df[var] = df['YrSold'] - df[var]\n",
    "    return df"
   ]
  },
  {
   "cell_type": "code",
   "execution_count": 38,
   "metadata": {
    "ExecuteTime": {
     "end_time": "2020-03-09T07:33:02.547542Z",
     "start_time": "2020-03-09T07:33:02.540522Z"
    },
    "colab": {},
    "colab_type": "code",
    "id": "khN0E7cSHcjv"
   },
   "outputs": [],
   "source": [
    "for var in ['YearBuilt', 'YearRemodAdd', 'GarageYrBlt']:\n",
    "    X_train = elapsed_years(X_train, var)\n",
    "    X_test = elapsed_years(X_test, var)"
   ]
  },
  {
   "cell_type": "code",
   "execution_count": 39,
   "metadata": {
    "ExecuteTime": {
     "end_time": "2020-03-09T07:33:03.567722Z",
     "start_time": "2020-03-09T07:33:03.559698Z"
    },
    "colab": {},
    "colab_type": "code",
    "id": "gf9B9bFaHcjx"
   },
   "outputs": [],
   "source": [
    "# drop YrSold\n",
    "X_train.drop('YrSold', axis=1, inplace=True)\n",
    "X_test.drop('YrSold', axis=1, inplace=True)"
   ]
  },
  {
   "cell_type": "code",
   "execution_count": 40,
   "metadata": {
    "ExecuteTime": {
     "end_time": "2020-03-09T07:33:04.982369Z",
     "start_time": "2020-03-09T07:33:04.978849Z"
    },
    "colab": {},
    "colab_type": "code",
    "id": "ea8uyhC1Hcj1"
   },
   "outputs": [],
   "source": [
    "year_vars.remove('YrSold')"
   ]
  },
  {
   "cell_type": "code",
   "execution_count": 41,
   "metadata": {
    "ExecuteTime": {
     "end_time": "2020-03-09T07:33:05.869066Z",
     "start_time": "2020-03-09T07:33:05.863050Z"
    },
    "colab": {
     "base_uri": "https://localhost:8080/",
     "height": 311
    },
    "colab_type": "code",
    "id": "UhjJt1_XHcj3",
    "outputId": "5be24eb2-de8d-4e34-bf25-8290a59eaafd"
   },
   "outputs": [
    {
     "data": {
      "text/plain": [
       "Index(['MSSubClass', 'MSZoning', 'LotFrontage', 'LotArea', 'Street', 'Alley',\n",
       "       'LotShape', 'LandContour', 'Utilities', 'LotConfig', 'LandSlope',\n",
       "       'Neighborhood', 'Condition1', 'Condition2', 'BldgType', 'HouseStyle',\n",
       "       'OverallQual', 'OverallCond', 'YearBuilt', 'YearRemodAdd', 'RoofStyle',\n",
       "       'RoofMatl', 'Exterior1st', 'Exterior2nd', 'MasVnrType', 'MasVnrArea',\n",
       "       'ExterQual', 'ExterCond', 'Foundation', 'BsmtQual', 'BsmtCond',\n",
       "       'BsmtExposure', 'BsmtFinType1', 'BsmtFinSF1', 'BsmtFinType2',\n",
       "       'BsmtFinSF2', 'BsmtUnfSF', 'TotalBsmtSF', 'Heating', 'HeatingQC',\n",
       "       'CentralAir', 'Electrical', '1stFlrSF', '2ndFlrSF', 'LowQualFinSF',\n",
       "       'GrLivArea', 'BsmtFullBath', 'BsmtHalfBath', 'FullBath', 'HalfBath',\n",
       "       'BedroomAbvGr', 'KitchenAbvGr', 'KitchenQual', 'TotRmsAbvGrd',\n",
       "       'Functional', 'Fireplaces', 'FireplaceQu', 'GarageType', 'GarageYrBlt',\n",
       "       'GarageFinish', 'GarageCars', 'GarageArea', 'GarageQual', 'GarageCond',\n",
       "       'PavedDrive', 'WoodDeckSF', 'OpenPorchSF', 'EnclosedPorch', '3SsnPorch',\n",
       "       'ScreenPorch', 'PoolArea', 'PoolQC', 'Fence', 'MiscFeature', 'MiscVal',\n",
       "       'MoSold', 'SaleType', 'SaleCondition'],\n",
       "      dtype='object')"
      ]
     },
     "execution_count": 41,
     "metadata": {},
     "output_type": "execute_result"
    }
   ],
   "source": [
    "# capture the column names for use later in the notebook\n",
    "final_columns = X_train.columns\n",
    "final_columns"
   ]
  },
  {
   "cell_type": "markdown",
   "metadata": {
    "colab_type": "text",
    "id": "16E-jN70Hcj5"
   },
   "source": [
    "### Feature Engineering Pipeline"
   ]
  },
  {
   "cell_type": "code",
   "execution_count": 42,
   "metadata": {
    "ExecuteTime": {
     "end_time": "2020-03-09T07:33:07.930697Z",
     "start_time": "2020-03-09T07:33:07.909638Z"
    },
    "colab": {},
    "colab_type": "code",
    "id": "lg7SQ66jHcj6"
   },
   "outputs": [],
   "source": [
    "# I will treat discrete variables as if they were categorical\n",
    "# to treat discrete as categorical using Feature-engine\n",
    "# we need to re-cast them as object\n",
    "\n",
    "X_train[discrete] = X_train[discrete].astype('O')\n",
    "X_test[discrete] = X_test[discrete].astype('O')"
   ]
  },
  {
   "cell_type": "code",
   "execution_count": 43,
   "metadata": {
    "colab": {
     "base_uri": "https://localhost:8080/",
     "height": 713
    },
    "colab_type": "code",
    "id": "rg4C3BTuLWhf",
    "outputId": "9111185e-d0f7-48b3-a27f-a0bd60aa8984"
   },
   "outputs": [
    {
     "name": "stdout",
     "output_type": "stream",
     "text": [
      "Requirement already satisfied: feature_engine in c:\\users\\tharu\\anaconda3\\envs\\buan6341_2020\\lib\\site-packages (0.3.1)\n",
      "Requirement already satisfied: statsmodels>=0.8.0 in c:\\users\\tharu\\anaconda3\\envs\\buan6341_2020\\lib\\site-packages (from feature_engine) (0.10.1)\n",
      "Requirement already satisfied: numpy>=1.12.1 in c:\\users\\tharu\\anaconda3\\envs\\buan6341_2020\\lib\\site-packages (from feature_engine) (1.17.4)\n",
      "Requirement already satisfied: scikit-learn>=0.18.1 in c:\\users\\tharu\\anaconda3\\envs\\buan6341_2020\\lib\\site-packages (from feature_engine) (0.22.1)\n",
      "Requirement already satisfied: scipy>=0.19.0 in c:\\users\\tharu\\anaconda3\\envs\\buan6341_2020\\lib\\site-packages (from feature_engine) (1.4.1)\n",
      "Requirement already satisfied: pandas>=0.23.0 in c:\\users\\tharu\\anaconda3\\envs\\buan6341_2020\\lib\\site-packages (from feature_engine) (0.25.3)\n",
      "Requirement already satisfied: numpydoc>=0.6.0 in c:\\users\\tharu\\anaconda3\\envs\\buan6341_2020\\lib\\site-packages (from feature_engine) (0.9.2)\n",
      "Requirement already satisfied: patsy>=0.4.0 in c:\\users\\tharu\\anaconda3\\envs\\buan6341_2020\\lib\\site-packages (from statsmodels>=0.8.0->feature_engine) (0.5.1)\n",
      "Requirement already satisfied: joblib>=0.11 in c:\\users\\tharu\\anaconda3\\envs\\buan6341_2020\\lib\\site-packages (from scikit-learn>=0.18.1->feature_engine) (0.14.1)\n",
      "Requirement already satisfied: pytz>=2017.2 in c:\\users\\tharu\\anaconda3\\envs\\buan6341_2020\\lib\\site-packages (from pandas>=0.23.0->feature_engine) (2019.3)\n",
      "Requirement already satisfied: python-dateutil>=2.6.1 in c:\\users\\tharu\\anaconda3\\envs\\buan6341_2020\\lib\\site-packages (from pandas>=0.23.0->feature_engine) (2.8.1)\n",
      "Requirement already satisfied: Jinja2>=2.3 in c:\\users\\tharu\\anaconda3\\envs\\buan6341_2020\\lib\\site-packages (from numpydoc>=0.6.0->feature_engine) (2.11.1)\n",
      "Requirement already satisfied: sphinx>=1.6.5 in c:\\users\\tharu\\anaconda3\\envs\\buan6341_2020\\lib\\site-packages (from numpydoc>=0.6.0->feature_engine) (2.3.1)\n",
      "Requirement already satisfied: six in c:\\users\\tharu\\anaconda3\\envs\\buan6341_2020\\lib\\site-packages (from patsy>=0.4.0->statsmodels>=0.8.0->feature_engine) (1.13.0)\n",
      "Requirement already satisfied: MarkupSafe>=0.23 in c:\\users\\tharu\\anaconda3\\envs\\buan6341_2020\\lib\\site-packages (from Jinja2>=2.3->numpydoc>=0.6.0->feature_engine) (1.1.1)\n",
      "Requirement already satisfied: snowballstemmer>=1.1 in c:\\users\\tharu\\anaconda3\\envs\\buan6341_2020\\lib\\site-packages (from sphinx>=1.6.5->numpydoc>=0.6.0->feature_engine) (2.0.0)\n",
      "Requirement already satisfied: colorama>=0.3.5; sys_platform == \"win32\" in c:\\users\\tharu\\anaconda3\\envs\\buan6341_2020\\lib\\site-packages (from sphinx>=1.6.5->numpydoc>=0.6.0->feature_engine) (0.4.3)\n",
      "Requirement already satisfied: Pygments>=2.0 in c:\\users\\tharu\\anaconda3\\envs\\buan6341_2020\\lib\\site-packages (from sphinx>=1.6.5->numpydoc>=0.6.0->feature_engine) (2.5.2)\n",
      "Requirement already satisfied: sphinxcontrib-serializinghtml in c:\\users\\tharu\\anaconda3\\envs\\buan6341_2020\\lib\\site-packages (from sphinx>=1.6.5->numpydoc>=0.6.0->feature_engine) (1.1.3)\n",
      "Requirement already satisfied: alabaster<0.8,>=0.7 in c:\\users\\tharu\\anaconda3\\envs\\buan6341_2020\\lib\\site-packages (from sphinx>=1.6.5->numpydoc>=0.6.0->feature_engine) (0.7.12)\n",
      "Requirement already satisfied: sphinxcontrib-jsmath in c:\\users\\tharu\\anaconda3\\envs\\buan6341_2020\\lib\\site-packages (from sphinx>=1.6.5->numpydoc>=0.6.0->feature_engine) (1.0.1)\n",
      "Requirement already satisfied: sphinxcontrib-applehelp in c:\\users\\tharu\\anaconda3\\envs\\buan6341_2020\\lib\\site-packages (from sphinx>=1.6.5->numpydoc>=0.6.0->feature_engine) (1.0.1)\n",
      "Requirement already satisfied: imagesize in c:\\users\\tharu\\anaconda3\\envs\\buan6341_2020\\lib\\site-packages (from sphinx>=1.6.5->numpydoc>=0.6.0->feature_engine) (1.2.0)\n",
      "Requirement already satisfied: sphinxcontrib-devhelp in c:\\users\\tharu\\anaconda3\\envs\\buan6341_2020\\lib\\site-packages (from sphinx>=1.6.5->numpydoc>=0.6.0->feature_engine) (1.0.1)\n",
      "Requirement already satisfied: docutils>=0.12 in c:\\users\\tharu\\anaconda3\\envs\\buan6341_2020\\lib\\site-packages (from sphinx>=1.6.5->numpydoc>=0.6.0->feature_engine) (0.16)\n",
      "Requirement already satisfied: setuptools in c:\\users\\tharu\\anaconda3\\envs\\buan6341_2020\\lib\\site-packages (from sphinx>=1.6.5->numpydoc>=0.6.0->feature_engine) (44.0.0.post20200106)\n",
      "Requirement already satisfied: babel!=2.0,>=1.3 in c:\\users\\tharu\\anaconda3\\envs\\buan6341_2020\\lib\\site-packages (from sphinx>=1.6.5->numpydoc>=0.6.0->feature_engine) (2.8.0)\n",
      "Requirement already satisfied: sphinxcontrib-qthelp in c:\\users\\tharu\\anaconda3\\envs\\buan6341_2020\\lib\\site-packages (from sphinx>=1.6.5->numpydoc>=0.6.0->feature_engine) (1.0.2)\n",
      "Requirement already satisfied: requests>=2.5.0 in c:\\users\\tharu\\anaconda3\\envs\\buan6341_2020\\lib\\site-packages (from sphinx>=1.6.5->numpydoc>=0.6.0->feature_engine) (2.22.0)\n",
      "Requirement already satisfied: sphinxcontrib-htmlhelp in c:\\users\\tharu\\anaconda3\\envs\\buan6341_2020\\lib\\site-packages (from sphinx>=1.6.5->numpydoc>=0.6.0->feature_engine) (1.0.2)\n",
      "Requirement already satisfied: packaging in c:\\users\\tharu\\anaconda3\\envs\\buan6341_2020\\lib\\site-packages (from sphinx>=1.6.5->numpydoc>=0.6.0->feature_engine) (20.1)\n",
      "Requirement already satisfied: chardet<3.1.0,>=3.0.2 in c:\\users\\tharu\\anaconda3\\envs\\buan6341_2020\\lib\\site-packages (from requests>=2.5.0->sphinx>=1.6.5->numpydoc>=0.6.0->feature_engine) (3.0.4)\n",
      "Requirement already satisfied: urllib3!=1.25.0,!=1.25.1,<1.26,>=1.21.1 in c:\\users\\tharu\\anaconda3\\envs\\buan6341_2020\\lib\\site-packages (from requests>=2.5.0->sphinx>=1.6.5->numpydoc>=0.6.0->feature_engine) (1.25.8)\n",
      "Requirement already satisfied: certifi>=2017.4.17 in c:\\users\\tharu\\anaconda3\\envs\\buan6341_2020\\lib\\site-packages (from requests>=2.5.0->sphinx>=1.6.5->numpydoc>=0.6.0->feature_engine) (2019.11.28)\n",
      "Requirement already satisfied: idna<2.9,>=2.5 in c:\\users\\tharu\\anaconda3\\envs\\buan6341_2020\\lib\\site-packages (from requests>=2.5.0->sphinx>=1.6.5->numpydoc>=0.6.0->feature_engine) (2.8)\n",
      "Requirement already satisfied: pyparsing>=2.0.2 in c:\\users\\tharu\\anaconda3\\envs\\buan6341_2020\\lib\\site-packages (from packaging->sphinx>=1.6.5->numpydoc>=0.6.0->feature_engine) (2.4.6)\n",
      "Note: you may need to restart the kernel to use updated packages.\n"
     ]
    }
   ],
   "source": [
    "pip install feature_engine"
   ]
  },
  {
   "cell_type": "code",
   "execution_count": 44,
   "metadata": {
    "ExecuteTime": {
     "end_time": "2020-03-09T07:33:10.023580Z",
     "start_time": "2020-03-09T07:33:10.018569Z"
    },
    "colab": {},
    "colab_type": "code",
    "id": "Fo9ZdxxNHcj8"
   },
   "outputs": [],
   "source": [
    "# import relevant modules for feature engineering\n",
    "from sklearn.pipeline import Pipeline\n",
    "from sklearn.preprocessing import StandardScaler\n",
    "from feature_engine import missing_data_imputers as mdi\n",
    "from feature_engine import categorical_encoders as ce\n",
    "from feature_engine.variable_transformers import YeoJohnsonTransformer\n",
    "from sklearn.preprocessing import StandardScaler\n",
    "from feature_engine.discretisers import DecisionTreeDiscretiser"
   ]
  },
  {
   "cell_type": "code",
   "execution_count": 45,
   "metadata": {
    "ExecuteTime": {
     "end_time": "2020-03-09T07:33:11.578215Z",
     "start_time": "2020-03-09T07:33:11.570194Z"
    },
    "colab": {},
    "colab_type": "code",
    "id": "2R5Dk2l4Hcj-"
   },
   "outputs": [],
   "source": [
    "house_preprocess = Pipeline([\n",
    "    \n",
    "    # missing data imputation \n",
    "    ('missing_ind', mdi.AddNaNBinaryImputer(\n",
    "        variables=['LotFrontage', 'MasVnrArea',  'GarageYrBlt'])),\n",
    "    ('imputer_num', mdi.MeanMedianImputer(imputation_method='mean',\n",
    "                                          variables=['LotFrontage', 'MasVnrArea',  'GarageYrBlt'])),\n",
    "    ('imputer_cat', mdi.CategoricalVariableImputer(variables=categorical)),\n",
    "\n",
    "    # categorical encoding \n",
    "     ('rare_label_enc', ce.RareLabelCategoricalEncoder(\n",
    "         tol=0.01,n_categories=6, variables=categorical+discrete)),\n",
    "    ('categorical_enc', ce.MeanCategoricalEncoder(variables = categorical + discrete)),\n",
    "     \n",
    "    # Transforming Numerical Variables\n",
    "    ('yjt', YeoJohnsonTransformer(variables = ['LotFrontage','MasVnrArea', 'GarageYrBlt'])),\n",
    "\n",
    "    \n",
    "    # discretisation and encoding\n",
    "    ('treeDisc',  DecisionTreeDiscretiser(cv=2, scoring='neg_mean_squared_error',\n",
    "                                   regression=True,\n",
    "                                   param_grid={'max_depth': [1,2,3,4,5,6]})),\n",
    "\n",
    "    # feature Scaling\n",
    "    ('scaler', StandardScaler()),\n",
    "    \n",
    "    \n",
    "\n",
    "])"
   ]
  },
  {
   "cell_type": "code",
   "execution_count": 46,
   "metadata": {
    "ExecuteTime": {
     "end_time": "2020-03-09T07:33:18.934597Z",
     "start_time": "2020-03-09T07:33:15.096006Z"
    },
    "colab": {
     "base_uri": "https://localhost:8080/",
     "height": 502
    },
    "colab_type": "code",
    "id": "PQeB-LBfHckA",
    "outputId": "908d00ac-7b24-4678-9a6c-4bca789ddf71"
   },
   "outputs": [
    {
     "data": {
      "text/plain": [
       "Pipeline(memory=None,\n",
       "         steps=[('missing_ind',\n",
       "                 AddNaNBinaryImputer(variables=['LotFrontage', 'MasVnrArea',\n",
       "                                                'GarageYrBlt'])),\n",
       "                ('imputer_num',\n",
       "                 MeanMedianImputer(imputation_method='mean',\n",
       "                                   variables=['LotFrontage', 'MasVnrArea',\n",
       "                                              'GarageYrBlt'])),\n",
       "                ('imputer_cat',\n",
       "                 CategoricalVariableImputer(variables=['MSZoning', 'Street',\n",
       "                                                       'Alley', 'LotShape',\n",
       "                                                       'LandContour',\n",
       "                                                       'Utilities', '...\n",
       "                                                    'Utilities', 'LotConfig',\n",
       "                                                    'LandSlope', 'Neighborhood',\n",
       "                                                    'Condition1', 'Condition2',\n",
       "                                                    'BldgType', 'HouseStyle',\n",
       "                                                    'OverallQual',\n",
       "                                                    'OverallCond', 'YearBuilt',\n",
       "                                                    'YearRemodAdd', 'RoofStyle',\n",
       "                                                    'RoofMatl', 'Exterior1st',\n",
       "                                                    'Exterior2nd', 'MasVnrType',\n",
       "                                                    'MasVnrArea', 'ExterQual',\n",
       "                                                    'ExterCond', 'Foundation',\n",
       "                                                    'BsmtQual', ...])),\n",
       "                ('scaler',\n",
       "                 StandardScaler(copy=True, with_mean=True, with_std=True))],\n",
       "         verbose=False)"
      ]
     },
     "execution_count": 46,
     "metadata": {},
     "output_type": "execute_result"
    }
   ],
   "source": [
    "house_preprocess.fit(X_train,y_train)"
   ]
  },
  {
   "cell_type": "code",
   "execution_count": 47,
   "metadata": {
    "ExecuteTime": {
     "end_time": "2020-03-09T07:33:21.351997Z",
     "start_time": "2020-03-09T07:33:20.885744Z"
    },
    "colab": {},
    "colab_type": "code",
    "id": "mZA506JqHckE"
   },
   "outputs": [],
   "source": [
    "# Apply Transformations\n",
    "X_train=house_preprocess.transform(X_train)\n",
    "X_test=house_preprocess.transform(X_test)"
   ]
  },
  {
   "cell_type": "markdown",
   "metadata": {
    "ExecuteTime": {
     "end_time": "2020-03-09T04:00:12.095764Z",
     "start_time": "2020-03-09T04:00:12.093253Z"
    },
    "colab_type": "text",
    "id": "B0TpLf4wHckH"
   },
   "source": [
    "## Regression Models- Tune different models one by one"
   ]
  },
  {
   "cell_type": "code",
   "execution_count": 48,
   "metadata": {},
   "outputs": [],
   "source": [
    "import warnings\n",
    "warnings.filterwarnings('ignore')"
   ]
  },
  {
   "cell_type": "markdown",
   "metadata": {},
   "source": [
    "# Linear Regression with Cross val"
   ]
  },
  {
   "cell_type": "code",
   "execution_count": 49,
   "metadata": {
    "ExecuteTime": {
     "end_time": "2020-03-09T07:33:23.368390Z",
     "start_time": "2020-03-09T07:33:23.292686Z"
    },
    "colab": {
     "base_uri": "https://localhost:8080/",
     "height": 450
    },
    "colab_type": "code",
    "id": "MYI4slL3HckI",
    "outputId": "1fdaefd3-dd2e-4b81-c865-573ecb116de6"
   },
   "outputs": [
    {
     "name": "stdout",
     "output_type": "stream",
     "text": [
      "Cross-validation scores: [ 8.76542321e-01 -5.50178080e+23  8.94787033e-01]\n",
      "Mean Cross-validation scores: -183392693292153526288384.00\n",
      "lr.coef_: [ 8.74692295e+02  9.72879918e+02  1.43598424e+03  2.41530789e+03\n",
      "  1.55922446e+03  3.31539942e+02  5.84804509e+02  1.20332634e+03\n",
      "  1.48520143e+03  2.33009441e+03  1.17630965e+03  1.13744157e+04\n",
      "  1.26748073e+03  2.03977054e+03  1.11272495e+03 -1.03635447e+03\n",
      "  1.58434519e+04 -2.93676378e+02 -5.41610661e+03  3.98221701e+03\n",
      "  3.68590080e+02 -1.04048824e+03  3.19187631e+03 -2.39551624e+03\n",
      " -8.64923875e+02  2.87894951e+02  2.67846806e+03  7.08957253e+02\n",
      "  1.02948711e+02  2.34865476e+03  5.71438886e+02  3.60875596e+03\n",
      "  1.23986809e+03  5.64889112e+03 -1.47594682e+03  1.93575359e+03\n",
      " -2.70259491e+02  7.61385836e+03  2.15847425e+02  1.45627677e+03\n",
      "  1.18463265e+03 -7.40189368e+02  1.22327269e+04  1.12776771e+04\n",
      "  4.16965516e+03  5.78069444e+03  2.85514634e+03 -1.32019971e+03\n",
      "  4.18391534e+03  5.24407111e+03  6.05123160e+02  3.06070473e+03\n",
      "  3.74704855e+03  3.12566418e+03  3.00668621e+03  7.39921004e+02\n",
      "  1.47372348e+03 -2.02172925e+03 -2.06185250e+03 -9.59751477e+02\n",
      "  3.96677470e+03  5.95143306e+02  2.35990761e+03  8.70466742e+01\n",
      " -2.74000854e+00  1.36487372e+03  1.54321076e+03  8.69710870e+01\n",
      "  2.25820825e+03  2.63005237e+03 -6.53223334e+16  6.53223334e+16\n",
      " -3.37438686e+02 -2.02954558e+03  7.48388039e+02 -1.84439200e+02\n",
      " -1.32180507e+03  5.48778019e+03 -2.13173046e+02  2.78063957e+02\n",
      " -1.29361336e+02]\n",
      "lr.intercept_: 181040.6240487064\n",
      "LR Performance Test:  0.8750157906112974\n"
     ]
    }
   ],
   "source": [
    "\n",
    "#Linear Regression with Cross val\n",
    "from sklearn.linear_model import LinearRegression\n",
    "from sklearn.model_selection import cross_val_score\n",
    "\n",
    "\n",
    "lr = LinearRegression().fit(X_train, y_train)\n",
    "cv_scores = cross_val_score(lr, X_train, y_train,cv=3)\n",
    "\n",
    "# Mean Cross validation Score\n",
    "print(\"Cross-validation scores: {}\".format(cv_scores))\n",
    "print(\"Mean Cross-validation scores: {:.2f}\".format(cv_scores.mean()))\n",
    "# Print Co-efficients\n",
    "print(\"lr.coef_:\", lr.coef_)\n",
    "print(\"lr.intercept_:\", lr.intercept_)\n",
    "\n",
    "# Check test data set performance\n",
    "print(\"LR Performance Test: \", lr.score(X_test,y_test))\n"
   ]
  },
  {
   "cell_type": "markdown",
   "metadata": {},
   "source": [
    "## Linear Regression with SGD and cross validation"
   ]
  },
  {
   "cell_type": "code",
   "execution_count": 50,
   "metadata": {
    "colab": {
     "base_uri": "https://localhost:8080/",
     "height": 450
    },
    "colab_type": "code",
    "id": "K0117r9cHckK",
    "outputId": "4774d02f-6875-44b9-e63b-e7370e8b4c9d"
   },
   "outputs": [
    {
     "name": "stdout",
     "output_type": "stream",
     "text": [
      "Cross-validation scores: [0.86124974 0.88779009]\n",
      "Mean Cross-validation scores: 0.8745199134958315\n",
      "lr.coef_: [  770.9348899    941.06650267  1577.68212881  2437.14161925\n",
      "  1859.16972791   415.23418883   480.63109964  1224.90962257\n",
      "  1481.47162386  2417.68940026   919.11353591 11557.97564088\n",
      "  1511.43603974  2446.86020361   899.46431389 -1131.16411756\n",
      " 15826.95943569  -229.65524507 -5143.57850428  4005.72207858\n",
      "   553.03987212  -698.62478132  3150.68871604 -2052.09837307\n",
      "  -641.47878547   102.81864424  2706.29739266   853.60837667\n",
      "  -109.39576131  2468.2736187    504.00066741  3442.27170692\n",
      "  1179.6486113   5560.60751743 -1647.6221293   1896.72049254\n",
      "  -225.35549057  8019.3017401    102.71527379  1486.55316522\n",
      "  1291.83484427  -737.79376026 12436.08141618 11294.3446184\n",
      "  4759.05575972  5913.88563226  2545.35659818 -1461.3773921\n",
      "  4459.9378136   5117.04174257   689.09391386  2901.45268157\n",
      "  3736.79712654  3390.00833819  2960.67101983   822.99366855\n",
      "  1673.3592507  -2056.58898251 -2143.38646722 -1053.27648746\n",
      "  4363.66206582   581.20729877  2601.44725731   286.12373657\n",
      "   121.98863808  1432.78995051  1478.15373814   193.3223424\n",
      "  2636.17573597  2700.30101353  -554.1774883   -554.1774883\n",
      "  -190.22049205 -2046.33563031   616.2489413    -51.34609029\n",
      "  -617.87900867  5119.64032093  -190.20596593   341.74900524\n",
      "    23.61471304]\n",
      "lr.intercept_: [180954.48947874]\n",
      "LR Performance Test:  0.9104223392612565\n"
     ]
    }
   ],
   "source": [
    "\n",
    "#Linear Regression with SGD and cross validation\n",
    "\n",
    "from sklearn.linear_model import LinearRegression\n",
    "from sklearn.model_selection import cross_val_score\n",
    "from sklearn.linear_model import SGDRegressor\n",
    "\n",
    "sgd=SGDRegressor(max_iter=1000, tol = 1e-5, eta0=0.01)\n",
    "sgd.fit(X_train, y_train)\n",
    "cv_scores = cross_val_score(sgd, X_train, y_train,cv=2)\n",
    "# Mean Cross validation Score\n",
    "print(\"Cross-validation scores: {}\".format(cv_scores))\n",
    "print(\"Mean Cross-validation scores: {}\".format(cv_scores.mean()))\n",
    "# Print Co-efficients\n",
    "print(\"lr.coef_:\", sgd.coef_)\n",
    "print(\"lr.intercept_:\", sgd.intercept_)\n",
    "\n",
    "# Check test data set performance\n",
    "print(\"LR Performance Test: \", sgd.score(X_train,y_train))"
   ]
  },
  {
   "cell_type": "markdown",
   "metadata": {},
   "source": [
    "## Linear Regression with SGD and GridSearchCv"
   ]
  },
  {
   "cell_type": "code",
   "execution_count": 51,
   "metadata": {
    "colab": {
     "base_uri": "https://localhost:8080/",
     "height": 433
    },
    "colab_type": "code",
    "id": "ED7w3adMHckL",
    "outputId": "18f8f893-928d-46b2-a41c-2820ca81b890"
   },
   "outputs": [
    {
     "name": "stdout",
     "output_type": "stream",
     "text": [
      "train mse: 692584040.0558541\n",
      "train rmse: 26316.991470452205\n",
      "train r2: 0.8890770837930482\n",
      "\n",
      "test mse: 1075038011.726254\n",
      "test rmse: 32787.77228977678\n",
      "test r2: 0.8435651954479455\n",
      "\n",
      "Best parameters: {'sgd_reg__eta0': 0.1}\n",
      "Best cross-validation score: -763056882.65\n",
      "\n",
      "Best estimator:\n",
      "Pipeline(memory=None,\n",
      "         steps=[('scaler', MinMaxScaler(copy=True, feature_range=(0, 1))),\n",
      "                ('sgd_reg',\n",
      "                 SGDRegressor(alpha=0.0001, average=False, early_stopping=False,\n",
      "                              epsilon=0.1, eta0=0.1, fit_intercept=True,\n",
      "                              l1_ratio=0.15, learning_rate='invscaling',\n",
      "                              loss='squared_loss', max_iter=10000,\n",
      "                              n_iter_no_change=5, penalty='l2', power_t=0.25,\n",
      "                              random_state=None, shuffle=True, tol=1e-06,\n",
      "                              validation_fraction=0.1, verbose=0,\n",
      "                              warm_start=False))],\n",
      "         verbose=False)\n"
     ]
    }
   ],
   "source": [
    "# Linear Regression with SGD and GridSearchCv\n",
    "\n",
    "from sklearn.linear_model import LinearRegression\n",
    "from sklearn.model_selection import cross_val_score\n",
    "from sklearn.linear_model import SGDRegressor\n",
    "from sklearn.model_selection import GridSearchCV\n",
    "from sklearn.preprocessing import MinMaxScaler\n",
    "from sklearn.pipeline import Pipeline\n",
    "from sklearn.metrics import mean_squared_error, r2_score\n",
    "from math import sqrt\n",
    "\n",
    "\n",
    "reg_sgd_pipe = Pipeline([\n",
    "\n",
    "    # feature Scaling\n",
    "    ('scaler', MinMaxScaler()),\n",
    "    # regression\n",
    "    ('sgd_reg', SGDRegressor(max_iter=10000, tol = 1e-6))\n",
    "])\n",
    "\n",
    "param_sgd = {'sgd_reg__eta0':[0.01, 0.05, 0.1 ,0.5]}\n",
    "grid_sgd = GridSearchCV(reg_sgd_pipe, param_sgd,cv=5, n_jobs=-1, return_train_score = True,scoring='neg_mean_squared_error')\n",
    "grid_sgd.fit(X_train, y_train)\n",
    "\n",
    "X_train_preds = grid_sgd.predict(X_train)\n",
    "X_test_preds = grid_sgd.predict(X_test)\n",
    "\n",
    "print('train mse: {}'.format(mean_squared_error(y_train, X_train_preds)))\n",
    "print('train rmse: {}'.format(sqrt(mean_squared_error(y_train, X_train_preds))))\n",
    "print('train r2: {}'.format(r2_score(y_train, X_train_preds)))\n",
    "print()\n",
    "print('test mse: {}'.format(mean_squared_error(y_test, X_test_preds)))\n",
    "print('test rmse: {}'.format(sqrt(mean_squared_error(y_test, X_test_preds))))\n",
    "print('test r2: {}'.format(r2_score(y_test, X_test_preds)))\n",
    "print()\n",
    "\n",
    "print(\"Best parameters: {}\".format(grid_sgd.best_params_))\n",
    "print(\"Best cross-validation score: {:.2f}\".format(grid_sgd.best_score_))\n",
    "print()\n",
    "print(\"Best estimator:\\n{}\".format(grid_sgd.best_estimator_))"
   ]
  },
  {
   "cell_type": "markdown",
   "metadata": {},
   "source": [
    "# Ridge regression"
   ]
  },
  {
   "cell_type": "code",
   "execution_count": 52,
   "metadata": {
    "ExecuteTime": {
     "end_time": "2020-03-09T07:33:32.923175Z",
     "start_time": "2020-03-09T07:33:32.720114Z"
    },
    "colab": {
     "base_uri": "https://localhost:8080/",
     "height": 467
    },
    "colab_type": "code",
    "id": "Dz8BQXylHckN",
    "outputId": "65910a17-4504-4640-987b-f31bbb6144f2"
   },
   "outputs": [
    {
     "name": "stdout",
     "output_type": "stream",
     "text": [
      "Best Mean Cross-validation score: 0.8824748308049819\n",
      "\n",
      "Ridge parameters:  {'alpha': 10.0}\n",
      "Ridge.coef_: [ 8.29549172e+02  1.00520329e+03  1.41907291e+03  2.45597808e+03\n",
      "  1.56476556e+03  3.15846034e+02  5.91322052e+02  1.20599829e+03\n",
      "  1.48362551e+03  2.32371115e+03  1.20526043e+03  1.11935611e+04\n",
      "  1.26236156e+03  2.05403204e+03  1.12076053e+03 -9.72818777e+02\n",
      "  1.54617799e+04 -3.19815798e+02 -5.01931325e+03  3.85901413e+03\n",
      "  4.23980960e+02 -9.99184855e+02  2.93013237e+03 -2.14991039e+03\n",
      " -8.68642665e+02  3.53138591e+02  2.78127261e+03  7.02910945e+02\n",
      "  2.89525147e+01  2.39174264e+03  5.55247534e+02  3.58250149e+03\n",
      "  1.27614162e+03  5.69204212e+03 -1.44936748e+03  1.91368069e+03\n",
      " -2.68899524e+02  7.66517621e+03  1.95080463e+02  1.45940911e+03\n",
      "  1.20773749e+03 -7.11187851e+02  1.20416757e+04  1.11416366e+04\n",
      "  4.12582377e+03  5.86228267e+03  2.79856151e+03 -1.28528512e+03\n",
      "  4.13908324e+03  5.16003152e+03  6.18912987e+02  3.04868546e+03\n",
      "  3.80554780e+03  3.21918000e+03  3.00001538e+03  7.99009564e+02\n",
      "  1.51420311e+03 -1.95776439e+03 -2.03247504e+03 -9.56082962e+02\n",
      "  3.89120107e+03  7.22233210e+02  2.27160118e+03  1.57811160e+02\n",
      " -5.40333012e-01  1.35395688e+03  1.54414351e+03  5.48618097e+01\n",
      "  2.23607328e+03  2.62457597e+03 -6.13105168e+02 -6.13105168e+02\n",
      " -3.44498853e+02 -1.97120025e+03  7.08024719e+02 -1.76855495e+02\n",
      " -9.89353404e+02  5.10137326e+03 -2.21909537e+02  2.86086727e+02\n",
      " -9.95782697e+01]\n",
      "Ridge.intercept_: 181040.6240487064\n",
      "Ridge Test Performance:  0.8750998049852778\n"
     ]
    }
   ],
   "source": [
    "from sklearn.model_selection import GridSearchCV\n",
    "from sklearn.linear_model import Ridge\n",
    "ridge = Ridge()\n",
    "\n",
    "\n",
    "#define a list of parameters\n",
    "param_ridge = {'alpha':np.logspace(-4,1,30)}\n",
    "\n",
    "grid_ridge = GridSearchCV(ridge, param_ridge, cv=4, return_train_score = True)\n",
    "grid_ridge.fit(X_train, y_train)\n",
    "\n",
    "# Mean Cross Validation Score\n",
    "print(\"Best Mean Cross-validation score: {}\".format(grid_ridge.best_score_))\n",
    "\n",
    "print()\n",
    "\n",
    "#find best parameters\n",
    "print('Ridge parameters: ', grid_ridge.best_params_)\n",
    "\n",
    "# print co-eff\n",
    "\n",
    "print(\"Ridge.coef_:\", grid_ridge.best_estimator_.coef_)\n",
    "print(\"Ridge.intercept_:\", grid_ridge.best_estimator_.intercept_)\n",
    "\n",
    "# Check test data set performance\n",
    "\n",
    "print(\"Ridge Test Performance: \", grid_ridge.score(X_test,y_test))"
   ]
  },
  {
   "cell_type": "markdown",
   "metadata": {},
   "source": [
    "# Lasso regression"
   ]
  },
  {
   "cell_type": "code",
   "execution_count": 53,
   "metadata": {
    "ExecuteTime": {
     "end_time": "2020-03-09T07:33:38.130469Z",
     "start_time": "2020-03-09T07:33:37.468173Z"
    },
    "colab": {
     "base_uri": "https://localhost:8080/",
     "height": 467
    },
    "colab_type": "code",
    "id": "adgrXhY3HckQ",
    "outputId": "80663e87-3ea6-4f32-f5f8-c6a5ceb866f6"
   },
   "outputs": [
    {
     "name": "stdout",
     "output_type": "stream",
     "text": [
      "Best Mean Cross-validation score: 0.8861779353224504\n",
      "\n",
      "Lasso parameters:  {'alpha': 1048.1131341546852}\n",
      "Lasso.coef_: [ 4.98696002e+02  7.57017519e+02  5.90379777e+02  2.95246614e+03\n",
      "  3.46289623e+02  0.00000000e+00  2.22483500e+02  5.51470410e+02\n",
      "  1.72744436e+02  1.42355195e+03  6.88994713e+02  1.06998115e+04\n",
      "  3.88019570e+02  1.27196643e+03  1.05218376e+03  0.00000000e+00\n",
      "  1.60919646e+04 -0.00000000e+00 -0.00000000e+00  2.51095187e+03\n",
      "  0.00000000e+00 -0.00000000e+00  0.00000000e+00  0.00000000e+00\n",
      "  0.00000000e+00  0.00000000e+00  1.72759469e+03  0.00000000e+00\n",
      " -0.00000000e+00  1.22854720e+03  0.00000000e+00  3.01660427e+03\n",
      "  0.00000000e+00  6.23338056e+03 -0.00000000e+00  8.76217415e+02\n",
      " -0.00000000e+00  8.15480315e+03  0.00000000e+00  4.28630003e+02\n",
      "  9.67409601e+02  0.00000000e+00  1.20342814e+04  1.13569827e+04\n",
      "  2.63429944e+03  6.08850239e+03  2.23450454e+03 -2.30186553e+02\n",
      "  2.06467024e+03  3.82770997e+03  2.79840542e+02  1.75612416e+03\n",
      "  4.08797263e+03  2.58396561e+03  1.60883287e+03  1.30907265e+03\n",
      "  1.12467260e+03  0.00000000e+00 -0.00000000e+00  0.00000000e+00\n",
      "  3.65241083e+03  0.00000000e+00  9.32758469e+02  0.00000000e+00\n",
      "  0.00000000e+00  6.85171260e+02  6.46751539e+02  0.00000000e+00\n",
      "  1.74519762e+03  1.77549858e+03 -3.58675388e+02 -7.61926764e-12\n",
      " -0.00000000e+00 -1.61976161e+02 -0.00000000e+00 -0.00000000e+00\n",
      "  0.00000000e+00  2.39987268e+03  0.00000000e+00  0.00000000e+00\n",
      "  0.00000000e+00]\n",
      "Lasso.intercept_: 181040.62404870632\n",
      "Lasso Train Performance:  0.9050044494616056\n",
      "Lasso Test Performance:  0.8866617392399055\n"
     ]
    }
   ],
   "source": [
    "from sklearn.linear_model import Lasso\n",
    "lasso = Lasso(random_state=42)\n",
    "\n",
    "#define a list of parameters\n",
    "param_lasso = {'alpha':np.logspace(-4,4,50) }\n",
    "\n",
    "grid_lasso = GridSearchCV(lasso, param_lasso, cv=4, return_train_score = True)\n",
    "grid_lasso.fit(X_train, y_train)\n",
    "\n",
    "# Mean Cross Validation Score\n",
    "print(\"Best Mean Cross-validation score: {:}\".format(grid_lasso.best_score_))\n",
    "print()\n",
    "\n",
    "#find best parameters\n",
    "print('Lasso parameters: ', grid_lasso.best_params_)\n",
    "\n",
    "# print co-eff\n",
    "\n",
    "print(\"Lasso.coef_:\", grid_lasso.best_estimator_.coef_)\n",
    "print(\"Lasso.intercept_:\", grid_lasso.best_estimator_.intercept_)\n",
    "\n",
    "# Check test data set performance\n",
    "print(\"Lasso Train Performance: \", grid_lasso.score(X_train,y_train))\n",
    "print(\"Lasso Test Performance: \", grid_lasso.score(X_test,y_test))"
   ]
  },
  {
   "cell_type": "markdown",
   "metadata": {},
   "source": [
    "# ElasticNet"
   ]
  },
  {
   "cell_type": "code",
   "execution_count": 54,
   "metadata": {
    "colab": {
     "base_uri": "https://localhost:8080/",
     "height": 1000
    },
    "colab_type": "code",
    "id": "VgnE-B-EHckR",
    "outputId": "62efd5f6-d164-4473-f564-537522fea6df"
   },
   "outputs": [
    {
     "name": "stdout",
     "output_type": "stream",
     "text": [
      "Training set score:  0.9094017502609215\n",
      "Test score:  0.8716313335123038\n",
      "Best parameters:  {'alpha': 0.18873918221350977, 'l1_ratio': 0.4}\n",
      "Best cross-validation score: 0.8841708558036789\n"
     ]
    }
   ],
   "source": [
    "#ElasticNet\n",
    "from sklearn.linear_model import ElasticNet\n",
    "from sklearn.model_selection import GridSearchCV\n",
    "elasticnet = ElasticNet()\n",
    "\n",
    "\n",
    "param_elasticnet = {'alpha':np.logspace(-4,1,30), 'l1_ratio' :[0.1,0.2,0.3,0.4]}\n",
    "\n",
    "grid_elasticnet = GridSearchCV(elasticnet , param_elasticnet, cv=5, return_train_score = True)\n",
    "grid_elasticnet.fit(X_train, y_train)\n",
    "\n",
    "grid_elasticnet_train_score = grid_elasticnet.score(X_train, y_train)\n",
    "grid_elasticnet_test_score = grid_elasticnet.score(X_test, y_test)\n",
    "\n",
    "print('Training set score: ', grid_elasticnet_train_score)\n",
    "print('Test score: ', grid_elasticnet_test_score)\n",
    "\n",
    "#find best parameters\n",
    "print('Best parameters: ', grid_elasticnet.best_params_)\n",
    "print('Best cross-validation score:', grid_elasticnet.best_score_)"
   ]
  },
  {
   "cell_type": "markdown",
   "metadata": {},
   "source": [
    "# KNN Regressor"
   ]
  },
  {
   "cell_type": "code",
   "execution_count": 32,
   "metadata": {
    "colab": {
     "base_uri": "https://localhost:8080/",
     "height": 86
    },
    "colab_type": "code",
    "id": "3vB8KdAnHckU",
    "outputId": "e86009a7-fcd3-4184-ed78-4ab14a758e56"
   },
   "outputs": [
    {
     "name": "stdout",
     "output_type": "stream",
     "text": [
      "train score:  0.8516070137143069\n",
      "test score:  0.7587863099604379\n",
      "Best parameters:  {'knnreg__n_neighbors': 6}\n",
      "Best cross-validation score: 0.78587417331835\n"
     ]
    }
   ],
   "source": [
    "#KNN\n",
    "from sklearn.neighbors import KNeighborsRegressor\n",
    "from sklearn.preprocessing import MinMaxScaler\n",
    "from sklearn.pipeline import make_pipeline\n",
    "from sklearn.model_selection import GridSearchCV\n",
    "\n",
    "pipe_knn=Pipeline([ \n",
    "    ('scaler',MinMaxScaler()),\n",
    "    ('knnreg', KNeighborsRegressor())\n",
    "    \n",
    "])\n",
    "\n",
    "param_knn = {'knnreg__n_neighbors': range(1,8)}\n",
    "\n",
    "#apply grid search\n",
    "grid_knn = GridSearchCV(pipe_knn, param_knn, cv=5, return_train_score=True)\n",
    "grid_knn.fit(X_train, y_train)\n",
    "\n",
    "print('train score: ', grid_knn.score(X_train, y_train))\n",
    "print('test score: ', grid_knn.score(X_test, y_test))\n",
    "\n",
    "#find best parameters\n",
    "print('Best parameters: ', grid_knn.best_params_)\n",
    "print('Best cross-validation score:', grid_knn.best_score_)\n",
    "\n"
   ]
  },
  {
   "cell_type": "markdown",
   "metadata": {},
   "source": [
    "# Polynomial Regression "
   ]
  },
  {
   "cell_type": "code",
   "execution_count": 44,
   "metadata": {
    "colab": {
     "base_uri": "https://localhost:8080/",
     "height": 227
    },
    "colab_type": "code",
    "id": "MStQxz9_HckX",
    "outputId": "f67820e3-9caf-454a-a2d5-7ac702fff981"
   },
   "outputs": [
    {
     "name": "stderr",
     "output_type": "stream",
     "text": [
      "/usr/local/lib/python3.6/dist-packages/joblib/externals/loky/process_executor.py:706: UserWarning: A worker stopped while some jobs were given to the executor. This can be caused by a too short worker timeout or by a memory leak.\n",
      "  \"timeout or by a memory leak.\", UserWarning\n"
     ]
    },
    {
     "name": "stdout",
     "output_type": "stream",
     "text": [
      "train mse: 27492.40537606851\n",
      "train rmse: 165.8083392838506\n",
      "train r2: 0.9999955968696916\n",
      "\n",
      "test mse: 1.2179477524995892e+24\n",
      "test rmse: 1103606701909.5115\n",
      "test r2: -177230401658953.0\n",
      "Best parameters:  {'polynomialfeatures__degree': 2}\n",
      "Best cross validation score:  -8.290251389947242e+25\n"
     ]
    }
   ],
   "source": [
    "#Polynomial \n",
    "from sklearn.model_selection import GridSearchCV\n",
    "from sklearn.preprocessing  import PolynomialFeatures\n",
    "from sklearn.pipeline import make_pipeline\n",
    "from sklearn.linear_model import LinearRegression\n",
    "from sklearn.pipeline import Pipeline\n",
    "from sklearn.preprocessing import MinMaxScaler\n",
    "from sklearn.metrics import mean_squared_error, r2_score\n",
    "from math import sqrt\n",
    "\n",
    "\n",
    "pipe_poly=Pipeline([ \n",
    "    ('polynomialfeatures', PolynomialFeatures()),\n",
    "    ('norm_reg', LinearRegression())\n",
    "    \n",
    "])\n",
    "#define a list of parameters\n",
    "param_poly = {'polynomialfeatures__degree':range(1,4)}\n",
    "\n",
    "grid_poly = GridSearchCV(pipe_poly, param_poly,cv=5, n_jobs=-1, return_train_score = True,scoring='neg_mean_squared_error')\n",
    "\n",
    "\n",
    "grid_poly.fit(X_train, y_train)\n",
    "\n",
    "# let's get the predictions\n",
    "X_train_preds = grid_poly.predict(X_train)\n",
    "X_test_preds = grid_poly.predict(X_test)\n",
    "\n",
    "# check model performance:\n",
    "\n",
    "print('train mse: {}'.format(mean_squared_error(y_train, X_train_preds)))\n",
    "print('train rmse: {}'.format(sqrt(mean_squared_error(y_train, X_train_preds))))\n",
    "print('train r2: {}'.format(r2_score(y_train, X_train_preds)))\n",
    "print()\n",
    "print('test mse: {}'.format(mean_squared_error(y_test, X_test_preds)))\n",
    "print('test rmse: {}'.format(sqrt(mean_squared_error(y_test, X_test_preds))))\n",
    "print('test r2: {}'.format(r2_score(y_test, X_test_preds)))\n",
    "\n",
    "#find best parameters\n",
    "print('Best parameters: ', grid_poly.best_params_)\n",
    "print('Best cross validation score: ', grid_poly.best_score_)"
   ]
  },
  {
   "cell_type": "markdown",
   "metadata": {},
   "source": [
    "# Decision Tree Regressor"
   ]
  },
  {
   "cell_type": "code",
   "execution_count": 56,
   "metadata": {
    "colab": {
     "base_uri": "https://localhost:8080/",
     "height": 86
    },
    "colab_type": "code",
    "id": "wTkInuKXQ2qL",
    "outputId": "aa297e93-bfe0-4e8d-c0bd-b83d66a45bc2",
    "scrolled": true
   },
   "outputs": [
    {
     "name": "stdout",
     "output_type": "stream",
     "text": [
      "Best Mean Cross-validation score: 0.77\n",
      "\n",
      "Decision Tree parameters:  {'criterion': 'mse', 'max_depth': 6, 'min_samples_split': 7}\n",
      "Decision Tree Performance:  0.7946089841830359\n"
     ]
    }
   ],
   "source": [
    "from sklearn.tree import DecisionTreeRegressor\n",
    "dtree = DecisionTreeRegressor(random_state=0)\n",
    "\n",
    "#define a list of parameters\n",
    "param_dtree = {'max_depth': range(1,10),'min_samples_split':range(2,10,1),'criterion':['mse','mae']}\n",
    "\n",
    "#apply grid search\n",
    "grid_dtree = GridSearchCV(dtree, param_dtree, cv=5, return_train_score = True)\n",
    "grid_dtree.fit(X_train, y_train)\n",
    "\n",
    "# Mean Cross Validation Score\n",
    "print(\"Best Mean Cross-validation score: {:.2f}\".format(grid_dtree.best_score_))\n",
    "print()\n",
    "\n",
    "#find best parameters\n",
    "print('Decision Tree parameters: ', grid_dtree.best_params_)\n",
    "\n",
    "# Check test data set performance\n",
    "print(\"Decision Tree Performance: \", grid_dtree.score(X_test,y_test))"
   ]
  },
  {
   "cell_type": "markdown",
   "metadata": {},
   "source": [
    "# SVR"
   ]
  },
  {
   "cell_type": "code",
   "execution_count": 24,
   "metadata": {
    "colab": {
     "base_uri": "https://localhost:8080/",
     "height": 86
    },
    "colab_type": "code",
    "id": "rVlGmqt9HckZ",
    "outputId": "f70ffa12-00c8-4af7-bd61-4c911138909c"
   },
   "outputs": [
    {
     "name": "stdout",
     "output_type": "stream",
     "text": [
      "train score:  0.9016336525800952\n",
      "test score:  0.8702806425506886\n",
      "Best parameters: {'C': 10, 'degree': 1, 'gamma': 100, 'kernel': 'poly'}\n",
      "Best cross-validation score: 0.8883364269292818\n"
     ]
    }
   ],
   "source": [
    "from sklearn.svm import SVR\n",
    "from sklearn.model_selection import GridSearchCV\n",
    "svr=SVR()\n",
    "param_grid = [{'kernel': ['rbf'],\n",
    "               'C': [0.001, 0.01, 0.1, 1,10],\n",
    "               'gamma': [ 0.01, 0.1, 1,10,100]},\n",
    "              {'kernel': ['poly'],\n",
    "               'degree':[1,2],\n",
    "               'C': [0.001, 0.01, 0.1, 1,10],\n",
    "               'gamma': [ 0.01, 0.1, 1,10,100]},\n",
    "              {'kernel': ['sigmoid'],\n",
    "               'C': [0.001, 0.01, 0.1, 1,10],\n",
    "               'gamma': [ 0.01, 0.1, 1,10,100]}]\n",
    "grid_svr = GridSearchCV(svr, param_grid, cv=3,\n",
    "                          return_train_score=True)\n",
    "grid_svr.fit(X_train, y_train)\n",
    "print('train score: ', grid_svr.score(X_train, y_train))\n",
    "print('test score: ', grid_svr.score(X_test, y_test))\n",
    "print(\"Best parameters: {}\".format(grid_svr.best_params_))\n",
    "print(\"Best cross-validation score: {:}\".format(grid_svr.best_score_))"
   ]
  },
  {
   "cell_type": "markdown",
   "metadata": {
    "ExecuteTime": {
     "end_time": "2020-03-09T03:59:33.754940Z",
     "start_time": "2020-03-09T03:59:33.751933Z"
    },
    "colab_type": "text",
    "id": "6F2xFFNXHckb"
   },
   "source": [
    "# Tune Multiple Models with one GridSearch"
   ]
  },
  {
   "cell_type": "code",
   "execution_count": 55,
   "metadata": {
    "ExecuteTime": {
     "end_time": "2020-03-09T07:33:43.119468Z",
     "start_time": "2020-03-09T07:33:43.115457Z"
    },
    "colab": {},
    "colab_type": "code",
    "id": "Btvs34p9Hckc"
   },
   "outputs": [],
   "source": [
    "model_gs = Pipeline([(\"regressor\", LinearRegression())])\n"
   ]
  },
  {
   "cell_type": "code",
   "execution_count": 56,
   "metadata": {
    "ExecuteTime": {
     "end_time": "2020-03-09T07:33:44.906746Z",
     "start_time": "2020-03-09T07:33:44.900729Z"
    },
    "colab": {},
    "colab_type": "code",
    "id": "1PnWyksJHcke"
   },
   "outputs": [],
   "source": [
    "model_parm_gd = [\n",
    "    { 'regressor': [LinearRegression()]},\n",
    "    \n",
    "    { 'regressor': [Ridge()],\n",
    "      'regressor__alpha':np.logspace(-4,10,30) },\n",
    "    \n",
    "    { 'regressor': [Lasso(random_state=42)],\n",
    "      'regressor__alpha':np.logspace(-4,4,50)}\n",
    "\n",
    "    \n",
    "\n",
    "    \n",
    " \n",
    "]"
   ]
  },
  {
   "cell_type": "code",
   "execution_count": 57,
   "metadata": {
    "ExecuteTime": {
     "end_time": "2020-03-09T07:33:46.478370Z",
     "start_time": "2020-03-09T07:33:46.475362Z"
    },
    "colab": {},
    "colab_type": "code",
    "id": "f6yqzmDbHckg"
   },
   "outputs": [],
   "source": [
    "\n",
    "grid_search_house_pipe = GridSearchCV(model_gs, model_parm_gd,cv=4)\n"
   ]
  },
  {
   "cell_type": "code",
   "execution_count": 58,
   "metadata": {
    "ExecuteTime": {
     "end_time": "2020-03-09T07:33:48.862449Z",
     "start_time": "2020-03-09T07:33:47.915915Z"
    },
    "colab": {
     "base_uri": "https://localhost:8080/",
     "height": 381
    },
    "colab_type": "code",
    "id": "CrHCqnlnHckh",
    "outputId": "e6b9fb65-9edc-495a-879c-3247ba68dfb7"
   },
   "outputs": [
    {
     "data": {
      "text/plain": [
       "GridSearchCV(cv=4, error_score=nan,\n",
       "             estimator=Pipeline(memory=None,\n",
       "                                steps=[('regressor',\n",
       "                                        LinearRegression(copy_X=True,\n",
       "                                                         fit_intercept=True,\n",
       "                                                         n_jobs=None,\n",
       "                                                         normalize=False))],\n",
       "                                verbose=False),\n",
       "             iid='deprecated', n_jobs=None,\n",
       "             param_grid=[{'regressor': [LinearRegression(copy_X=True,\n",
       "                                                         fit_intercept=True,\n",
       "                                                         n_jobs=None,\n",
       "                                                         normalize=False)]},\n",
       "                         {'regressor': [Ridge(alpha=1.0, copy_X=...\n",
       "       1.67683294e+01, 2.44205309e+01, 3.55648031e+01, 5.17947468e+01,\n",
       "       7.54312006e+01, 1.09854114e+02, 1.59985872e+02, 2.32995181e+02,\n",
       "       3.39322177e+02, 4.94171336e+02, 7.19685673e+02, 1.04811313e+03,\n",
       "       1.52641797e+03, 2.22299648e+03, 3.23745754e+03, 4.71486636e+03,\n",
       "       6.86648845e+03, 1.00000000e+04])}],\n",
       "             pre_dispatch='2*n_jobs', refit=True, return_train_score=False,\n",
       "             scoring=None, verbose=0)"
      ]
     },
     "execution_count": 58,
     "metadata": {},
     "output_type": "execute_result"
    }
   ],
   "source": [
    "grid_search_house_pipe.fit(X_train,y_train)"
   ]
  },
  {
   "cell_type": "code",
   "execution_count": 59,
   "metadata": {
    "ExecuteTime": {
     "end_time": "2020-03-09T07:33:50.694053Z",
     "start_time": "2020-03-09T07:33:50.690545Z"
    },
    "colab": {
     "base_uri": "https://localhost:8080/",
     "height": 69
    },
    "colab_type": "code",
    "id": "mAhJw-1XHckl",
    "outputId": "76b9fc53-8ec4-4852-a95a-e9acfe1eefca"
   },
   "outputs": [
    {
     "name": "stdout",
     "output_type": "stream",
     "text": [
      "{'regressor': Lasso(alpha=1048.1131341546852, copy_X=True, fit_intercept=True, max_iter=1000,\n",
      "      normalize=False, positive=False, precompute=False, random_state=42,\n",
      "      selection='cyclic', tol=0.0001, warm_start=False), 'regressor__alpha': 1048.1131341546852}\n"
     ]
    }
   ],
   "source": [
    "print(grid_search_house_pipe.best_params_)"
   ]
  },
  {
   "cell_type": "code",
   "execution_count": 60,
   "metadata": {
    "ExecuteTime": {
     "end_time": "2020-03-09T07:33:51.930133Z",
     "start_time": "2020-03-09T07:33:51.922105Z"
    },
    "colab": {},
    "colab_type": "code",
    "id": "cpCFlExZHckn"
   },
   "outputs": [],
   "source": [
    "# let's get the predictions\n",
    "X_train_preds = grid_search_house_pipe.predict(X_train)\n",
    "X_test_preds = grid_search_house_pipe.predict(X_test)"
   ]
  },
  {
   "cell_type": "code",
   "execution_count": 61,
   "metadata": {
    "ExecuteTime": {
     "end_time": "2020-03-09T07:33:54.122514Z",
     "start_time": "2020-03-09T07:33:54.118504Z"
    },
    "colab": {
     "base_uri": "https://localhost:8080/",
     "height": 34
    },
    "colab_type": "code",
    "id": "zNaQ_2ICHckp",
    "outputId": "defac9db-e61f-421d-cec8-8148a421af71"
   },
   "outputs": [
    {
     "name": "stdout",
     "output_type": "stream",
     "text": [
      "Best Mean Cross-validation score: 0.8861779353224504\n"
     ]
    }
   ],
   "source": [
    "print(\"Best Mean Cross-validation score: {}\".format(grid_search_house_pipe.best_score_))"
   ]
  },
  {
   "cell_type": "code",
   "execution_count": 62,
   "metadata": {
    "ExecuteTime": {
     "end_time": "2020-03-09T07:33:56.073138Z",
     "start_time": "2020-03-09T07:33:56.060105Z"
    },
    "colab": {
     "base_uri": "https://localhost:8080/",
     "height": 138
    },
    "colab_type": "code",
    "id": "IkDS7Zz3Hckq",
    "outputId": "af5f508b-968b-4f24-ee70-aa420c91d289"
   },
   "outputs": [
    {
     "name": "stdout",
     "output_type": "stream",
     "text": [
      "train mse: 593136246.5846152\n",
      "train rmse: 24354.388651424106\n",
      "train r2: 0.9050044494616056\n",
      "\n",
      "test mse: 778873594.3317508\n",
      "test rmse: 27908.306905503076\n",
      "test r2: 0.8866617392399055\n"
     ]
    }
   ],
   "source": [
    "# check model performance:\n",
    "from sklearn.metrics import mean_squared_error\n",
    "from sklearn.metrics import r2_score\n",
    "\n",
    "print('train mse: {}'.format(mean_squared_error(y_train, X_train_preds)))\n",
    "print('train rmse: {}'.format(sqrt(mean_squared_error(y_train, X_train_preds))))\n",
    "print('train r2: {}'.format(r2_score(y_train, X_train_preds)))\n",
    "print()\n",
    "print('test mse: {}'.format(mean_squared_error(y_test, X_test_preds)))\n",
    "print('test rmse: {}'.format(sqrt(mean_squared_error(y_test, X_test_preds))))\n",
    "print('test r2: {}'.format(r2_score(y_test, X_test_preds)))"
   ]
  }
 ],
 "metadata": {
  "accelerator": "GPU",
  "colab": {
   "name": "HW2_Regression.ipynb",
   "provenance": []
  },
  "kernelspec": {
   "display_name": "Python 3",
   "language": "python",
   "name": "python3"
  },
  "language_info": {
   "codemirror_mode": {
    "name": "ipython",
    "version": 3
   },
   "file_extension": ".py",
   "mimetype": "text/x-python",
   "name": "python",
   "nbconvert_exporter": "python",
   "pygments_lexer": "ipython3",
   "version": "3.7.4"
  },
  "toc": {
   "base_numbering": 1,
   "nav_menu": {},
   "number_sections": true,
   "sideBar": false,
   "skip_h1_title": false,
   "title_cell": "Table of Contents",
   "title_sidebar": "Contents",
   "toc_cell": false,
   "toc_position": {
    "height": "583px",
    "left": "0px",
    "right": "1324px",
    "top": "107px",
    "width": "211.997px"
   },
   "toc_section_display": false,
   "toc_window_display": false
  },
  "varInspector": {
   "cols": {
    "lenName": 16,
    "lenType": 16,
    "lenVar": 40
   },
   "kernels_config": {
    "python": {
     "delete_cmd_postfix": "",
     "delete_cmd_prefix": "del ",
     "library": "var_list.py",
     "varRefreshCmd": "print(var_dic_list())"
    },
    "r": {
     "delete_cmd_postfix": ") ",
     "delete_cmd_prefix": "rm(",
     "library": "var_list.r",
     "varRefreshCmd": "cat(var_dic_list()) "
    }
   },
   "types_to_exclude": [
    "module",
    "function",
    "builtin_function_or_method",
    "instance",
    "_Feature"
   ],
   "window_display": false
  }
 },
 "nbformat": 4,
 "nbformat_minor": 1
}
